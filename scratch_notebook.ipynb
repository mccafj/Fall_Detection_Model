{
 "cells": [
  {
   "cell_type": "code",
   "execution_count": null,
   "id": "8a0f7e03",
   "metadata": {},
   "outputs": [],
   "source": [
    "# scratch notebook"
   ]
  },
  {
   "cell_type": "code",
   "execution_count": 1,
   "id": "bf3f95df",
   "metadata": {},
   "outputs": [],
   "source": [
    "# can any of these be deleted for the final notebook?\n",
    "\n",
    "import pandas as pd\n",
    "import numpy as np\n",
    "import matplotlib.pyplot as plt\n",
    "import seaborn as sns\n",
    "%matplotlib inline\n",
    "\n",
    "from sklearn.dummy import DummyClassifier\n",
    "from sklearn.linear_model import Ridge, Lasso, ElasticNet, LinearRegression,\\\n",
    "LassoCV, RidgeCV, ElasticNetCV, LogisticRegression\n",
    "\n",
    "from sklearn.model_selection import train_test_split, cross_validate, KFold, \\\n",
    "cross_val_score, GridSearchCV, RandomizedSearchCV\n",
    "from sklearn.preprocessing import StandardScaler, OneHotEncoder, PolynomialFeatures, \\\n",
    "FunctionTransformer\n",
    "from sklearn.metrics import mean_squared_error, r2_score, confusion_matrix, \\\n",
    "precision_score, recall_score, accuracy_score, f1_score, \\\n",
    "log_loss, roc_curve, roc_auc_score, classification_report \n",
    "\n",
    "from sklearn.tree import DecisionTreeClassifier, DecisionTreeRegressor\n",
    "from sklearn import tree\n",
    "from sklearn.neighbors import KNeighborsClassifier\n",
    "from sklearn.ensemble import RandomForestClassifier, GradientBoostingClassifier\n",
    "from sklearn.pipeline import Pipeline\n",
    "from sklearn.compose import ColumnTransformer\n",
    "# from sklearn.impute import SimpleImputer\n",
    "\n",
    "# from imblearn.over_sampling import SMOTE\n",
    "# from imblearn.pipeline import Pipeline as ImPipeline\n",
    "\n",
    "from pathlib import Path"
   ]
  },
  {
   "cell_type": "code",
   "execution_count": 2,
   "id": "5ccabebf",
   "metadata": {},
   "outputs": [],
   "source": [
    "from sklearn.cluster import KMeans\n",
    "from sklearn import metrics\n",
    "from sklearn import datasets"
   ]
  },
  {
   "cell_type": "code",
   "execution_count": null,
   "id": "71e0a703",
   "metadata": {},
   "outputs": [],
   "source": [
    "# didn't get in yet:  from sklearn.metrics import plot_confusion_matrix, plot_roc_curve"
   ]
  },
  {
   "cell_type": "code",
   "execution_count": null,
   "id": "ccac1c31",
   "metadata": {},
   "outputs": [],
   "source": [
    "pip install scikit-plot"
   ]
  },
  {
   "cell_type": "code",
   "execution_count": null,
   "id": "4d5dc099",
   "metadata": {},
   "outputs": [],
   "source": [
    "import scikitplot as skplt\n",
    "from sklearn.decomposition import PCA"
   ]
  },
  {
   "cell_type": "markdown",
   "id": "0403262b",
   "metadata": {},
   "source": [
    "# Contents"
   ]
  },
  {
   "cell_type": "code",
   "execution_count": null,
   "id": "347bb661",
   "metadata": {},
   "outputs": [],
   "source": [
    "# image"
   ]
  },
  {
   "cell_type": "markdown",
   "id": "6a2561c3",
   "metadata": {},
   "source": [
    "# Overview"
   ]
  },
  {
   "cell_type": "code",
   "execution_count": null,
   "id": "a463bfd0",
   "metadata": {},
   "outputs": [],
   "source": []
  },
  {
   "cell_type": "markdown",
   "id": "b94def42",
   "metadata": {},
   "source": [
    "# Business Understanding"
   ]
  },
  {
   "cell_type": "markdown",
   "id": "bb5c4fd3",
   "metadata": {},
   "source": [
    "I am interested in taking raw data from a body-worn sensor on simulated activities, including falls, to create a model that will accurately predict when a person has had a fall or not.  As a former physical therapist who worked in a variety of settings, I believe there is great value in having real-time recognition of a fall event for a patient so staff/family can receive immediate notice and the patient can receive prompt medical attention.  This business challenge applies to the healthcare industry, and could be relevant across the continuum of care, from an acute care hospital environment, to a subacute/rehab setting, a long-term care/nursing home, or even to elderly residents residing alone in the community with family support.  My target audience would ideally include administrators considering better real-time fall monitoring in their facilities, or even to family members of elderly residents living independently.  In addition to the original research that provided this dataset, my analysis would be further proof that this monitoring system can yield accurate and actionable information that would improve patient safety and reduce costly medical complications related to falls.  My domain knowledge includes 15 years of experience as a physical therapist in acute care, rehabs / long term care, outpatient, and home care environments.  I also recently did a __[blog post](https://medium.com/@jonmccaffrey524/deep-learning-and-human-activity-recognition-98cb43da229)__ on deep learning and human activity recognition, and read the __[paper](https://arcoresearch.com/2021/11/23/the-shapes-smart-mirror-approach-for-independent-living-healthy-and-active-ageing/)__ published by the ARCO research group related to their fall monitoring system.  In summary, I am motivated by the fact that falls in healthcare facilities and in the home can be a cause of serious injury and complications for patients / residents, as well as be tremendously costly to our healthcare system.  Though this project doesn’t aim to prevent falls, it does aim to verify accurate diagnosis that a fall has occurred based on sensor-data provided, to help contribute to the goal of improved real-time monitoring and hopefully emergent medical management for someone who has sustained a fall. "
   ]
  },
  {
   "cell_type": "markdown",
   "id": "2cae0dc2",
   "metadata": {},
   "source": [
    "# Data Understanding"
   ]
  },
  {
   "cell_type": "markdown",
   "id": "4e3290e1",
   "metadata": {},
   "source": [
    "The data I plan to explore and model on comes from theARCO research group in Spain.  It involves activity-monitoring recording of 17 participants undergoing a variety of Activity of Daily Living (ADL) tasks as well as simulated falls.  The data was obtained __[here](https://arcoresearch.com/2021/04/16/dataset-for-fall-detection/)__, and downloaded as a .zip file.  The features include detailed sensor information for acceleration (in g), rotation (in deg/sec), and absolute orientation in Euler angles.  There are 3 different folders of CSV files in total.  Included in the data is a clear target (0 or 1) indicating if a fall occurred during the recording of the activity.     Previous work has been done by the authors, who reference a “machine learning algorithm” they created with “100% accuracy” in a “controlled environment”.  Though the details of the algorithm are vague, I aim to try to replicate their findings while also building my own machine-learning understanding for human activity recognition tasks.  "
   ]
  },
  {
   "cell_type": "markdown",
   "id": "c5694822",
   "metadata": {},
   "source": [
    "Subject\tAge\tWeight(Kg)\tHeight(m)\n",
    "1\t24\t84\t1.90\n",
    "2\t27\t90\t1.70\n",
    "3\t24\t69\t1.80\n",
    "4\t24\t65\t1.59\n",
    "5\t43\t83\t1.77\n",
    "6\t27\t65\t1.70\n",
    "7\t34\t76\t1.76\n",
    "8\t42\t89\t1.84\n",
    "9\t24\t65\t1.75\n",
    "10\t24\t56.2\t1.75\n",
    "11\t23\t74.3\t1.72\n",
    "12\t22\t85\t1.72\n",
    "13\t41\t72\t1.65\n",
    "14\t36\t80\t1.85\n",
    "15\t31\t75\t1.64\n",
    "16\t22\t64.5\t1.71\n",
    "17\t43\t71\t1.76"
   ]
  },
  {
   "cell_type": "markdown",
   "id": "52bc78d1",
   "metadata": {},
   "source": [
    "fall-dataset-features: Each row of this dataset  contains the features used in our study to filter raw data and describe a movement. Each row represents a complete exericse (Fall or ADL)\n",
    "\n",
    "fall-dataset-raw: Raw data from a one second window when the user perfomed the activity. Each row alone is not relevant because it only contains raw data in a instant of time. In order to get relevant information you must use all the data with the same value on the column index, all this data are part of the same exercise along the time.\n",
    "\n",
    "fall-dataset-all: On these files, all the data collected when the exercises were performed by the users is saved. It could be useful if you need data out of the one second window. This data is not labeled, but you can use fall-dataset-raw in order to find when a fall or an ADLs were produced. Both fall-dataset-raw and fall-dataset-all have timestamp in order to ease this task."
   ]
  },
  {
   "cell_type": "code",
   "execution_count": null,
   "id": "15ab7161",
   "metadata": {},
   "outputs": [],
   "source": []
  },
  {
   "cell_type": "code",
   "execution_count": null,
   "id": "c4764dcc",
   "metadata": {},
   "outputs": [],
   "source": []
  },
  {
   "cell_type": "markdown",
   "id": "31adc963",
   "metadata": {},
   "source": [
    "# Data Preparation"
   ]
  },
  {
   "cell_type": "markdown",
   "id": "e8cf1fb6",
   "metadata": {},
   "source": [
    "The .zip file contains 3 folders of CSV files of data.  \n",
    "- The 1st folder contains 17 CSV files (one for each participant) with all the raw data (11 columns each, 2800 rows each) but summarized/indexed by the task being performed.  \n",
    "- The 2nd folder contains 17 CSV files with all the features information (25 columns each, 45 rows each - representing summations of each of 45 tasks, including simulated falls)\n",
    "- The 3rd folder contains 17 CSV files of all the raw data for each participant (10 columns, 30K rows) NOT summarized / indexed by task.\n",
    "\n",
    "The data types are all numeric (int or float), though that includes a 'feature' variable that represents different tasks / falls, a 'timestamp' variable, and the 0/1 boolean of fall occurrence.  The division between data that represent falls vs. non-fall tasks appears about evenly divided, so there is not a significant class imbalance.  Also, the amount of data available for each task being performed (45 total), for each participant (17 total), appears roughly equal.  The libraries I intend to use include at least Pandas, NumPy, sklearn, matplotlib, and Seaborn.  As far as preprocessing, the data is very clean with no nulls.  Pre-processing may include clustering to see if any groupings can be discerned from that.  It may require scaling and dimensionality reduction as well.  I will need more domain knowledge related to the units of acceleration, rotation, and absolute orientation in Euler angles.  At a minimum, it appears I would utilize the 1st folder (raw data summarized/indexed by task) which contains ~2800 rows per participant.  Visualizations could include confusion matrices and ROC curves for iterative modeling, then separate visuals to represent accuracy by tasks (stacked bar graph?).  I could also do a bar graph for eventual feature importance.  "
   ]
  },
  {
   "cell_type": "markdown",
   "id": "179dd692",
   "metadata": {},
   "source": [
    "## Unzipping folders in Jupyter Notebook"
   ]
  },
  {
   "cell_type": "code",
   "execution_count": null,
   "id": "691087ef",
   "metadata": {},
   "outputs": [],
   "source": [
    "# files too large (~117MB) to save on GitHub unless they remain compressed (~30MB)"
   ]
  },
  {
   "cell_type": "code",
   "execution_count": 4,
   "id": "0cb6fd6b",
   "metadata": {},
   "outputs": [
    {
     "name": "stdout",
     "output_type": "stream",
     "text": [
      "C:\\Users\\JonMc\\Documents\\Flatiron\\Fall_Detection_Model\\data\n"
     ]
    }
   ],
   "source": [
    "cd data"
   ]
  },
  {
   "cell_type": "code",
   "execution_count": 5,
   "id": "f00f45db",
   "metadata": {
    "scrolled": true
   },
   "outputs": [
    {
     "name": "stdout",
     "output_type": "stream",
     "text": [
      " Volume in drive C is Windows\n",
      " Volume Serial Number is 62FE-3091\n",
      "\n",
      " Directory of C:\\Users\\JonMc\\Documents\\Flatiron\\Fall_Detection_Model\\data\n",
      "\n",
      "12/13/2022  09:38 AM    <DIR>          .\n",
      "12/13/2022  11:34 AM    <DIR>          ..\n",
      "04/15/2021  09:58 AM    <DIR>          fall-dataset\n",
      "12/13/2022  09:38 AM        31,452,115 fall-dataset.zip\n",
      "12/13/2022  09:38 AM           227,728 test_dataset.zip\n",
      "               2 File(s)     31,679,843 bytes\n",
      "               3 Dir(s)  385,448,525,824 bytes free\n"
     ]
    }
   ],
   "source": [
    "ls"
   ]
  },
  {
   "cell_type": "code",
   "execution_count": null,
   "id": "2671cde2",
   "metadata": {},
   "outputs": [],
   "source": [
    "# ! unzip fall-dataset.zip"
   ]
  },
  {
   "cell_type": "markdown",
   "id": "0c726209",
   "metadata": {},
   "source": [
    "## Creating a dataframe for fall-dataset-raw"
   ]
  },
  {
   "cell_type": "code",
   "execution_count": 108,
   "id": "2d9f331a",
   "metadata": {},
   "outputs": [],
   "source": [
    "# can replace this pathname with the full path to the folder locally\n",
    "path_raw = r'C:\\Users\\JonMc\\Documents\\Flatiron\\Fall_Detection_Model\\data\\fall-dataset\\fall-dataset-raw' \n",
    "\n",
    "# Get the files from the path provided\n",
    "files_raw = Path(path_raw).glob('*.csv') "
   ]
  },
  {
   "cell_type": "code",
   "execution_count": 109,
   "id": "1fbff135",
   "metadata": {},
   "outputs": [],
   "source": [
    "# this for loop will create a separate column based on the filename, to separate subjects if needed\n",
    "\n",
    "dfs_1 = []\n",
    "for f in files_raw:\n",
    "    data = pd.read_csv(f)\n",
    "    # .stem is method for pathlib objects to get the filename w/o the extension\n",
    "    data['File'] = f.stem\n",
    "    dfs_1.append(data)"
   ]
  },
  {
   "cell_type": "code",
   "execution_count": 110,
   "id": "72044547",
   "metadata": {},
   "outputs": [],
   "source": [
    "# concatenating all 17 files into one dataframe\n",
    "df_raw = pd.concat(dfs_1, ignore_index=True)"
   ]
  },
  {
   "cell_type": "code",
   "execution_count": 111,
   "id": "3a4b1f48",
   "metadata": {
    "scrolled": true
   },
   "outputs": [
    {
     "data": {
      "text/html": [
       "<div>\n",
       "<style scoped>\n",
       "    .dataframe tbody tr th:only-of-type {\n",
       "        vertical-align: middle;\n",
       "    }\n",
       "\n",
       "    .dataframe tbody tr th {\n",
       "        vertical-align: top;\n",
       "    }\n",
       "\n",
       "    .dataframe thead th {\n",
       "        text-align: right;\n",
       "    }\n",
       "</style>\n",
       "<table border=\"1\" class=\"dataframe\">\n",
       "  <thead>\n",
       "    <tr style=\"text-align: right;\">\n",
       "      <th></th>\n",
       "      <th>Feature Line</th>\n",
       "      <th>Acc(X)</th>\n",
       "      <th>Acc(Y)</th>\n",
       "      <th>Acc(Z)</th>\n",
       "      <th>Rot(X)</th>\n",
       "      <th>Rot(Y)</th>\n",
       "      <th>Rot(Z)</th>\n",
       "      <th>Pitch</th>\n",
       "      <th>Roll</th>\n",
       "      <th>Yaw</th>\n",
       "      <th>Timestamp</th>\n",
       "      <th>Fall</th>\n",
       "      <th>File</th>\n",
       "    </tr>\n",
       "  </thead>\n",
       "  <tbody>\n",
       "    <tr>\n",
       "      <th>0</th>\n",
       "      <td>1</td>\n",
       "      <td>3.191406</td>\n",
       "      <td>0.768555</td>\n",
       "      <td>8.799805</td>\n",
       "      <td>98.841469</td>\n",
       "      <td>-488.109772</td>\n",
       "      <td>-94.939026</td>\n",
       "      <td>8.554567</td>\n",
       "      <td>68.015976</td>\n",
       "      <td>354.055115</td>\n",
       "      <td>1612546353614</td>\n",
       "      <td>0</td>\n",
       "      <td>Subject1-raw</td>\n",
       "    </tr>\n",
       "    <tr>\n",
       "      <th>1</th>\n",
       "      <td>1</td>\n",
       "      <td>2.965820</td>\n",
       "      <td>0.224121</td>\n",
       "      <td>2.638672</td>\n",
       "      <td>-261.890259</td>\n",
       "      <td>-15.853659</td>\n",
       "      <td>-24.634148</td>\n",
       "      <td>7.382404</td>\n",
       "      <td>72.709183</td>\n",
       "      <td>353.782318</td>\n",
       "      <td>1612546353616</td>\n",
       "      <td>0</td>\n",
       "      <td>Subject1-raw</td>\n",
       "    </tr>\n",
       "    <tr>\n",
       "      <th>2</th>\n",
       "      <td>1</td>\n",
       "      <td>0.854980</td>\n",
       "      <td>0.500000</td>\n",
       "      <td>0.548828</td>\n",
       "      <td>-337.865875</td>\n",
       "      <td>535.853699</td>\n",
       "      <td>49.817074</td>\n",
       "      <td>7.836745</td>\n",
       "      <td>72.958641</td>\n",
       "      <td>355.967834</td>\n",
       "      <td>1612546353657</td>\n",
       "      <td>0</td>\n",
       "      <td>Subject1-raw</td>\n",
       "    </tr>\n",
       "    <tr>\n",
       "      <th>3</th>\n",
       "      <td>1</td>\n",
       "      <td>-1.238770</td>\n",
       "      <td>-2.900391</td>\n",
       "      <td>-6.257324</td>\n",
       "      <td>-254.207321</td>\n",
       "      <td>460.792694</td>\n",
       "      <td>49.817074</td>\n",
       "      <td>10.936003</td>\n",
       "      <td>65.359154</td>\n",
       "      <td>0.667080</td>\n",
       "      <td>1612546353659</td>\n",
       "      <td>0</td>\n",
       "      <td>Subject1-raw</td>\n",
       "    </tr>\n",
       "    <tr>\n",
       "      <th>4</th>\n",
       "      <td>1</td>\n",
       "      <td>1.804688</td>\n",
       "      <td>2.567871</td>\n",
       "      <td>-0.529297</td>\n",
       "      <td>741.890259</td>\n",
       "      <td>-307.500000</td>\n",
       "      <td>107.073174</td>\n",
       "      <td>26.398607</td>\n",
       "      <td>61.147324</td>\n",
       "      <td>2.398508</td>\n",
       "      <td>1612546353661</td>\n",
       "      <td>0</td>\n",
       "      <td>Subject1-raw</td>\n",
       "    </tr>\n",
       "  </tbody>\n",
       "</table>\n",
       "</div>"
      ],
      "text/plain": [
       "   Feature Line    Acc(X)    Acc(Y)    Acc(Z)      Rot(X)      Rot(Y)  \\\n",
       "0             1  3.191406  0.768555  8.799805   98.841469 -488.109772   \n",
       "1             1  2.965820  0.224121  2.638672 -261.890259  -15.853659   \n",
       "2             1  0.854980  0.500000  0.548828 -337.865875  535.853699   \n",
       "3             1 -1.238770 -2.900391 -6.257324 -254.207321  460.792694   \n",
       "4             1  1.804688  2.567871 -0.529297  741.890259 -307.500000   \n",
       "\n",
       "       Rot(Z)      Pitch       Roll         Yaw      Timestamp  Fall  \\\n",
       "0  -94.939026   8.554567  68.015976  354.055115  1612546353614     0   \n",
       "1  -24.634148   7.382404  72.709183  353.782318  1612546353616     0   \n",
       "2   49.817074   7.836745  72.958641  355.967834  1612546353657     0   \n",
       "3   49.817074  10.936003  65.359154    0.667080  1612546353659     0   \n",
       "4  107.073174  26.398607  61.147324    2.398508  1612546353661     0   \n",
       "\n",
       "           File  \n",
       "0  Subject1-raw  \n",
       "1  Subject1-raw  \n",
       "2  Subject1-raw  \n",
       "3  Subject1-raw  \n",
       "4  Subject1-raw  "
      ]
     },
     "execution_count": 111,
     "metadata": {},
     "output_type": "execute_result"
    }
   ],
   "source": [
    "# sanity check\n",
    "df_raw.head()"
   ]
  },
  {
   "cell_type": "code",
   "execution_count": null,
   "id": "9eeb1151",
   "metadata": {},
   "outputs": [],
   "source": [
    "# provide brief summary of each category's meaning here?"
   ]
  },
  {
   "cell_type": "markdown",
   "id": "454fb431",
   "metadata": {},
   "source": [
    "### initial EDA for df_raw"
   ]
  },
  {
   "cell_type": "code",
   "execution_count": 112,
   "id": "988b5219",
   "metadata": {},
   "outputs": [
    {
     "data": {
      "text/plain": [
       "(49713, 13)"
      ]
     },
     "execution_count": 112,
     "metadata": {},
     "output_type": "execute_result"
    }
   ],
   "source": [
    "df_raw.shape"
   ]
  },
  {
   "cell_type": "code",
   "execution_count": 113,
   "id": "eb25b292",
   "metadata": {},
   "outputs": [
    {
     "name": "stdout",
     "output_type": "stream",
     "text": [
      "<class 'pandas.core.frame.DataFrame'>\n",
      "RangeIndex: 49713 entries, 0 to 49712\n",
      "Data columns (total 13 columns):\n",
      " #   Column        Non-Null Count  Dtype  \n",
      "---  ------        --------------  -----  \n",
      " 0   Feature Line  49713 non-null  int64  \n",
      " 1   Acc(X)        49713 non-null  float64\n",
      " 2   Acc(Y)        49713 non-null  float64\n",
      " 3   Acc(Z)        49713 non-null  float64\n",
      " 4   Rot(X)        49713 non-null  float64\n",
      " 5   Rot(Y)        49713 non-null  float64\n",
      " 6   Rot(Z)        49713 non-null  float64\n",
      " 7   Pitch         49713 non-null  float64\n",
      " 8   Roll          49713 non-null  float64\n",
      " 9   Yaw           49713 non-null  float64\n",
      " 10  Timestamp     49713 non-null  int64  \n",
      " 11  Fall          49713 non-null  int64  \n",
      " 12  File          49713 non-null  object \n",
      "dtypes: float64(9), int64(3), object(1)\n",
      "memory usage: 4.9+ MB\n"
     ]
    }
   ],
   "source": [
    "df_raw.info()"
   ]
  },
  {
   "cell_type": "code",
   "execution_count": 114,
   "id": "f33e6e73",
   "metadata": {},
   "outputs": [
    {
     "data": {
      "text/html": [
       "<div>\n",
       "<style scoped>\n",
       "    .dataframe tbody tr th:only-of-type {\n",
       "        vertical-align: middle;\n",
       "    }\n",
       "\n",
       "    .dataframe tbody tr th {\n",
       "        vertical-align: top;\n",
       "    }\n",
       "\n",
       "    .dataframe thead th {\n",
       "        text-align: right;\n",
       "    }\n",
       "</style>\n",
       "<table border=\"1\" class=\"dataframe\">\n",
       "  <thead>\n",
       "    <tr style=\"text-align: right;\">\n",
       "      <th></th>\n",
       "      <th>Feature Line</th>\n",
       "      <th>Acc(X)</th>\n",
       "      <th>Acc(Y)</th>\n",
       "      <th>Acc(Z)</th>\n",
       "      <th>Rot(X)</th>\n",
       "      <th>Rot(Y)</th>\n",
       "      <th>Rot(Z)</th>\n",
       "      <th>Pitch</th>\n",
       "      <th>Roll</th>\n",
       "      <th>Yaw</th>\n",
       "      <th>Timestamp</th>\n",
       "      <th>Fall</th>\n",
       "    </tr>\n",
       "  </thead>\n",
       "  <tbody>\n",
       "    <tr>\n",
       "      <th>count</th>\n",
       "      <td>49713.000000</td>\n",
       "      <td>49713.000000</td>\n",
       "      <td>49713.000000</td>\n",
       "      <td>49713.000000</td>\n",
       "      <td>49713.000000</td>\n",
       "      <td>49713.000000</td>\n",
       "      <td>49713.000000</td>\n",
       "      <td>49713.000000</td>\n",
       "      <td>49713.000000</td>\n",
       "      <td>49713.000000</td>\n",
       "      <td>4.971300e+04</td>\n",
       "      <td>49713.000000</td>\n",
       "    </tr>\n",
       "    <tr>\n",
       "      <th>mean</th>\n",
       "      <td>22.405749</td>\n",
       "      <td>0.526012</td>\n",
       "      <td>-0.048381</td>\n",
       "      <td>0.168381</td>\n",
       "      <td>1.511753</td>\n",
       "      <td>1.841931</td>\n",
       "      <td>4.038409</td>\n",
       "      <td>-1.624746</td>\n",
       "      <td>39.261181</td>\n",
       "      <td>202.300937</td>\n",
       "      <td>1.613400e+12</td>\n",
       "      <td>0.409088</td>\n",
       "    </tr>\n",
       "    <tr>\n",
       "      <th>std</th>\n",
       "      <td>12.956872</td>\n",
       "      <td>1.045556</td>\n",
       "      <td>0.781739</td>\n",
       "      <td>0.976210</td>\n",
       "      <td>84.624702</td>\n",
       "      <td>132.618225</td>\n",
       "      <td>65.596113</td>\n",
       "      <td>81.993075</td>\n",
       "      <td>39.422234</td>\n",
       "      <td>136.156753</td>\n",
       "      <td>1.865655e+09</td>\n",
       "      <td>0.491671</td>\n",
       "    </tr>\n",
       "    <tr>\n",
       "      <th>min</th>\n",
       "      <td>1.000000</td>\n",
       "      <td>-14.330566</td>\n",
       "      <td>-15.739258</td>\n",
       "      <td>-15.999512</td>\n",
       "      <td>-1997.987793</td>\n",
       "      <td>-1997.987793</td>\n",
       "      <td>-768.475647</td>\n",
       "      <td>-179.998138</td>\n",
       "      <td>-87.712242</td>\n",
       "      <td>0.000990</td>\n",
       "      <td>1.608032e+12</td>\n",
       "      <td>0.000000</td>\n",
       "    </tr>\n",
       "    <tr>\n",
       "      <th>25%</th>\n",
       "      <td>11.000000</td>\n",
       "      <td>-0.100098</td>\n",
       "      <td>-0.340332</td>\n",
       "      <td>-0.117676</td>\n",
       "      <td>-13.719513</td>\n",
       "      <td>-16.036585</td>\n",
       "      <td>-8.231708</td>\n",
       "      <td>-30.365431</td>\n",
       "      <td>3.811717</td>\n",
       "      <td>58.089073</td>\n",
       "      <td>1.612546e+12</td>\n",
       "      <td>0.000000</td>\n",
       "    </tr>\n",
       "    <tr>\n",
       "      <th>50%</th>\n",
       "      <td>22.000000</td>\n",
       "      <td>0.595215</td>\n",
       "      <td>-0.055176</td>\n",
       "      <td>0.179199</td>\n",
       "      <td>0.548781</td>\n",
       "      <td>-0.426829</td>\n",
       "      <td>0.609756</td>\n",
       "      <td>2.950168</td>\n",
       "      <td>53.229465</td>\n",
       "      <td>212.538193</td>\n",
       "      <td>1.613472e+12</td>\n",
       "      <td>0.000000</td>\n",
       "    </tr>\n",
       "    <tr>\n",
       "      <th>75%</th>\n",
       "      <td>34.000000</td>\n",
       "      <td>0.984863</td>\n",
       "      <td>0.239746</td>\n",
       "      <td>0.534180</td>\n",
       "      <td>16.951220</td>\n",
       "      <td>19.573172</td>\n",
       "      <td>15.060976</td>\n",
       "      <td>28.444160</td>\n",
       "      <td>74.810349</td>\n",
       "      <td>339.976105</td>\n",
       "      <td>1.614937e+12</td>\n",
       "      <td>1.000000</td>\n",
       "    </tr>\n",
       "    <tr>\n",
       "      <th>max</th>\n",
       "      <td>45.000000</td>\n",
       "      <td>15.999512</td>\n",
       "      <td>13.734863</td>\n",
       "      <td>14.244141</td>\n",
       "      <td>1997.987793</td>\n",
       "      <td>1844.207397</td>\n",
       "      <td>1172.012207</td>\n",
       "      <td>179.996017</td>\n",
       "      <td>89.847931</td>\n",
       "      <td>359.997375</td>\n",
       "      <td>1.615570e+12</td>\n",
       "      <td>1.000000</td>\n",
       "    </tr>\n",
       "  </tbody>\n",
       "</table>\n",
       "</div>"
      ],
      "text/plain": [
       "       Feature Line        Acc(X)        Acc(Y)        Acc(Z)        Rot(X)  \\\n",
       "count  49713.000000  49713.000000  49713.000000  49713.000000  49713.000000   \n",
       "mean      22.405749      0.526012     -0.048381      0.168381      1.511753   \n",
       "std       12.956872      1.045556      0.781739      0.976210     84.624702   \n",
       "min        1.000000    -14.330566    -15.739258    -15.999512  -1997.987793   \n",
       "25%       11.000000     -0.100098     -0.340332     -0.117676    -13.719513   \n",
       "50%       22.000000      0.595215     -0.055176      0.179199      0.548781   \n",
       "75%       34.000000      0.984863      0.239746      0.534180     16.951220   \n",
       "max       45.000000     15.999512     13.734863     14.244141   1997.987793   \n",
       "\n",
       "             Rot(Y)        Rot(Z)         Pitch          Roll           Yaw  \\\n",
       "count  49713.000000  49713.000000  49713.000000  49713.000000  49713.000000   \n",
       "mean       1.841931      4.038409     -1.624746     39.261181    202.300937   \n",
       "std      132.618225     65.596113     81.993075     39.422234    136.156753   \n",
       "min    -1997.987793   -768.475647   -179.998138    -87.712242      0.000990   \n",
       "25%      -16.036585     -8.231708    -30.365431      3.811717     58.089073   \n",
       "50%       -0.426829      0.609756      2.950168     53.229465    212.538193   \n",
       "75%       19.573172     15.060976     28.444160     74.810349    339.976105   \n",
       "max     1844.207397   1172.012207    179.996017     89.847931    359.997375   \n",
       "\n",
       "          Timestamp          Fall  \n",
       "count  4.971300e+04  49713.000000  \n",
       "mean   1.613400e+12      0.409088  \n",
       "std    1.865655e+09      0.491671  \n",
       "min    1.608032e+12      0.000000  \n",
       "25%    1.612546e+12      0.000000  \n",
       "50%    1.613472e+12      0.000000  \n",
       "75%    1.614937e+12      1.000000  \n",
       "max    1.615570e+12      1.000000  "
      ]
     },
     "execution_count": 114,
     "metadata": {},
     "output_type": "execute_result"
    }
   ],
   "source": [
    "df_raw.describe()"
   ]
  },
  {
   "cell_type": "code",
   "execution_count": 115,
   "id": "4fcc9eb2",
   "metadata": {},
   "outputs": [
    {
     "data": {
      "text/plain": [
       "Subject15-raw    3370\n",
       "Subject9-raw     3166\n",
       "Subject2-raw     3150\n",
       "Subject3-raw     3109\n",
       "Subject8-raw     3019\n",
       "Subject13-raw    2935\n",
       "Subject10-raw    2924\n",
       "Subject5-raw     2899\n",
       "Subject14-raw    2897\n",
       "Subject7-raw     2896\n",
       "Subject11-raw    2872\n",
       "Subject17-raw    2847\n",
       "Subject6-raw     2837\n",
       "Subject4-raw     2770\n",
       "Subject1-raw     2755\n",
       "Subject16-raw    2722\n",
       "Subject12-raw    2545\n",
       "Name: File, dtype: int64"
      ]
     },
     "execution_count": 115,
     "metadata": {},
     "output_type": "execute_result"
    }
   ],
   "source": [
    "# value counts per subject\n",
    "df_raw['File'].value_counts()"
   ]
  },
  {
   "cell_type": "code",
   "execution_count": 116,
   "id": "afec6333",
   "metadata": {},
   "outputs": [
    {
     "data": {
      "text/plain": [
       "Feature Line    0\n",
       "Acc(X)          0\n",
       "Acc(Y)          0\n",
       "Acc(Z)          0\n",
       "Rot(X)          0\n",
       "Rot(Y)          0\n",
       "Rot(Z)          0\n",
       "Pitch           0\n",
       "Roll            0\n",
       "Yaw             0\n",
       "Timestamp       0\n",
       "Fall            0\n",
       "File            0\n",
       "dtype: int64"
      ]
     },
     "execution_count": 116,
     "metadata": {},
     "output_type": "execute_result"
    }
   ],
   "source": [
    "# no nulls\n",
    "df_raw.isna().sum()"
   ]
  },
  {
   "cell_type": "markdown",
   "id": "60c23510",
   "metadata": {},
   "source": [
    "## Creating a dataframe for fall-dataset-all"
   ]
  },
  {
   "cell_type": "code",
   "execution_count": 9,
   "id": "862d764c",
   "metadata": {},
   "outputs": [],
   "source": [
    "# can replace this pathname with the full path to the folder locally\n",
    "path_all = r'C:\\Users\\JonMc\\Documents\\Flatiron\\Fall_Detection_Model\\data\\fall-dataset\\fall-dataset-all' \n",
    "\n",
    "# Get the files from the path provided\n",
    "files_all = Path(path_all).glob('*.csv')"
   ]
  },
  {
   "cell_type": "code",
   "execution_count": 10,
   "id": "fa952f9b",
   "metadata": {},
   "outputs": [],
   "source": [
    "# this for loop will create a separate column based on the filename, to separate subjects if needed\n",
    "\n",
    "dfs_2 = []\n",
    "for f in files_all:\n",
    "    data = pd.read_csv(f)\n",
    "    # .stem is method for pathlib objects to get the filename w/o the extension\n",
    "    data['File'] = f.stem\n",
    "    dfs_2.append(data)"
   ]
  },
  {
   "cell_type": "code",
   "execution_count": 11,
   "id": "1120b18d",
   "metadata": {},
   "outputs": [],
   "source": [
    "# concatenating all 17 files into one dataframe\n",
    "df_all = pd.concat(dfs_2, ignore_index=True)"
   ]
  },
  {
   "cell_type": "code",
   "execution_count": 12,
   "id": "67117640",
   "metadata": {},
   "outputs": [
    {
     "data": {
      "text/html": [
       "<div>\n",
       "<style scoped>\n",
       "    .dataframe tbody tr th:only-of-type {\n",
       "        vertical-align: middle;\n",
       "    }\n",
       "\n",
       "    .dataframe tbody tr th {\n",
       "        vertical-align: top;\n",
       "    }\n",
       "\n",
       "    .dataframe thead th {\n",
       "        text-align: right;\n",
       "    }\n",
       "</style>\n",
       "<table border=\"1\" class=\"dataframe\">\n",
       "  <thead>\n",
       "    <tr style=\"text-align: right;\">\n",
       "      <th></th>\n",
       "      <th>Acc(X)</th>\n",
       "      <th>Acc(Y)</th>\n",
       "      <th>Acc(Z)</th>\n",
       "      <th>Rot(X)</th>\n",
       "      <th>Rot(Y)</th>\n",
       "      <th>Rot(Z)</th>\n",
       "      <th>Pitch</th>\n",
       "      <th>Roll</th>\n",
       "      <th>Yaw</th>\n",
       "      <th>Timestamp</th>\n",
       "      <th>File</th>\n",
       "    </tr>\n",
       "  </thead>\n",
       "  <tbody>\n",
       "    <tr>\n",
       "      <th>0</th>\n",
       "      <td>0.932617</td>\n",
       "      <td>-0.166504</td>\n",
       "      <td>0.411133</td>\n",
       "      <td>3.231707</td>\n",
       "      <td>-2.865854</td>\n",
       "      <td>3.536585</td>\n",
       "      <td>9.411585</td>\n",
       "      <td>64.421898</td>\n",
       "      <td>359.941193</td>\n",
       "      <td>1612546351138</td>\n",
       "      <td>Subject1-raw-all</td>\n",
       "    </tr>\n",
       "    <tr>\n",
       "      <th>1</th>\n",
       "      <td>0.934570</td>\n",
       "      <td>-0.166016</td>\n",
       "      <td>0.398926</td>\n",
       "      <td>3.109756</td>\n",
       "      <td>-1.280488</td>\n",
       "      <td>3.353659</td>\n",
       "      <td>9.430594</td>\n",
       "      <td>64.434891</td>\n",
       "      <td>359.882324</td>\n",
       "      <td>1612546351140</td>\n",
       "      <td>Subject1-raw-all</td>\n",
       "    </tr>\n",
       "    <tr>\n",
       "      <th>2</th>\n",
       "      <td>0.938477</td>\n",
       "      <td>-0.170410</td>\n",
       "      <td>0.387207</td>\n",
       "      <td>2.317073</td>\n",
       "      <td>-0.609756</td>\n",
       "      <td>2.987805</td>\n",
       "      <td>9.448231</td>\n",
       "      <td>64.434715</td>\n",
       "      <td>359.828003</td>\n",
       "      <td>1612546351141</td>\n",
       "      <td>Subject1-raw-all</td>\n",
       "    </tr>\n",
       "    <tr>\n",
       "      <th>3</th>\n",
       "      <td>0.937988</td>\n",
       "      <td>-0.176270</td>\n",
       "      <td>0.380371</td>\n",
       "      <td>2.195122</td>\n",
       "      <td>-0.731707</td>\n",
       "      <td>2.621951</td>\n",
       "      <td>9.465791</td>\n",
       "      <td>64.432030</td>\n",
       "      <td>359.783264</td>\n",
       "      <td>1612546351182</td>\n",
       "      <td>Subject1-raw-all</td>\n",
       "    </tr>\n",
       "    <tr>\n",
       "      <th>4</th>\n",
       "      <td>0.937012</td>\n",
       "      <td>-0.173340</td>\n",
       "      <td>0.384766</td>\n",
       "      <td>2.195122</td>\n",
       "      <td>-1.463415</td>\n",
       "      <td>2.256098</td>\n",
       "      <td>9.481668</td>\n",
       "      <td>64.436104</td>\n",
       "      <td>359.742218</td>\n",
       "      <td>1612546351184</td>\n",
       "      <td>Subject1-raw-all</td>\n",
       "    </tr>\n",
       "  </tbody>\n",
       "</table>\n",
       "</div>"
      ],
      "text/plain": [
       "     Acc(X)    Acc(Y)    Acc(Z)    Rot(X)    Rot(Y)    Rot(Z)     Pitch  \\\n",
       "0  0.932617 -0.166504  0.411133  3.231707 -2.865854  3.536585  9.411585   \n",
       "1  0.934570 -0.166016  0.398926  3.109756 -1.280488  3.353659  9.430594   \n",
       "2  0.938477 -0.170410  0.387207  2.317073 -0.609756  2.987805  9.448231   \n",
       "3  0.937988 -0.176270  0.380371  2.195122 -0.731707  2.621951  9.465791   \n",
       "4  0.937012 -0.173340  0.384766  2.195122 -1.463415  2.256098  9.481668   \n",
       "\n",
       "        Roll         Yaw      Timestamp              File  \n",
       "0  64.421898  359.941193  1612546351138  Subject1-raw-all  \n",
       "1  64.434891  359.882324  1612546351140  Subject1-raw-all  \n",
       "2  64.434715  359.828003  1612546351141  Subject1-raw-all  \n",
       "3  64.432030  359.783264  1612546351182  Subject1-raw-all  \n",
       "4  64.436104  359.742218  1612546351184  Subject1-raw-all  "
      ]
     },
     "execution_count": 12,
     "metadata": {},
     "output_type": "execute_result"
    }
   ],
   "source": [
    "# sanity check\n",
    "df_all.head()"
   ]
  },
  {
   "cell_type": "code",
   "execution_count": null,
   "id": "0fa366b0",
   "metadata": {},
   "outputs": [],
   "source": [
    "# brief explanation for columns"
   ]
  },
  {
   "cell_type": "markdown",
   "id": "0ea027d5",
   "metadata": {},
   "source": [
    "### Initial EDA for df_all"
   ]
  },
  {
   "cell_type": "code",
   "execution_count": 22,
   "id": "5ca6f864",
   "metadata": {},
   "outputs": [
    {
     "data": {
      "text/plain": [
       "(678715, 11)"
      ]
     },
     "execution_count": 22,
     "metadata": {},
     "output_type": "execute_result"
    }
   ],
   "source": [
    "df_all.shape"
   ]
  },
  {
   "cell_type": "code",
   "execution_count": 23,
   "id": "595b43c4",
   "metadata": {},
   "outputs": [
    {
     "name": "stdout",
     "output_type": "stream",
     "text": [
      "<class 'pandas.core.frame.DataFrame'>\n",
      "RangeIndex: 678715 entries, 0 to 678714\n",
      "Data columns (total 11 columns):\n",
      " #   Column     Non-Null Count   Dtype  \n",
      "---  ------     --------------   -----  \n",
      " 0   Acc(X)     678715 non-null  float64\n",
      " 1   Acc(Y)     678715 non-null  float64\n",
      " 2   Acc(Z)     678715 non-null  float64\n",
      " 3   Rot(X)     678715 non-null  float64\n",
      " 4   Rot(Y)     678715 non-null  float64\n",
      " 5   Rot(Z)     678715 non-null  float64\n",
      " 6   Pitch      678715 non-null  float64\n",
      " 7   Roll       678715 non-null  float64\n",
      " 8   Yaw        678715 non-null  float64\n",
      " 9   Timestamp  678715 non-null  int64  \n",
      " 10  File       678715 non-null  object \n",
      "dtypes: float64(9), int64(1), object(1)\n",
      "memory usage: 57.0+ MB\n"
     ]
    }
   ],
   "source": [
    "df_all.info()"
   ]
  },
  {
   "cell_type": "code",
   "execution_count": 24,
   "id": "faae28eb",
   "metadata": {},
   "outputs": [
    {
     "data": {
      "text/html": [
       "<div>\n",
       "<style scoped>\n",
       "    .dataframe tbody tr th:only-of-type {\n",
       "        vertical-align: middle;\n",
       "    }\n",
       "\n",
       "    .dataframe tbody tr th {\n",
       "        vertical-align: top;\n",
       "    }\n",
       "\n",
       "    .dataframe thead th {\n",
       "        text-align: right;\n",
       "    }\n",
       "</style>\n",
       "<table border=\"1\" class=\"dataframe\">\n",
       "  <thead>\n",
       "    <tr style=\"text-align: right;\">\n",
       "      <th></th>\n",
       "      <th>Acc(X)</th>\n",
       "      <th>Acc(Y)</th>\n",
       "      <th>Acc(Z)</th>\n",
       "      <th>Rot(X)</th>\n",
       "      <th>Rot(Y)</th>\n",
       "      <th>Rot(Z)</th>\n",
       "      <th>Pitch</th>\n",
       "      <th>Roll</th>\n",
       "      <th>Yaw</th>\n",
       "      <th>Timestamp</th>\n",
       "    </tr>\n",
       "  </thead>\n",
       "  <tbody>\n",
       "    <tr>\n",
       "      <th>count</th>\n",
       "      <td>678715.000000</td>\n",
       "      <td>678715.000000</td>\n",
       "      <td>678715.000000</td>\n",
       "      <td>678715.000000</td>\n",
       "      <td>678715.000000</td>\n",
       "      <td>678715.000000</td>\n",
       "      <td>678715.000000</td>\n",
       "      <td>678715.000000</td>\n",
       "      <td>678715.000000</td>\n",
       "      <td>6.787150e+05</td>\n",
       "    </tr>\n",
       "    <tr>\n",
       "      <th>mean</th>\n",
       "      <td>0.719117</td>\n",
       "      <td>-0.037409</td>\n",
       "      <td>0.194582</td>\n",
       "      <td>0.332711</td>\n",
       "      <td>-0.220278</td>\n",
       "      <td>0.391412</td>\n",
       "      <td>-8.048431</td>\n",
       "      <td>53.698468</td>\n",
       "      <td>208.737719</td>\n",
       "      <td>1.613281e+12</td>\n",
       "    </tr>\n",
       "    <tr>\n",
       "      <th>std</th>\n",
       "      <td>0.522161</td>\n",
       "      <td>0.411668</td>\n",
       "      <td>0.480294</td>\n",
       "      <td>39.153883</td>\n",
       "      <td>48.799114</td>\n",
       "      <td>27.166656</td>\n",
       "      <td>83.289489</td>\n",
       "      <td>32.290934</td>\n",
       "      <td>134.460734</td>\n",
       "      <td>1.891624e+09</td>\n",
       "    </tr>\n",
       "    <tr>\n",
       "      <th>min</th>\n",
       "      <td>-14.330566</td>\n",
       "      <td>-15.739258</td>\n",
       "      <td>-15.999512</td>\n",
       "      <td>-1997.987793</td>\n",
       "      <td>-1997.987793</td>\n",
       "      <td>-768.475647</td>\n",
       "      <td>-179.998886</td>\n",
       "      <td>-87.712242</td>\n",
       "      <td>-0.000000</td>\n",
       "      <td>1.608032e+12</td>\n",
       "    </tr>\n",
       "    <tr>\n",
       "      <th>25%</th>\n",
       "      <td>0.580078</td>\n",
       "      <td>-0.250488</td>\n",
       "      <td>-0.009766</td>\n",
       "      <td>-5.487805</td>\n",
       "      <td>-4.878049</td>\n",
       "      <td>-2.743902</td>\n",
       "      <td>-18.488931</td>\n",
       "      <td>41.500603</td>\n",
       "      <td>70.778984</td>\n",
       "      <td>1.611079e+12</td>\n",
       "    </tr>\n",
       "    <tr>\n",
       "      <th>50%</th>\n",
       "      <td>0.907227</td>\n",
       "      <td>-0.034180</td>\n",
       "      <td>0.196777</td>\n",
       "      <td>0.548781</td>\n",
       "      <td>-0.365854</td>\n",
       "      <td>0.365854</td>\n",
       "      <td>2.222400</td>\n",
       "      <td>64.662773</td>\n",
       "      <td>239.999176</td>\n",
       "      <td>1.613472e+12</td>\n",
       "    </tr>\n",
       "    <tr>\n",
       "      <th>75%</th>\n",
       "      <td>0.994629</td>\n",
       "      <td>0.158691</td>\n",
       "      <td>0.447266</td>\n",
       "      <td>6.463415</td>\n",
       "      <td>3.475610</td>\n",
       "      <td>3.353659</td>\n",
       "      <td>24.504577</td>\n",
       "      <td>77.857861</td>\n",
       "      <td>341.061996</td>\n",
       "      <td>1.614937e+12</td>\n",
       "    </tr>\n",
       "    <tr>\n",
       "      <th>max</th>\n",
       "      <td>15.999512</td>\n",
       "      <td>13.734863</td>\n",
       "      <td>14.244141</td>\n",
       "      <td>1997.987793</td>\n",
       "      <td>1844.207397</td>\n",
       "      <td>1172.012207</td>\n",
       "      <td>179.999420</td>\n",
       "      <td>89.991936</td>\n",
       "      <td>359.999176</td>\n",
       "      <td>1.615570e+12</td>\n",
       "    </tr>\n",
       "  </tbody>\n",
       "</table>\n",
       "</div>"
      ],
      "text/plain": [
       "              Acc(X)         Acc(Y)         Acc(Z)         Rot(X)  \\\n",
       "count  678715.000000  678715.000000  678715.000000  678715.000000   \n",
       "mean        0.719117      -0.037409       0.194582       0.332711   \n",
       "std         0.522161       0.411668       0.480294      39.153883   \n",
       "min       -14.330566     -15.739258     -15.999512   -1997.987793   \n",
       "25%         0.580078      -0.250488      -0.009766      -5.487805   \n",
       "50%         0.907227      -0.034180       0.196777       0.548781   \n",
       "75%         0.994629       0.158691       0.447266       6.463415   \n",
       "max        15.999512      13.734863      14.244141    1997.987793   \n",
       "\n",
       "              Rot(Y)         Rot(Z)          Pitch           Roll  \\\n",
       "count  678715.000000  678715.000000  678715.000000  678715.000000   \n",
       "mean       -0.220278       0.391412      -8.048431      53.698468   \n",
       "std        48.799114      27.166656      83.289489      32.290934   \n",
       "min     -1997.987793    -768.475647    -179.998886     -87.712242   \n",
       "25%        -4.878049      -2.743902     -18.488931      41.500603   \n",
       "50%        -0.365854       0.365854       2.222400      64.662773   \n",
       "75%         3.475610       3.353659      24.504577      77.857861   \n",
       "max      1844.207397    1172.012207     179.999420      89.991936   \n",
       "\n",
       "                 Yaw     Timestamp  \n",
       "count  678715.000000  6.787150e+05  \n",
       "mean      208.737719  1.613281e+12  \n",
       "std       134.460734  1.891624e+09  \n",
       "min        -0.000000  1.608032e+12  \n",
       "25%        70.778984  1.611079e+12  \n",
       "50%       239.999176  1.613472e+12  \n",
       "75%       341.061996  1.614937e+12  \n",
       "max       359.999176  1.615570e+12  "
      ]
     },
     "execution_count": 24,
     "metadata": {},
     "output_type": "execute_result"
    }
   ],
   "source": [
    "df_all.describe()"
   ]
  },
  {
   "cell_type": "code",
   "execution_count": 13,
   "id": "b3cd70ab",
   "metadata": {},
   "outputs": [
    {
     "data": {
      "text/plain": [
       "Subject15-raw-all    75650\n",
       "Subject2-raw-all     57617\n",
       "Subject8-raw-all     53069\n",
       "Subject14-raw-all    47176\n",
       "Subject9-raw-all     43937\n",
       "Subject7-raw-all     43639\n",
       "Subject10-raw-all    39043\n",
       "Subject17-raw-all    38285\n",
       "Subject12-raw-all    37134\n",
       "Subject3-raw-all     34303\n",
       "Subject4-raw-all     34194\n",
       "Subject5-raw-all     32879\n",
       "Subject13-raw-all    32634\n",
       "Subject11-raw-all    29949\n",
       "Subject1-raw-all     29551\n",
       "Subject6-raw-all     25949\n",
       "Subject16-raw-all    23706\n",
       "Name: File, dtype: int64"
      ]
     },
     "execution_count": 13,
     "metadata": {},
     "output_type": "execute_result"
    }
   ],
   "source": [
    "df_all['File'].value_counts()"
   ]
  },
  {
   "cell_type": "code",
   "execution_count": 25,
   "id": "547652d4",
   "metadata": {},
   "outputs": [
    {
     "data": {
      "text/plain": [
       "Acc(X)       0\n",
       "Acc(Y)       0\n",
       "Acc(Z)       0\n",
       "Rot(X)       0\n",
       "Rot(Y)       0\n",
       "Rot(Z)       0\n",
       "Pitch        0\n",
       "Roll         0\n",
       "Yaw          0\n",
       "Timestamp    0\n",
       "File         0\n",
       "dtype: int64"
      ]
     },
     "execution_count": 25,
     "metadata": {},
     "output_type": "execute_result"
    }
   ],
   "source": [
    "df_all.isna().sum()"
   ]
  },
  {
   "cell_type": "markdown",
   "id": "66767a90",
   "metadata": {},
   "source": [
    "## Creating a dataframe for fall-dataset-features"
   ]
  },
  {
   "cell_type": "code",
   "execution_count": 45,
   "id": "322f5788",
   "metadata": {},
   "outputs": [],
   "source": [
    "# can replace this pathname with the full path to the folder locally\n",
    "path_feat = r'C:\\Users\\JonMc\\Documents\\Flatiron\\Fall_Detection_Model\\data\\fall-dataset\\fall-dataset-features' \n",
    "\n",
    "# Get the files from the path provided\n",
    "files_feat = Path(path_feat).glob('*.csv')"
   ]
  },
  {
   "cell_type": "code",
   "execution_count": 46,
   "id": "5eceea6b",
   "metadata": {},
   "outputs": [],
   "source": [
    "# this for loop will create a separate column based on the filename, to separate subjects if needed\n",
    "\n",
    "dfs_3 = []\n",
    "for f in files_feat:\n",
    "    data = pd.read_csv(f)\n",
    "    # .stem is method for pathlib objects to get the filename w/o the extension\n",
    "    data['File'] = f.stem\n",
    "    dfs_3.append(data)"
   ]
  },
  {
   "cell_type": "code",
   "execution_count": 47,
   "id": "b01f4d08",
   "metadata": {},
   "outputs": [],
   "source": [
    "# concatenating all 17 files into one dataframe\n",
    "df_feat = pd.concat(dfs_3, ignore_index=True)"
   ]
  },
  {
   "cell_type": "code",
   "execution_count": 48,
   "id": "0ce96f67",
   "metadata": {},
   "outputs": [
    {
     "data": {
      "text/html": [
       "<div>\n",
       "<style scoped>\n",
       "    .dataframe tbody tr th:only-of-type {\n",
       "        vertical-align: middle;\n",
       "    }\n",
       "\n",
       "    .dataframe tbody tr th {\n",
       "        vertical-align: top;\n",
       "    }\n",
       "\n",
       "    .dataframe thead th {\n",
       "        text-align: right;\n",
       "    }\n",
       "</style>\n",
       "<table border=\"1\" class=\"dataframe\">\n",
       "  <thead>\n",
       "    <tr style=\"text-align: right;\">\n",
       "      <th></th>\n",
       "      <th>Index</th>\n",
       "      <th>Acceleration Mean</th>\n",
       "      <th>Rotation Mean</th>\n",
       "      <th>Acceleration Variance</th>\n",
       "      <th>Rotation Variance</th>\n",
       "      <th>Acc Y Mean</th>\n",
       "      <th>Acc Z Mean</th>\n",
       "      <th>Rot Y Mean</th>\n",
       "      <th>Rot Z Mean</th>\n",
       "      <th>Max Acceleration</th>\n",
       "      <th>...</th>\n",
       "      <th>Yaw</th>\n",
       "      <th>Timestamp</th>\n",
       "      <th>Fall</th>\n",
       "      <th>Acc Y Stdev</th>\n",
       "      <th>Acc Z Stdev</th>\n",
       "      <th>Rot Y Stdev</th>\n",
       "      <th>Rot Z Stdev</th>\n",
       "      <th>Fourier Acc Coef</th>\n",
       "      <th>Fourier Rot Coef</th>\n",
       "      <th>File</th>\n",
       "    </tr>\n",
       "  </thead>\n",
       "  <tbody>\n",
       "    <tr>\n",
       "      <th>0</th>\n",
       "      <td>1</td>\n",
       "      <td>1.300608</td>\n",
       "      <td>41.745840</td>\n",
       "      <td>1.274991</td>\n",
       "      <td>148.636248</td>\n",
       "      <td>-0.125055</td>\n",
       "      <td>0.453730</td>\n",
       "      <td>3.412917</td>\n",
       "      <td>1.036585</td>\n",
       "      <td>9.392141</td>\n",
       "      <td>...</td>\n",
       "      <td>358.229492</td>\n",
       "      <td>1612546353614</td>\n",
       "      <td>0</td>\n",
       "      <td>0.483726</td>\n",
       "      <td>1.312748</td>\n",
       "      <td>109.027999</td>\n",
       "      <td>19.364234</td>\n",
       "      <td>92.343149</td>\n",
       "      <td>2963.954659</td>\n",
       "      <td>Subject1</td>\n",
       "    </tr>\n",
       "    <tr>\n",
       "      <th>1</th>\n",
       "      <td>2</td>\n",
       "      <td>1.239625</td>\n",
       "      <td>52.031510</td>\n",
       "      <td>1.069585</td>\n",
       "      <td>195.726419</td>\n",
       "      <td>-0.089449</td>\n",
       "      <td>0.413064</td>\n",
       "      <td>6.641859</td>\n",
       "      <td>1.184541</td>\n",
       "      <td>7.485130</td>\n",
       "      <td>...</td>\n",
       "      <td>359.792999</td>\n",
       "      <td>1612546357756</td>\n",
       "      <td>0</td>\n",
       "      <td>0.391341</td>\n",
       "      <td>1.206264</td>\n",
       "      <td>175.210145</td>\n",
       "      <td>6.265235</td>\n",
       "      <td>84.294529</td>\n",
       "      <td>3538.142670</td>\n",
       "      <td>Subject1</td>\n",
       "    </tr>\n",
       "    <tr>\n",
       "      <th>2</th>\n",
       "      <td>3</td>\n",
       "      <td>1.529465</td>\n",
       "      <td>89.170260</td>\n",
       "      <td>1.733220</td>\n",
       "      <td>262.935521</td>\n",
       "      <td>-0.087678</td>\n",
       "      <td>0.515523</td>\n",
       "      <td>7.205940</td>\n",
       "      <td>4.921322</td>\n",
       "      <td>11.018893</td>\n",
       "      <td>...</td>\n",
       "      <td>0.008551</td>\n",
       "      <td>1612546361670</td>\n",
       "      <td>0</td>\n",
       "      <td>1.210065</td>\n",
       "      <td>1.427617</td>\n",
       "      <td>154.932945</td>\n",
       "      <td>40.829397</td>\n",
       "      <td>94.826840</td>\n",
       "      <td>5528.556094</td>\n",
       "      <td>Subject1</td>\n",
       "    </tr>\n",
       "    <tr>\n",
       "      <th>3</th>\n",
       "      <td>4</td>\n",
       "      <td>1.060228</td>\n",
       "      <td>10.202447</td>\n",
       "      <td>0.237082</td>\n",
       "      <td>39.333528</td>\n",
       "      <td>-0.130035</td>\n",
       "      <td>0.457962</td>\n",
       "      <td>-6.646342</td>\n",
       "      <td>0.395517</td>\n",
       "      <td>2.969044</td>\n",
       "      <td>...</td>\n",
       "      <td>358.421753</td>\n",
       "      <td>1612546366033</td>\n",
       "      <td>0</td>\n",
       "      <td>0.064298</td>\n",
       "      <td>0.280493</td>\n",
       "      <td>35.358783</td>\n",
       "      <td>3.789023</td>\n",
       "      <td>78.456869</td>\n",
       "      <td>754.981105</td>\n",
       "      <td>Subject1</td>\n",
       "    </tr>\n",
       "    <tr>\n",
       "      <th>4</th>\n",
       "      <td>5</td>\n",
       "      <td>1.222219</td>\n",
       "      <td>30.061889</td>\n",
       "      <td>1.283746</td>\n",
       "      <td>120.337842</td>\n",
       "      <td>-0.140402</td>\n",
       "      <td>0.477546</td>\n",
       "      <td>-13.010453</td>\n",
       "      <td>0.682056</td>\n",
       "      <td>11.576874</td>\n",
       "      <td>...</td>\n",
       "      <td>357.713165</td>\n",
       "      <td>1612546370850</td>\n",
       "      <td>0</td>\n",
       "      <td>0.250743</td>\n",
       "      <td>1.194289</td>\n",
       "      <td>95.576180</td>\n",
       "      <td>6.248497</td>\n",
       "      <td>85.555305</td>\n",
       "      <td>2104.332225</td>\n",
       "      <td>Subject1</td>\n",
       "    </tr>\n",
       "  </tbody>\n",
       "</table>\n",
       "<p>5 rows × 26 columns</p>\n",
       "</div>"
      ],
      "text/plain": [
       "   Index  Acceleration Mean  Rotation Mean  Acceleration Variance  \\\n",
       "0      1           1.300608      41.745840               1.274991   \n",
       "1      2           1.239625      52.031510               1.069585   \n",
       "2      3           1.529465      89.170260               1.733220   \n",
       "3      4           1.060228      10.202447               0.237082   \n",
       "4      5           1.222219      30.061889               1.283746   \n",
       "\n",
       "   Rotation Variance  Acc Y Mean  Acc Z Mean  Rot Y Mean  Rot Z Mean  \\\n",
       "0         148.636248   -0.125055    0.453730    3.412917    1.036585   \n",
       "1         195.726419   -0.089449    0.413064    6.641859    1.184541   \n",
       "2         262.935521   -0.087678    0.515523    7.205940    4.921322   \n",
       "3          39.333528   -0.130035    0.457962   -6.646342    0.395517   \n",
       "4         120.337842   -0.140402    0.477546  -13.010453    0.682056   \n",
       "\n",
       "   Max Acceleration  ...         Yaw      Timestamp  Fall  Acc Y Stdev  \\\n",
       "0          9.392141  ...  358.229492  1612546353614     0     0.483726   \n",
       "1          7.485130  ...  359.792999  1612546357756     0     0.391341   \n",
       "2         11.018893  ...    0.008551  1612546361670     0     1.210065   \n",
       "3          2.969044  ...  358.421753  1612546366033     0     0.064298   \n",
       "4         11.576874  ...  357.713165  1612546370850     0     0.250743   \n",
       "\n",
       "   Acc Z Stdev  Rot Y Stdev  Rot Z Stdev  Fourier Acc Coef  Fourier Rot Coef  \\\n",
       "0     1.312748   109.027999    19.364234         92.343149       2963.954659   \n",
       "1     1.206264   175.210145     6.265235         84.294529       3538.142670   \n",
       "2     1.427617   154.932945    40.829397         94.826840       5528.556094   \n",
       "3     0.280493    35.358783     3.789023         78.456869        754.981105   \n",
       "4     1.194289    95.576180     6.248497         85.555305       2104.332225   \n",
       "\n",
       "       File  \n",
       "0  Subject1  \n",
       "1  Subject1  \n",
       "2  Subject1  \n",
       "3  Subject1  \n",
       "4  Subject1  \n",
       "\n",
       "[5 rows x 26 columns]"
      ]
     },
     "execution_count": 48,
     "metadata": {},
     "output_type": "execute_result"
    }
   ],
   "source": [
    "# sanity check\n",
    "df_feat.head()"
   ]
  },
  {
   "cell_type": "code",
   "execution_count": 102,
   "id": "fd057185",
   "metadata": {
    "collapsed": true
   },
   "outputs": [
    {
     "data": {
      "text/html": [
       "<div>\n",
       "<style scoped>\n",
       "    .dataframe tbody tr th:only-of-type {\n",
       "        vertical-align: middle;\n",
       "    }\n",
       "\n",
       "    .dataframe tbody tr th {\n",
       "        vertical-align: top;\n",
       "    }\n",
       "\n",
       "    .dataframe thead th {\n",
       "        text-align: right;\n",
       "    }\n",
       "</style>\n",
       "<table border=\"1\" class=\"dataframe\">\n",
       "  <thead>\n",
       "    <tr style=\"text-align: right;\">\n",
       "      <th></th>\n",
       "      <th>Index</th>\n",
       "      <th>Acceleration Mean</th>\n",
       "      <th>Rotation Mean</th>\n",
       "      <th>Acceleration Variance</th>\n",
       "      <th>Rotation Variance</th>\n",
       "      <th>Acc Y Mean</th>\n",
       "      <th>Acc Z Mean</th>\n",
       "      <th>Rot Y Mean</th>\n",
       "      <th>Rot Z Mean</th>\n",
       "      <th>Max Acceleration</th>\n",
       "      <th>...</th>\n",
       "      <th>Yaw</th>\n",
       "      <th>Timestamp</th>\n",
       "      <th>Fall</th>\n",
       "      <th>Acc Y Stdev</th>\n",
       "      <th>Acc Z Stdev</th>\n",
       "      <th>Rot Y Stdev</th>\n",
       "      <th>Rot Z Stdev</th>\n",
       "      <th>Fourier Acc Coef</th>\n",
       "      <th>Fourier Rot Coef</th>\n",
       "      <th>File</th>\n",
       "    </tr>\n",
       "  </thead>\n",
       "  <tbody>\n",
       "    <tr>\n",
       "      <th>0</th>\n",
       "      <td>1</td>\n",
       "      <td>1.300608</td>\n",
       "      <td>41.745840</td>\n",
       "      <td>1.274991</td>\n",
       "      <td>148.636248</td>\n",
       "      <td>-0.125055</td>\n",
       "      <td>0.453730</td>\n",
       "      <td>3.412917</td>\n",
       "      <td>1.036585</td>\n",
       "      <td>9.392141</td>\n",
       "      <td>...</td>\n",
       "      <td>358.229492</td>\n",
       "      <td>1612546353614</td>\n",
       "      <td>0</td>\n",
       "      <td>0.483726</td>\n",
       "      <td>1.312748</td>\n",
       "      <td>109.027999</td>\n",
       "      <td>19.364234</td>\n",
       "      <td>92.343149</td>\n",
       "      <td>2963.954659</td>\n",
       "      <td>Subject1</td>\n",
       "    </tr>\n",
       "    <tr>\n",
       "      <th>1</th>\n",
       "      <td>2</td>\n",
       "      <td>1.239625</td>\n",
       "      <td>52.031510</td>\n",
       "      <td>1.069585</td>\n",
       "      <td>195.726419</td>\n",
       "      <td>-0.089449</td>\n",
       "      <td>0.413064</td>\n",
       "      <td>6.641859</td>\n",
       "      <td>1.184541</td>\n",
       "      <td>7.485130</td>\n",
       "      <td>...</td>\n",
       "      <td>359.792999</td>\n",
       "      <td>1612546357756</td>\n",
       "      <td>0</td>\n",
       "      <td>0.391341</td>\n",
       "      <td>1.206264</td>\n",
       "      <td>175.210145</td>\n",
       "      <td>6.265235</td>\n",
       "      <td>84.294529</td>\n",
       "      <td>3538.142670</td>\n",
       "      <td>Subject1</td>\n",
       "    </tr>\n",
       "    <tr>\n",
       "      <th>2</th>\n",
       "      <td>3</td>\n",
       "      <td>1.529465</td>\n",
       "      <td>89.170260</td>\n",
       "      <td>1.733220</td>\n",
       "      <td>262.935521</td>\n",
       "      <td>-0.087678</td>\n",
       "      <td>0.515523</td>\n",
       "      <td>7.205940</td>\n",
       "      <td>4.921322</td>\n",
       "      <td>11.018893</td>\n",
       "      <td>...</td>\n",
       "      <td>0.008551</td>\n",
       "      <td>1612546361670</td>\n",
       "      <td>0</td>\n",
       "      <td>1.210065</td>\n",
       "      <td>1.427617</td>\n",
       "      <td>154.932945</td>\n",
       "      <td>40.829397</td>\n",
       "      <td>94.826840</td>\n",
       "      <td>5528.556094</td>\n",
       "      <td>Subject1</td>\n",
       "    </tr>\n",
       "    <tr>\n",
       "      <th>3</th>\n",
       "      <td>4</td>\n",
       "      <td>1.060228</td>\n",
       "      <td>10.202447</td>\n",
       "      <td>0.237082</td>\n",
       "      <td>39.333528</td>\n",
       "      <td>-0.130035</td>\n",
       "      <td>0.457962</td>\n",
       "      <td>-6.646342</td>\n",
       "      <td>0.395517</td>\n",
       "      <td>2.969044</td>\n",
       "      <td>...</td>\n",
       "      <td>358.421753</td>\n",
       "      <td>1612546366033</td>\n",
       "      <td>0</td>\n",
       "      <td>0.064298</td>\n",
       "      <td>0.280493</td>\n",
       "      <td>35.358783</td>\n",
       "      <td>3.789023</td>\n",
       "      <td>78.456869</td>\n",
       "      <td>754.981105</td>\n",
       "      <td>Subject1</td>\n",
       "    </tr>\n",
       "    <tr>\n",
       "      <th>4</th>\n",
       "      <td>5</td>\n",
       "      <td>1.222219</td>\n",
       "      <td>30.061889</td>\n",
       "      <td>1.283746</td>\n",
       "      <td>120.337842</td>\n",
       "      <td>-0.140402</td>\n",
       "      <td>0.477546</td>\n",
       "      <td>-13.010453</td>\n",
       "      <td>0.682056</td>\n",
       "      <td>11.576874</td>\n",
       "      <td>...</td>\n",
       "      <td>357.713165</td>\n",
       "      <td>1612546370850</td>\n",
       "      <td>0</td>\n",
       "      <td>0.250743</td>\n",
       "      <td>1.194289</td>\n",
       "      <td>95.576180</td>\n",
       "      <td>6.248497</td>\n",
       "      <td>85.555305</td>\n",
       "      <td>2104.332225</td>\n",
       "      <td>Subject1</td>\n",
       "    </tr>\n",
       "    <tr>\n",
       "      <th>5</th>\n",
       "      <td>6</td>\n",
       "      <td>1.586209</td>\n",
       "      <td>67.890393</td>\n",
       "      <td>2.247315</td>\n",
       "      <td>114.878237</td>\n",
       "      <td>-0.179645</td>\n",
       "      <td>0.559630</td>\n",
       "      <td>2.859436</td>\n",
       "      <td>-2.373770</td>\n",
       "      <td>14.055819</td>\n",
       "      <td>...</td>\n",
       "      <td>357.156738</td>\n",
       "      <td>1612546396631</td>\n",
       "      <td>0</td>\n",
       "      <td>0.639304</td>\n",
       "      <td>1.327880</td>\n",
       "      <td>110.568531</td>\n",
       "      <td>36.473423</td>\n",
       "      <td>90.413899</td>\n",
       "      <td>3869.752428</td>\n",
       "      <td>Subject1</td>\n",
       "    </tr>\n",
       "    <tr>\n",
       "      <th>6</th>\n",
       "      <td>7</td>\n",
       "      <td>1.512595</td>\n",
       "      <td>81.585007</td>\n",
       "      <td>1.620114</td>\n",
       "      <td>119.763670</td>\n",
       "      <td>-0.133317</td>\n",
       "      <td>0.639488</td>\n",
       "      <td>-12.511995</td>\n",
       "      <td>-7.885846</td>\n",
       "      <td>10.525451</td>\n",
       "      <td>...</td>\n",
       "      <td>350.824646</td>\n",
       "      <td>1612546401765</td>\n",
       "      <td>0</td>\n",
       "      <td>0.846939</td>\n",
       "      <td>1.248835</td>\n",
       "      <td>84.071822</td>\n",
       "      <td>33.797201</td>\n",
       "      <td>92.268325</td>\n",
       "      <td>4976.685438</td>\n",
       "      <td>Subject1</td>\n",
       "    </tr>\n",
       "    <tr>\n",
       "      <th>7</th>\n",
       "      <td>8</td>\n",
       "      <td>1.340308</td>\n",
       "      <td>57.541038</td>\n",
       "      <td>1.445330</td>\n",
       "      <td>94.965213</td>\n",
       "      <td>-0.235703</td>\n",
       "      <td>0.578407</td>\n",
       "      <td>5.504955</td>\n",
       "      <td>0.401105</td>\n",
       "      <td>10.616751</td>\n",
       "      <td>...</td>\n",
       "      <td>354.565460</td>\n",
       "      <td>1612546407119</td>\n",
       "      <td>0</td>\n",
       "      <td>0.439014</td>\n",
       "      <td>0.708348</td>\n",
       "      <td>90.423817</td>\n",
       "      <td>14.957783</td>\n",
       "      <td>85.779725</td>\n",
       "      <td>3682.626427</td>\n",
       "      <td>Subject1</td>\n",
       "    </tr>\n",
       "    <tr>\n",
       "      <th>8</th>\n",
       "      <td>9</td>\n",
       "      <td>1.375997</td>\n",
       "      <td>95.503753</td>\n",
       "      <td>1.227727</td>\n",
       "      <td>153.677428</td>\n",
       "      <td>-0.089980</td>\n",
       "      <td>0.435035</td>\n",
       "      <td>13.422632</td>\n",
       "      <td>-2.480008</td>\n",
       "      <td>7.254419</td>\n",
       "      <td>...</td>\n",
       "      <td>343.955811</td>\n",
       "      <td>1612546412113</td>\n",
       "      <td>0</td>\n",
       "      <td>0.744411</td>\n",
       "      <td>1.305662</td>\n",
       "      <td>117.593817</td>\n",
       "      <td>46.316231</td>\n",
       "      <td>83.935810</td>\n",
       "      <td>5825.728905</td>\n",
       "      <td>Subject1</td>\n",
       "    </tr>\n",
       "    <tr>\n",
       "      <th>9</th>\n",
       "      <td>10</td>\n",
       "      <td>1.151627</td>\n",
       "      <td>111.083964</td>\n",
       "      <td>1.445851</td>\n",
       "      <td>97.440283</td>\n",
       "      <td>-0.073564</td>\n",
       "      <td>0.394385</td>\n",
       "      <td>-22.507318</td>\n",
       "      <td>-2.796342</td>\n",
       "      <td>7.307068</td>\n",
       "      <td>...</td>\n",
       "      <td>341.684204</td>\n",
       "      <td>1612546416437</td>\n",
       "      <td>0</td>\n",
       "      <td>0.471556</td>\n",
       "      <td>1.210703</td>\n",
       "      <td>111.013056</td>\n",
       "      <td>32.379890</td>\n",
       "      <td>57.581350</td>\n",
       "      <td>5554.198210</td>\n",
       "      <td>Subject1</td>\n",
       "    </tr>\n",
       "    <tr>\n",
       "      <th>10</th>\n",
       "      <td>11</td>\n",
       "      <td>1.205469</td>\n",
       "      <td>119.764089</td>\n",
       "      <td>0.735896</td>\n",
       "      <td>96.381120</td>\n",
       "      <td>-0.178580</td>\n",
       "      <td>0.367814</td>\n",
       "      <td>-17.527303</td>\n",
       "      <td>41.782855</td>\n",
       "      <td>4.158548</td>\n",
       "      <td>...</td>\n",
       "      <td>135.831741</td>\n",
       "      <td>1612546443967</td>\n",
       "      <td>0</td>\n",
       "      <td>0.323955</td>\n",
       "      <td>0.661324</td>\n",
       "      <td>84.794294</td>\n",
       "      <td>59.649787</td>\n",
       "      <td>80.766412</td>\n",
       "      <td>8024.193993</td>\n",
       "      <td>Subject1</td>\n",
       "    </tr>\n",
       "    <tr>\n",
       "      <th>11</th>\n",
       "      <td>12</td>\n",
       "      <td>1.251185</td>\n",
       "      <td>126.349071</td>\n",
       "      <td>0.970730</td>\n",
       "      <td>75.919168</td>\n",
       "      <td>-0.236011</td>\n",
       "      <td>0.269313</td>\n",
       "      <td>-13.834977</td>\n",
       "      <td>45.470292</td>\n",
       "      <td>7.300836</td>\n",
       "      <td>...</td>\n",
       "      <td>335.213226</td>\n",
       "      <td>1612546450399</td>\n",
       "      <td>0</td>\n",
       "      <td>0.352495</td>\n",
       "      <td>0.536398</td>\n",
       "      <td>73.747142</td>\n",
       "      <td>37.819419</td>\n",
       "      <td>117.611347</td>\n",
       "      <td>11876.812703</td>\n",
       "      <td>Subject1</td>\n",
       "    </tr>\n",
       "    <tr>\n",
       "      <th>12</th>\n",
       "      <td>13</td>\n",
       "      <td>1.219249</td>\n",
       "      <td>99.256222</td>\n",
       "      <td>0.801188</td>\n",
       "      <td>68.289878</td>\n",
       "      <td>-0.218800</td>\n",
       "      <td>0.343657</td>\n",
       "      <td>-21.194405</td>\n",
       "      <td>38.925754</td>\n",
       "      <td>5.186907</td>\n",
       "      <td>...</td>\n",
       "      <td>144.595978</td>\n",
       "      <td>1612546456788</td>\n",
       "      <td>0</td>\n",
       "      <td>0.394174</td>\n",
       "      <td>0.474088</td>\n",
       "      <td>55.948668</td>\n",
       "      <td>38.071693</td>\n",
       "      <td>82.908941</td>\n",
       "      <td>6749.423111</td>\n",
       "      <td>Subject1</td>\n",
       "    </tr>\n",
       "    <tr>\n",
       "      <th>13</th>\n",
       "      <td>14</td>\n",
       "      <td>1.436286</td>\n",
       "      <td>129.281347</td>\n",
       "      <td>1.742043</td>\n",
       "      <td>116.387417</td>\n",
       "      <td>-0.286202</td>\n",
       "      <td>0.335656</td>\n",
       "      <td>-15.468585</td>\n",
       "      <td>19.050902</td>\n",
       "      <td>11.485087</td>\n",
       "      <td>...</td>\n",
       "      <td>309.313660</td>\n",
       "      <td>1612546463046</td>\n",
       "      <td>0</td>\n",
       "      <td>0.709079</td>\n",
       "      <td>0.729408</td>\n",
       "      <td>133.345136</td>\n",
       "      <td>43.585202</td>\n",
       "      <td>132.138296</td>\n",
       "      <td>11893.883966</td>\n",
       "      <td>Subject1</td>\n",
       "    </tr>\n",
       "    <tr>\n",
       "      <th>14</th>\n",
       "      <td>15</td>\n",
       "      <td>1.235583</td>\n",
       "      <td>112.346920</td>\n",
       "      <td>0.709366</td>\n",
       "      <td>89.830306</td>\n",
       "      <td>-0.337101</td>\n",
       "      <td>0.300496</td>\n",
       "      <td>-18.711383</td>\n",
       "      <td>42.350611</td>\n",
       "      <td>4.270304</td>\n",
       "      <td>...</td>\n",
       "      <td>112.977402</td>\n",
       "      <td>1612546469257</td>\n",
       "      <td>0</td>\n",
       "      <td>0.445902</td>\n",
       "      <td>0.557124</td>\n",
       "      <td>82.771658</td>\n",
       "      <td>53.416507</td>\n",
       "      <td>74.134956</td>\n",
       "      <td>6740.815184</td>\n",
       "      <td>Subject1</td>\n",
       "    </tr>\n",
       "    <tr>\n",
       "      <th>15</th>\n",
       "      <td>16</td>\n",
       "      <td>1.157391</td>\n",
       "      <td>27.925955</td>\n",
       "      <td>0.637081</td>\n",
       "      <td>35.335399</td>\n",
       "      <td>0.160658</td>\n",
       "      <td>0.875795</td>\n",
       "      <td>-0.975610</td>\n",
       "      <td>0.679443</td>\n",
       "      <td>4.308703</td>\n",
       "      <td>...</td>\n",
       "      <td>348.191315</td>\n",
       "      <td>1612546527120</td>\n",
       "      <td>0</td>\n",
       "      <td>0.174781</td>\n",
       "      <td>0.509757</td>\n",
       "      <td>35.967768</td>\n",
       "      <td>16.677552</td>\n",
       "      <td>81.017397</td>\n",
       "      <td>1954.816860</td>\n",
       "      <td>Subject1</td>\n",
       "    </tr>\n",
       "    <tr>\n",
       "      <th>16</th>\n",
       "      <td>17</td>\n",
       "      <td>1.225876</td>\n",
       "      <td>37.731657</td>\n",
       "      <td>0.816982</td>\n",
       "      <td>37.633698</td>\n",
       "      <td>0.240730</td>\n",
       "      <td>0.858398</td>\n",
       "      <td>6.448633</td>\n",
       "      <td>-2.978566</td>\n",
       "      <td>4.174102</td>\n",
       "      <td>...</td>\n",
       "      <td>352.325287</td>\n",
       "      <td>1612546535667</td>\n",
       "      <td>0</td>\n",
       "      <td>0.227207</td>\n",
       "      <td>0.596902</td>\n",
       "      <td>41.186038</td>\n",
       "      <td>17.765648</td>\n",
       "      <td>80.907803</td>\n",
       "      <td>2490.289374</td>\n",
       "      <td>Subject1</td>\n",
       "    </tr>\n",
       "    <tr>\n",
       "      <th>17</th>\n",
       "      <td>18</td>\n",
       "      <td>1.168296</td>\n",
       "      <td>24.856624</td>\n",
       "      <td>0.552027</td>\n",
       "      <td>24.992607</td>\n",
       "      <td>0.267320</td>\n",
       "      <td>0.856327</td>\n",
       "      <td>4.391115</td>\n",
       "      <td>-5.053136</td>\n",
       "      <td>3.047953</td>\n",
       "      <td>...</td>\n",
       "      <td>357.189728</td>\n",
       "      <td>1612546542776</td>\n",
       "      <td>0</td>\n",
       "      <td>0.231107</td>\n",
       "      <td>0.408635</td>\n",
       "      <td>23.901046</td>\n",
       "      <td>20.316794</td>\n",
       "      <td>81.780724</td>\n",
       "      <td>1739.963660</td>\n",
       "      <td>Subject1</td>\n",
       "    </tr>\n",
       "    <tr>\n",
       "      <th>18</th>\n",
       "      <td>19</td>\n",
       "      <td>1.161149</td>\n",
       "      <td>23.080516</td>\n",
       "      <td>0.587430</td>\n",
       "      <td>29.274659</td>\n",
       "      <td>0.225753</td>\n",
       "      <td>0.879916</td>\n",
       "      <td>4.228199</td>\n",
       "      <td>-5.087705</td>\n",
       "      <td>3.204121</td>\n",
       "      <td>...</td>\n",
       "      <td>354.894562</td>\n",
       "      <td>1612546549795</td>\n",
       "      <td>0</td>\n",
       "      <td>0.220220</td>\n",
       "      <td>0.467712</td>\n",
       "      <td>26.951006</td>\n",
       "      <td>17.650002</td>\n",
       "      <td>84.763896</td>\n",
       "      <td>1684.877683</td>\n",
       "      <td>Subject1</td>\n",
       "    </tr>\n",
       "    <tr>\n",
       "      <th>19</th>\n",
       "      <td>20</td>\n",
       "      <td>1.229584</td>\n",
       "      <td>32.014987</td>\n",
       "      <td>0.697718</td>\n",
       "      <td>49.136375</td>\n",
       "      <td>0.218803</td>\n",
       "      <td>0.961238</td>\n",
       "      <td>-0.216698</td>\n",
       "      <td>1.615385</td>\n",
       "      <td>4.216260</td>\n",
       "      <td>...</td>\n",
       "      <td>338.724701</td>\n",
       "      <td>1612546610855</td>\n",
       "      <td>0</td>\n",
       "      <td>0.247305</td>\n",
       "      <td>0.579035</td>\n",
       "      <td>41.141445</td>\n",
       "      <td>24.319102</td>\n",
       "      <td>79.922945</td>\n",
       "      <td>2080.974136</td>\n",
       "      <td>Subject1</td>\n",
       "    </tr>\n",
       "    <tr>\n",
       "      <th>20</th>\n",
       "      <td>21</td>\n",
       "      <td>1.179639</td>\n",
       "      <td>23.072093</td>\n",
       "      <td>1.076138</td>\n",
       "      <td>91.865626</td>\n",
       "      <td>-0.192299</td>\n",
       "      <td>0.423317</td>\n",
       "      <td>3.742378</td>\n",
       "      <td>0.814596</td>\n",
       "      <td>9.589919</td>\n",
       "      <td>...</td>\n",
       "      <td>2.320225</td>\n",
       "      <td>1612546664761</td>\n",
       "      <td>0</td>\n",
       "      <td>0.045309</td>\n",
       "      <td>1.095916</td>\n",
       "      <td>90.679761</td>\n",
       "      <td>6.261514</td>\n",
       "      <td>75.496882</td>\n",
       "      <td>1476.613959</td>\n",
       "      <td>Subject1</td>\n",
       "    </tr>\n",
       "    <tr>\n",
       "      <th>21</th>\n",
       "      <td>22</td>\n",
       "      <td>1.273151</td>\n",
       "      <td>38.204786</td>\n",
       "      <td>1.325481</td>\n",
       "      <td>220.071007</td>\n",
       "      <td>-0.124023</td>\n",
       "      <td>0.101160</td>\n",
       "      <td>-18.915623</td>\n",
       "      <td>1.158537</td>\n",
       "      <td>10.854818</td>\n",
       "      <td>...</td>\n",
       "      <td>359.126007</td>\n",
       "      <td>1612546674931</td>\n",
       "      <td>0</td>\n",
       "      <td>0.127151</td>\n",
       "      <td>1.551047</td>\n",
       "      <td>221.559734</td>\n",
       "      <td>9.248786</td>\n",
       "      <td>94.213184</td>\n",
       "      <td>2827.154199</td>\n",
       "      <td>Subject1</td>\n",
       "    </tr>\n",
       "    <tr>\n",
       "      <th>22</th>\n",
       "      <td>23</td>\n",
       "      <td>1.288037</td>\n",
       "      <td>38.740622</td>\n",
       "      <td>2.126383</td>\n",
       "      <td>290.556455</td>\n",
       "      <td>0.033119</td>\n",
       "      <td>0.605972</td>\n",
       "      <td>-31.705411</td>\n",
       "      <td>4.919969</td>\n",
       "      <td>18.033135</td>\n",
       "      <td>...</td>\n",
       "      <td>357.942566</td>\n",
       "      <td>1612546681498</td>\n",
       "      <td>0</td>\n",
       "      <td>0.780989</td>\n",
       "      <td>0.980978</td>\n",
       "      <td>249.688194</td>\n",
       "      <td>37.657578</td>\n",
       "      <td>82.434345</td>\n",
       "      <td>2479.399839</td>\n",
       "      <td>Subject1</td>\n",
       "    </tr>\n",
       "    <tr>\n",
       "      <th>23</th>\n",
       "      <td>24</td>\n",
       "      <td>1.272755</td>\n",
       "      <td>20.690059</td>\n",
       "      <td>1.465240</td>\n",
       "      <td>116.752661</td>\n",
       "      <td>-0.045590</td>\n",
       "      <td>0.538048</td>\n",
       "      <td>9.687618</td>\n",
       "      <td>-0.587242</td>\n",
       "      <td>11.831904</td>\n",
       "      <td>...</td>\n",
       "      <td>357.915710</td>\n",
       "      <td>1612546686362</td>\n",
       "      <td>0</td>\n",
       "      <td>0.278977</td>\n",
       "      <td>1.311708</td>\n",
       "      <td>114.888517</td>\n",
       "      <td>8.443482</td>\n",
       "      <td>82.729066</td>\n",
       "      <td>1344.853846</td>\n",
       "      <td>Subject1</td>\n",
       "    </tr>\n",
       "    <tr>\n",
       "      <th>24</th>\n",
       "      <td>25</td>\n",
       "      <td>1.234411</td>\n",
       "      <td>20.477665</td>\n",
       "      <td>1.430161</td>\n",
       "      <td>101.203805</td>\n",
       "      <td>-0.059060</td>\n",
       "      <td>0.244004</td>\n",
       "      <td>-9.376793</td>\n",
       "      <td>0.165890</td>\n",
       "      <td>12.677844</td>\n",
       "      <td>...</td>\n",
       "      <td>357.097168</td>\n",
       "      <td>1612546690957</td>\n",
       "      <td>0</td>\n",
       "      <td>0.180157</td>\n",
       "      <td>1.571478</td>\n",
       "      <td>89.081280</td>\n",
       "      <td>6.110969</td>\n",
       "      <td>83.939929</td>\n",
       "      <td>1392.481195</td>\n",
       "      <td>Subject1</td>\n",
       "    </tr>\n",
       "    <tr>\n",
       "      <th>25</th>\n",
       "      <td>26</td>\n",
       "      <td>1.147769</td>\n",
       "      <td>54.073722</td>\n",
       "      <td>0.684097</td>\n",
       "      <td>139.787045</td>\n",
       "      <td>0.126687</td>\n",
       "      <td>-1.085236</td>\n",
       "      <td>-25.106431</td>\n",
       "      <td>-7.502217</td>\n",
       "      <td>5.102837</td>\n",
       "      <td>...</td>\n",
       "      <td>316.595306</td>\n",
       "      <td>1612546718736</td>\n",
       "      <td>1</td>\n",
       "      <td>0.224885</td>\n",
       "      <td>0.510792</td>\n",
       "      <td>139.679437</td>\n",
       "      <td>31.092267</td>\n",
       "      <td>63.127315</td>\n",
       "      <td>2974.054711</td>\n",
       "      <td>Subject1</td>\n",
       "    </tr>\n",
       "    <tr>\n",
       "      <th>26</th>\n",
       "      <td>27</td>\n",
       "      <td>1.436356</td>\n",
       "      <td>108.648875</td>\n",
       "      <td>1.581840</td>\n",
       "      <td>153.426554</td>\n",
       "      <td>0.347600</td>\n",
       "      <td>-1.141155</td>\n",
       "      <td>-64.074915</td>\n",
       "      <td>-15.310105</td>\n",
       "      <td>10.110145</td>\n",
       "      <td>...</td>\n",
       "      <td>316.992432</td>\n",
       "      <td>1612546730485</td>\n",
       "      <td>1</td>\n",
       "      <td>0.413257</td>\n",
       "      <td>1.303667</td>\n",
       "      <td>160.614240</td>\n",
       "      <td>38.775273</td>\n",
       "      <td>50.272452</td>\n",
       "      <td>3802.710640</td>\n",
       "      <td>Subject1</td>\n",
       "    </tr>\n",
       "    <tr>\n",
       "      <th>27</th>\n",
       "      <td>28</td>\n",
       "      <td>1.141098</td>\n",
       "      <td>63.682474</td>\n",
       "      <td>0.513620</td>\n",
       "      <td>51.888328</td>\n",
       "      <td>0.642559</td>\n",
       "      <td>-0.837327</td>\n",
       "      <td>-32.174016</td>\n",
       "      <td>-13.550657</td>\n",
       "      <td>3.253906</td>\n",
       "      <td>...</td>\n",
       "      <td>296.394989</td>\n",
       "      <td>1612546745881</td>\n",
       "      <td>1</td>\n",
       "      <td>0.355490</td>\n",
       "      <td>0.369438</td>\n",
       "      <td>57.844864</td>\n",
       "      <td>30.209487</td>\n",
       "      <td>59.337101</td>\n",
       "      <td>3311.488628</td>\n",
       "      <td>Subject1</td>\n",
       "    </tr>\n",
       "    <tr>\n",
       "      <th>28</th>\n",
       "      <td>29</td>\n",
       "      <td>1.094106</td>\n",
       "      <td>76.346267</td>\n",
       "      <td>0.536324</td>\n",
       "      <td>58.060689</td>\n",
       "      <td>0.891163</td>\n",
       "      <td>-0.473145</td>\n",
       "      <td>7.246796</td>\n",
       "      <td>5.457834</td>\n",
       "      <td>3.603859</td>\n",
       "      <td>...</td>\n",
       "      <td>30.043760</td>\n",
       "      <td>1612546761488</td>\n",
       "      <td>1</td>\n",
       "      <td>0.516907</td>\n",
       "      <td>0.255046</td>\n",
       "      <td>49.448331</td>\n",
       "      <td>50.027648</td>\n",
       "      <td>64.552263</td>\n",
       "      <td>4504.429774</td>\n",
       "      <td>Subject1</td>\n",
       "    </tr>\n",
       "    <tr>\n",
       "      <th>29</th>\n",
       "      <td>30</td>\n",
       "      <td>1.210486</td>\n",
       "      <td>134.742131</td>\n",
       "      <td>0.679028</td>\n",
       "      <td>44.848297</td>\n",
       "      <td>0.818839</td>\n",
       "      <td>-0.094984</td>\n",
       "      <td>-37.319213</td>\n",
       "      <td>-62.042150</td>\n",
       "      <td>3.799338</td>\n",
       "      <td>...</td>\n",
       "      <td>61.011036</td>\n",
       "      <td>1612546773337</td>\n",
       "      <td>1</td>\n",
       "      <td>0.428925</td>\n",
       "      <td>0.563444</td>\n",
       "      <td>73.064235</td>\n",
       "      <td>54.427842</td>\n",
       "      <td>68.997703</td>\n",
       "      <td>7680.301482</td>\n",
       "      <td>Subject1</td>\n",
       "    </tr>\n",
       "    <tr>\n",
       "      <th>30</th>\n",
       "      <td>31</td>\n",
       "      <td>1.585578</td>\n",
       "      <td>103.753828</td>\n",
       "      <td>2.031030</td>\n",
       "      <td>214.338155</td>\n",
       "      <td>-1.173352</td>\n",
       "      <td>-0.211724</td>\n",
       "      <td>-50.365854</td>\n",
       "      <td>-7.263534</td>\n",
       "      <td>11.793429</td>\n",
       "      <td>...</td>\n",
       "      <td>321.548645</td>\n",
       "      <td>1612546928987</td>\n",
       "      <td>1</td>\n",
       "      <td>1.479523</td>\n",
       "      <td>1.129052</td>\n",
       "      <td>166.835450</td>\n",
       "      <td>88.091575</td>\n",
       "      <td>65.008717</td>\n",
       "      <td>4253.906950</td>\n",
       "      <td>Subject1</td>\n",
       "    </tr>\n",
       "    <tr>\n",
       "      <th>31</th>\n",
       "      <td>32</td>\n",
       "      <td>1.501249</td>\n",
       "      <td>156.252430</td>\n",
       "      <td>1.104788</td>\n",
       "      <td>146.248628</td>\n",
       "      <td>-0.419922</td>\n",
       "      <td>0.138165</td>\n",
       "      <td>24.563790</td>\n",
       "      <td>53.590526</td>\n",
       "      <td>4.559047</td>\n",
       "      <td>...</td>\n",
       "      <td>284.285065</td>\n",
       "      <td>1612546941631</td>\n",
       "      <td>1</td>\n",
       "      <td>1.048983</td>\n",
       "      <td>1.133796</td>\n",
       "      <td>110.092264</td>\n",
       "      <td>103.219165</td>\n",
       "      <td>39.032466</td>\n",
       "      <td>4062.563184</td>\n",
       "      <td>Subject1</td>\n",
       "    </tr>\n",
       "    <tr>\n",
       "      <th>32</th>\n",
       "      <td>33</td>\n",
       "      <td>1.485998</td>\n",
       "      <td>179.269738</td>\n",
       "      <td>1.185892</td>\n",
       "      <td>206.109968</td>\n",
       "      <td>-1.007427</td>\n",
       "      <td>0.032676</td>\n",
       "      <td>-45.819964</td>\n",
       "      <td>14.935816</td>\n",
       "      <td>6.220436</td>\n",
       "      <td>...</td>\n",
       "      <td>242.320023</td>\n",
       "      <td>1612546960988</td>\n",
       "      <td>1</td>\n",
       "      <td>0.953356</td>\n",
       "      <td>0.861822</td>\n",
       "      <td>198.828890</td>\n",
       "      <td>79.949316</td>\n",
       "      <td>56.467911</td>\n",
       "      <td>6812.250057</td>\n",
       "      <td>Subject1</td>\n",
       "    </tr>\n",
       "    <tr>\n",
       "      <th>33</th>\n",
       "      <td>34</td>\n",
       "      <td>1.727128</td>\n",
       "      <td>150.289062</td>\n",
       "      <td>1.956569</td>\n",
       "      <td>190.411795</td>\n",
       "      <td>-1.269343</td>\n",
       "      <td>-0.121294</td>\n",
       "      <td>-63.033537</td>\n",
       "      <td>-3.180432</td>\n",
       "      <td>9.148723</td>\n",
       "      <td>...</td>\n",
       "      <td>218.874878</td>\n",
       "      <td>1612546973348</td>\n",
       "      <td>1</td>\n",
       "      <td>1.374188</td>\n",
       "      <td>1.043747</td>\n",
       "      <td>156.749712</td>\n",
       "      <td>86.714705</td>\n",
       "      <td>75.993636</td>\n",
       "      <td>6612.718734</td>\n",
       "      <td>Subject1</td>\n",
       "    </tr>\n",
       "    <tr>\n",
       "      <th>34</th>\n",
       "      <td>35</td>\n",
       "      <td>2.288287</td>\n",
       "      <td>209.195844</td>\n",
       "      <td>2.027024</td>\n",
       "      <td>186.357874</td>\n",
       "      <td>-1.153095</td>\n",
       "      <td>0.760085</td>\n",
       "      <td>-100.335367</td>\n",
       "      <td>-3.205910</td>\n",
       "      <td>8.332800</td>\n",
       "      <td>...</td>\n",
       "      <td>272.303558</td>\n",
       "      <td>1612547037182</td>\n",
       "      <td>1</td>\n",
       "      <td>1.464568</td>\n",
       "      <td>1.679079</td>\n",
       "      <td>149.811609</td>\n",
       "      <td>122.115118</td>\n",
       "      <td>59.495455</td>\n",
       "      <td>5439.091955</td>\n",
       "      <td>Subject1</td>\n",
       "    </tr>\n",
       "    <tr>\n",
       "      <th>35</th>\n",
       "      <td>36</td>\n",
       "      <td>1.387237</td>\n",
       "      <td>150.132549</td>\n",
       "      <td>1.309543</td>\n",
       "      <td>131.047635</td>\n",
       "      <td>0.380949</td>\n",
       "      <td>-0.256513</td>\n",
       "      <td>8.714359</td>\n",
       "      <td>2.257815</td>\n",
       "      <td>8.770475</td>\n",
       "      <td>...</td>\n",
       "      <td>113.452652</td>\n",
       "      <td>1612547085240</td>\n",
       "      <td>1</td>\n",
       "      <td>0.722858</td>\n",
       "      <td>0.659574</td>\n",
       "      <td>156.403880</td>\n",
       "      <td>63.566417</td>\n",
       "      <td>98.493819</td>\n",
       "      <td>10659.411008</td>\n",
       "      <td>Subject1</td>\n",
       "    </tr>\n",
       "    <tr>\n",
       "      <th>36</th>\n",
       "      <td>37</td>\n",
       "      <td>1.483062</td>\n",
       "      <td>166.726005</td>\n",
       "      <td>1.356876</td>\n",
       "      <td>124.772192</td>\n",
       "      <td>0.136533</td>\n",
       "      <td>-0.138889</td>\n",
       "      <td>85.508132</td>\n",
       "      <td>-38.332366</td>\n",
       "      <td>9.273388</td>\n",
       "      <td>...</td>\n",
       "      <td>118.488754</td>\n",
       "      <td>1612547096759</td>\n",
       "      <td>1</td>\n",
       "      <td>0.934046</td>\n",
       "      <td>0.997673</td>\n",
       "      <td>142.570911</td>\n",
       "      <td>75.980427</td>\n",
       "      <td>93.432911</td>\n",
       "      <td>10503.738318</td>\n",
       "      <td>Subject1</td>\n",
       "    </tr>\n",
       "    <tr>\n",
       "      <th>37</th>\n",
       "      <td>38</td>\n",
       "      <td>1.522067</td>\n",
       "      <td>209.740204</td>\n",
       "      <td>1.635040</td>\n",
       "      <td>157.000296</td>\n",
       "      <td>0.437012</td>\n",
       "      <td>-0.186269</td>\n",
       "      <td>60.722816</td>\n",
       "      <td>-50.205794</td>\n",
       "      <td>10.088836</td>\n",
       "      <td>...</td>\n",
       "      <td>51.667915</td>\n",
       "      <td>1612547147383</td>\n",
       "      <td>1</td>\n",
       "      <td>1.316708</td>\n",
       "      <td>1.071768</td>\n",
       "      <td>204.326731</td>\n",
       "      <td>74.175263</td>\n",
       "      <td>73.059210</td>\n",
       "      <td>10067.529806</td>\n",
       "      <td>Subject1</td>\n",
       "    </tr>\n",
       "    <tr>\n",
       "      <th>38</th>\n",
       "      <td>39</td>\n",
       "      <td>1.386883</td>\n",
       "      <td>198.612853</td>\n",
       "      <td>0.753112</td>\n",
       "      <td>127.530940</td>\n",
       "      <td>0.196935</td>\n",
       "      <td>-0.260899</td>\n",
       "      <td>103.344360</td>\n",
       "      <td>-51.607070</td>\n",
       "      <td>4.279575</td>\n",
       "      <td>...</td>\n",
       "      <td>33.125607</td>\n",
       "      <td>1612547191215</td>\n",
       "      <td>1</td>\n",
       "      <td>0.920461</td>\n",
       "      <td>0.933283</td>\n",
       "      <td>172.480801</td>\n",
       "      <td>85.564518</td>\n",
       "      <td>81.826120</td>\n",
       "      <td>11718.158332</td>\n",
       "      <td>Subject1</td>\n",
       "    </tr>\n",
       "    <tr>\n",
       "      <th>39</th>\n",
       "      <td>40</td>\n",
       "      <td>1.485242</td>\n",
       "      <td>191.181323</td>\n",
       "      <td>1.108613</td>\n",
       "      <td>94.202477</td>\n",
       "      <td>0.509975</td>\n",
       "      <td>-0.067961</td>\n",
       "      <td>111.674966</td>\n",
       "      <td>-33.565207</td>\n",
       "      <td>6.130215</td>\n",
       "      <td>...</td>\n",
       "      <td>68.789093</td>\n",
       "      <td>1612547236938</td>\n",
       "      <td>1</td>\n",
       "      <td>0.825697</td>\n",
       "      <td>0.796369</td>\n",
       "      <td>142.157296</td>\n",
       "      <td>53.585571</td>\n",
       "      <td>72.776846</td>\n",
       "      <td>9367.884827</td>\n",
       "      <td>Subject1</td>\n",
       "    </tr>\n",
       "    <tr>\n",
       "      <th>40</th>\n",
       "      <td>41</td>\n",
       "      <td>1.168448</td>\n",
       "      <td>92.611108</td>\n",
       "      <td>0.607635</td>\n",
       "      <td>119.692923</td>\n",
       "      <td>-0.663986</td>\n",
       "      <td>0.727218</td>\n",
       "      <td>-43.481708</td>\n",
       "      <td>2.455575</td>\n",
       "      <td>5.671975</td>\n",
       "      <td>...</td>\n",
       "      <td>341.848694</td>\n",
       "      <td>1612547294360</td>\n",
       "      <td>1</td>\n",
       "      <td>0.495397</td>\n",
       "      <td>0.558417</td>\n",
       "      <td>101.051596</td>\n",
       "      <td>44.519011</td>\n",
       "      <td>81.791392</td>\n",
       "      <td>6482.777589</td>\n",
       "      <td>Subject1</td>\n",
       "    </tr>\n",
       "    <tr>\n",
       "      <th>41</th>\n",
       "      <td>42</td>\n",
       "      <td>1.131950</td>\n",
       "      <td>62.741599</td>\n",
       "      <td>0.554470</td>\n",
       "      <td>104.743260</td>\n",
       "      <td>-0.561488</td>\n",
       "      <td>0.852822</td>\n",
       "      <td>-35.966774</td>\n",
       "      <td>1.802757</td>\n",
       "      <td>5.172465</td>\n",
       "      <td>...</td>\n",
       "      <td>356.387787</td>\n",
       "      <td>1612547316457</td>\n",
       "      <td>1</td>\n",
       "      <td>0.360935</td>\n",
       "      <td>0.260251</td>\n",
       "      <td>98.121637</td>\n",
       "      <td>26.480764</td>\n",
       "      <td>78.104582</td>\n",
       "      <td>4329.170299</td>\n",
       "      <td>Subject1</td>\n",
       "    </tr>\n",
       "    <tr>\n",
       "      <th>42</th>\n",
       "      <td>43</td>\n",
       "      <td>1.333665</td>\n",
       "      <td>127.424346</td>\n",
       "      <td>0.984505</td>\n",
       "      <td>161.521362</td>\n",
       "      <td>-0.714390</td>\n",
       "      <td>0.837025</td>\n",
       "      <td>-79.157041</td>\n",
       "      <td>6.006632</td>\n",
       "      <td>6.391190</td>\n",
       "      <td>...</td>\n",
       "      <td>345.756256</td>\n",
       "      <td>1612547339226</td>\n",
       "      <td>1</td>\n",
       "      <td>0.573285</td>\n",
       "      <td>0.877342</td>\n",
       "      <td>152.360588</td>\n",
       "      <td>57.376606</td>\n",
       "      <td>76.018899</td>\n",
       "      <td>7263.187726</td>\n",
       "      <td>Subject1</td>\n",
       "    </tr>\n",
       "    <tr>\n",
       "      <th>43</th>\n",
       "      <td>44</td>\n",
       "      <td>1.153743</td>\n",
       "      <td>75.102603</td>\n",
       "      <td>0.350928</td>\n",
       "      <td>125.368902</td>\n",
       "      <td>-0.549557</td>\n",
       "      <td>0.847949</td>\n",
       "      <td>-52.739213</td>\n",
       "      <td>-3.359287</td>\n",
       "      <td>2.518995</td>\n",
       "      <td>...</td>\n",
       "      <td>348.614349</td>\n",
       "      <td>1612547433411</td>\n",
       "      <td>1</td>\n",
       "      <td>0.330710</td>\n",
       "      <td>0.479085</td>\n",
       "      <td>112.129900</td>\n",
       "      <td>21.126770</td>\n",
       "      <td>74.993266</td>\n",
       "      <td>4881.669190</td>\n",
       "      <td>Subject1</td>\n",
       "    </tr>\n",
       "    <tr>\n",
       "      <th>44</th>\n",
       "      <td>45</td>\n",
       "      <td>1.282919</td>\n",
       "      <td>117.219884</td>\n",
       "      <td>0.733107</td>\n",
       "      <td>171.916668</td>\n",
       "      <td>-0.586225</td>\n",
       "      <td>0.806313</td>\n",
       "      <td>-75.775143</td>\n",
       "      <td>-0.315737</td>\n",
       "      <td>4.978973</td>\n",
       "      <td>...</td>\n",
       "      <td>331.817780</td>\n",
       "      <td>1612547465538</td>\n",
       "      <td>1</td>\n",
       "      <td>0.496007</td>\n",
       "      <td>0.577197</td>\n",
       "      <td>163.538102</td>\n",
       "      <td>29.378026</td>\n",
       "      <td>93.653095</td>\n",
       "      <td>8557.051550</td>\n",
       "      <td>Subject1</td>\n",
       "    </tr>\n",
       "    <tr>\n",
       "      <th>45</th>\n",
       "      <td>1</td>\n",
       "      <td>1.121284</td>\n",
       "      <td>14.552202</td>\n",
       "      <td>0.661254</td>\n",
       "      <td>58.854891</td>\n",
       "      <td>-0.122913</td>\n",
       "      <td>0.253813</td>\n",
       "      <td>-4.723521</td>\n",
       "      <td>0.509522</td>\n",
       "      <td>5.465801</td>\n",
       "      <td>...</td>\n",
       "      <td>0.761048</td>\n",
       "      <td>1612544753956</td>\n",
       "      <td>0</td>\n",
       "      <td>0.067420</td>\n",
       "      <td>0.717392</td>\n",
       "      <td>59.449224</td>\n",
       "      <td>4.643401</td>\n",
       "      <td>81.853723</td>\n",
       "      <td>1062.310749</td>\n",
       "      <td>Subject10</td>\n",
       "    </tr>\n",
       "    <tr>\n",
       "      <th>46</th>\n",
       "      <td>2</td>\n",
       "      <td>1.153159</td>\n",
       "      <td>11.672235</td>\n",
       "      <td>0.859960</td>\n",
       "      <td>39.447532</td>\n",
       "      <td>-0.130612</td>\n",
       "      <td>0.261317</td>\n",
       "      <td>-1.135984</td>\n",
       "      <td>0.712496</td>\n",
       "      <td>7.972101</td>\n",
       "      <td>...</td>\n",
       "      <td>358.591614</td>\n",
       "      <td>1612544758636</td>\n",
       "      <td>0</td>\n",
       "      <td>0.272820</td>\n",
       "      <td>0.905685</td>\n",
       "      <td>29.149791</td>\n",
       "      <td>4.296075</td>\n",
       "      <td>84.180575</td>\n",
       "      <td>852.073185</td>\n",
       "      <td>Subject10</td>\n",
       "    </tr>\n",
       "    <tr>\n",
       "      <th>47</th>\n",
       "      <td>3</td>\n",
       "      <td>1.068919</td>\n",
       "      <td>14.467365</td>\n",
       "      <td>0.307351</td>\n",
       "      <td>52.430167</td>\n",
       "      <td>-0.150191</td>\n",
       "      <td>0.154609</td>\n",
       "      <td>-4.069372</td>\n",
       "      <td>1.301479</td>\n",
       "      <td>3.316854</td>\n",
       "      <td>...</td>\n",
       "      <td>356.270874</td>\n",
       "      <td>1612544762733</td>\n",
       "      <td>0</td>\n",
       "      <td>0.112773</td>\n",
       "      <td>0.435745</td>\n",
       "      <td>50.491604</td>\n",
       "      <td>10.083486</td>\n",
       "      <td>65.204052</td>\n",
       "      <td>882.509240</td>\n",
       "      <td>Subject10</td>\n",
       "    </tr>\n",
       "    <tr>\n",
       "      <th>48</th>\n",
       "      <td>4</td>\n",
       "      <td>1.061846</td>\n",
       "      <td>10.938271</td>\n",
       "      <td>0.303035</td>\n",
       "      <td>36.222248</td>\n",
       "      <td>-0.131341</td>\n",
       "      <td>0.109162</td>\n",
       "      <td>8.413776</td>\n",
       "      <td>-0.386465</td>\n",
       "      <td>3.511627</td>\n",
       "      <td>...</td>\n",
       "      <td>354.115417</td>\n",
       "      <td>1612544766689</td>\n",
       "      <td>0</td>\n",
       "      <td>0.048719</td>\n",
       "      <td>0.143746</td>\n",
       "      <td>35.584243</td>\n",
       "      <td>4.546367</td>\n",
       "      <td>75.391096</td>\n",
       "      <td>776.617247</td>\n",
       "      <td>Subject10</td>\n",
       "    </tr>\n",
       "    <tr>\n",
       "      <th>49</th>\n",
       "      <td>5</td>\n",
       "      <td>1.138329</td>\n",
       "      <td>15.985430</td>\n",
       "      <td>0.705600</td>\n",
       "      <td>48.324807</td>\n",
       "      <td>-0.115695</td>\n",
       "      <td>0.199343</td>\n",
       "      <td>-0.985916</td>\n",
       "      <td>0.144280</td>\n",
       "      <td>6.510964</td>\n",
       "      <td>...</td>\n",
       "      <td>351.864349</td>\n",
       "      <td>1612544772224</td>\n",
       "      <td>0</td>\n",
       "      <td>0.157656</td>\n",
       "      <td>0.784257</td>\n",
       "      <td>42.192246</td>\n",
       "      <td>11.491793</td>\n",
       "      <td>80.821355</td>\n",
       "      <td>1134.965501</td>\n",
       "      <td>Subject10</td>\n",
       "    </tr>\n",
       "  </tbody>\n",
       "</table>\n",
       "<p>50 rows × 26 columns</p>\n",
       "</div>"
      ],
      "text/plain": [
       "    Index  Acceleration Mean  Rotation Mean  Acceleration Variance  \\\n",
       "0       1           1.300608      41.745840               1.274991   \n",
       "1       2           1.239625      52.031510               1.069585   \n",
       "2       3           1.529465      89.170260               1.733220   \n",
       "3       4           1.060228      10.202447               0.237082   \n",
       "4       5           1.222219      30.061889               1.283746   \n",
       "5       6           1.586209      67.890393               2.247315   \n",
       "6       7           1.512595      81.585007               1.620114   \n",
       "7       8           1.340308      57.541038               1.445330   \n",
       "8       9           1.375997      95.503753               1.227727   \n",
       "9      10           1.151627     111.083964               1.445851   \n",
       "10     11           1.205469     119.764089               0.735896   \n",
       "11     12           1.251185     126.349071               0.970730   \n",
       "12     13           1.219249      99.256222               0.801188   \n",
       "13     14           1.436286     129.281347               1.742043   \n",
       "14     15           1.235583     112.346920               0.709366   \n",
       "15     16           1.157391      27.925955               0.637081   \n",
       "16     17           1.225876      37.731657               0.816982   \n",
       "17     18           1.168296      24.856624               0.552027   \n",
       "18     19           1.161149      23.080516               0.587430   \n",
       "19     20           1.229584      32.014987               0.697718   \n",
       "20     21           1.179639      23.072093               1.076138   \n",
       "21     22           1.273151      38.204786               1.325481   \n",
       "22     23           1.288037      38.740622               2.126383   \n",
       "23     24           1.272755      20.690059               1.465240   \n",
       "24     25           1.234411      20.477665               1.430161   \n",
       "25     26           1.147769      54.073722               0.684097   \n",
       "26     27           1.436356     108.648875               1.581840   \n",
       "27     28           1.141098      63.682474               0.513620   \n",
       "28     29           1.094106      76.346267               0.536324   \n",
       "29     30           1.210486     134.742131               0.679028   \n",
       "30     31           1.585578     103.753828               2.031030   \n",
       "31     32           1.501249     156.252430               1.104788   \n",
       "32     33           1.485998     179.269738               1.185892   \n",
       "33     34           1.727128     150.289062               1.956569   \n",
       "34     35           2.288287     209.195844               2.027024   \n",
       "35     36           1.387237     150.132549               1.309543   \n",
       "36     37           1.483062     166.726005               1.356876   \n",
       "37     38           1.522067     209.740204               1.635040   \n",
       "38     39           1.386883     198.612853               0.753112   \n",
       "39     40           1.485242     191.181323               1.108613   \n",
       "40     41           1.168448      92.611108               0.607635   \n",
       "41     42           1.131950      62.741599               0.554470   \n",
       "42     43           1.333665     127.424346               0.984505   \n",
       "43     44           1.153743      75.102603               0.350928   \n",
       "44     45           1.282919     117.219884               0.733107   \n",
       "45      1           1.121284      14.552202               0.661254   \n",
       "46      2           1.153159      11.672235               0.859960   \n",
       "47      3           1.068919      14.467365               0.307351   \n",
       "48      4           1.061846      10.938271               0.303035   \n",
       "49      5           1.138329      15.985430               0.705600   \n",
       "\n",
       "    Rotation Variance  Acc Y Mean  Acc Z Mean  Rot Y Mean  Rot Z Mean  \\\n",
       "0          148.636248   -0.125055    0.453730    3.412917    1.036585   \n",
       "1          195.726419   -0.089449    0.413064    6.641859    1.184541   \n",
       "2          262.935521   -0.087678    0.515523    7.205940    4.921322   \n",
       "3           39.333528   -0.130035    0.457962   -6.646342    0.395517   \n",
       "4          120.337842   -0.140402    0.477546  -13.010453    0.682056   \n",
       "5          114.878237   -0.179645    0.559630    2.859436   -2.373770   \n",
       "6          119.763670   -0.133317    0.639488  -12.511995   -7.885846   \n",
       "7           94.965213   -0.235703    0.578407    5.504955    0.401105   \n",
       "8          153.677428   -0.089980    0.435035   13.422632   -2.480008   \n",
       "9           97.440283   -0.073564    0.394385  -22.507318   -2.796342   \n",
       "10          96.381120   -0.178580    0.367814  -17.527303   41.782855   \n",
       "11          75.919168   -0.236011    0.269313  -13.834977   45.470292   \n",
       "12          68.289878   -0.218800    0.343657  -21.194405   38.925754   \n",
       "13         116.387417   -0.286202    0.335656  -15.468585   19.050902   \n",
       "14          89.830306   -0.337101    0.300496  -18.711383   42.350611   \n",
       "15          35.335399    0.160658    0.875795   -0.975610    0.679443   \n",
       "16          37.633698    0.240730    0.858398    6.448633   -2.978566   \n",
       "17          24.992607    0.267320    0.856327    4.391115   -5.053136   \n",
       "18          29.274659    0.225753    0.879916    4.228199   -5.087705   \n",
       "19          49.136375    0.218803    0.961238   -0.216698    1.615385   \n",
       "20          91.865626   -0.192299    0.423317    3.742378    0.814596   \n",
       "21         220.071007   -0.124023    0.101160  -18.915623    1.158537   \n",
       "22         290.556455    0.033119    0.605972  -31.705411    4.919969   \n",
       "23         116.752661   -0.045590    0.538048    9.687618   -0.587242   \n",
       "24         101.203805   -0.059060    0.244004   -9.376793    0.165890   \n",
       "25         139.787045    0.126687   -1.085236  -25.106431   -7.502217   \n",
       "26         153.426554    0.347600   -1.141155  -64.074915  -15.310105   \n",
       "27          51.888328    0.642559   -0.837327  -32.174016  -13.550657   \n",
       "28          58.060689    0.891163   -0.473145    7.246796    5.457834   \n",
       "29          44.848297    0.818839   -0.094984  -37.319213  -62.042150   \n",
       "30         214.338155   -1.173352   -0.211724  -50.365854   -7.263534   \n",
       "31         146.248628   -0.419922    0.138165   24.563790   53.590526   \n",
       "32         206.109968   -1.007427    0.032676  -45.819964   14.935816   \n",
       "33         190.411795   -1.269343   -0.121294  -63.033537   -3.180432   \n",
       "34         186.357874   -1.153095    0.760085 -100.335367   -3.205910   \n",
       "35         131.047635    0.380949   -0.256513    8.714359    2.257815   \n",
       "36         124.772192    0.136533   -0.138889   85.508132  -38.332366   \n",
       "37         157.000296    0.437012   -0.186269   60.722816  -50.205794   \n",
       "38         127.530940    0.196935   -0.260899  103.344360  -51.607070   \n",
       "39          94.202477    0.509975   -0.067961  111.674966  -33.565207   \n",
       "40         119.692923   -0.663986    0.727218  -43.481708    2.455575   \n",
       "41         104.743260   -0.561488    0.852822  -35.966774    1.802757   \n",
       "42         161.521362   -0.714390    0.837025  -79.157041    6.006632   \n",
       "43         125.368902   -0.549557    0.847949  -52.739213   -3.359287   \n",
       "44         171.916668   -0.586225    0.806313  -75.775143   -0.315737   \n",
       "45          58.854891   -0.122913    0.253813   -4.723521    0.509522   \n",
       "46          39.447532   -0.130612    0.261317   -1.135984    0.712496   \n",
       "47          52.430167   -0.150191    0.154609   -4.069372    1.301479   \n",
       "48          36.222248   -0.131341    0.109162    8.413776   -0.386465   \n",
       "49          48.324807   -0.115695    0.199343   -0.985916    0.144280   \n",
       "\n",
       "    Max Acceleration  ...         Yaw      Timestamp  Fall  Acc Y Stdev  \\\n",
       "0           9.392141  ...  358.229492  1612546353614     0     0.483726   \n",
       "1           7.485130  ...  359.792999  1612546357756     0     0.391341   \n",
       "2          11.018893  ...    0.008551  1612546361670     0     1.210065   \n",
       "3           2.969044  ...  358.421753  1612546366033     0     0.064298   \n",
       "4          11.576874  ...  357.713165  1612546370850     0     0.250743   \n",
       "5          14.055819  ...  357.156738  1612546396631     0     0.639304   \n",
       "6          10.525451  ...  350.824646  1612546401765     0     0.846939   \n",
       "7          10.616751  ...  354.565460  1612546407119     0     0.439014   \n",
       "8           7.254419  ...  343.955811  1612546412113     0     0.744411   \n",
       "9           7.307068  ...  341.684204  1612546416437     0     0.471556   \n",
       "10          4.158548  ...  135.831741  1612546443967     0     0.323955   \n",
       "11          7.300836  ...  335.213226  1612546450399     0     0.352495   \n",
       "12          5.186907  ...  144.595978  1612546456788     0     0.394174   \n",
       "13         11.485087  ...  309.313660  1612546463046     0     0.709079   \n",
       "14          4.270304  ...  112.977402  1612546469257     0     0.445902   \n",
       "15          4.308703  ...  348.191315  1612546527120     0     0.174781   \n",
       "16          4.174102  ...  352.325287  1612546535667     0     0.227207   \n",
       "17          3.047953  ...  357.189728  1612546542776     0     0.231107   \n",
       "18          3.204121  ...  354.894562  1612546549795     0     0.220220   \n",
       "19          4.216260  ...  338.724701  1612546610855     0     0.247305   \n",
       "20          9.589919  ...    2.320225  1612546664761     0     0.045309   \n",
       "21         10.854818  ...  359.126007  1612546674931     0     0.127151   \n",
       "22         18.033135  ...  357.942566  1612546681498     0     0.780989   \n",
       "23         11.831904  ...  357.915710  1612546686362     0     0.278977   \n",
       "24         12.677844  ...  357.097168  1612546690957     0     0.180157   \n",
       "25          5.102837  ...  316.595306  1612546718736     1     0.224885   \n",
       "26         10.110145  ...  316.992432  1612546730485     1     0.413257   \n",
       "27          3.253906  ...  296.394989  1612546745881     1     0.355490   \n",
       "28          3.603859  ...   30.043760  1612546761488     1     0.516907   \n",
       "29          3.799338  ...   61.011036  1612546773337     1     0.428925   \n",
       "30         11.793429  ...  321.548645  1612546928987     1     1.479523   \n",
       "31          4.559047  ...  284.285065  1612546941631     1     1.048983   \n",
       "32          6.220436  ...  242.320023  1612546960988     1     0.953356   \n",
       "33          9.148723  ...  218.874878  1612546973348     1     1.374188   \n",
       "34          8.332800  ...  272.303558  1612547037182     1     1.464568   \n",
       "35          8.770475  ...  113.452652  1612547085240     1     0.722858   \n",
       "36          9.273388  ...  118.488754  1612547096759     1     0.934046   \n",
       "37         10.088836  ...   51.667915  1612547147383     1     1.316708   \n",
       "38          4.279575  ...   33.125607  1612547191215     1     0.920461   \n",
       "39          6.130215  ...   68.789093  1612547236938     1     0.825697   \n",
       "40          5.671975  ...  341.848694  1612547294360     1     0.495397   \n",
       "41          5.172465  ...  356.387787  1612547316457     1     0.360935   \n",
       "42          6.391190  ...  345.756256  1612547339226     1     0.573285   \n",
       "43          2.518995  ...  348.614349  1612547433411     1     0.330710   \n",
       "44          4.978973  ...  331.817780  1612547465538     1     0.496007   \n",
       "45          5.465801  ...    0.761048  1612544753956     0     0.067420   \n",
       "46          7.972101  ...  358.591614  1612544758636     0     0.272820   \n",
       "47          3.316854  ...  356.270874  1612544762733     0     0.112773   \n",
       "48          3.511627  ...  354.115417  1612544766689     0     0.048719   \n",
       "49          6.510964  ...  351.864349  1612544772224     0     0.157656   \n",
       "\n",
       "    Acc Z Stdev  Rot Y Stdev  Rot Z Stdev  Fourier Acc Coef  Fourier Rot Coef  \\\n",
       "0      1.312748   109.027999    19.364234         92.343149       2963.954659   \n",
       "1      1.206264   175.210145     6.265235         84.294529       3538.142670   \n",
       "2      1.427617   154.932945    40.829397         94.826840       5528.556094   \n",
       "3      0.280493    35.358783     3.789023         78.456869        754.981105   \n",
       "4      1.194289    95.576180     6.248497         85.555305       2104.332225   \n",
       "5      1.327880   110.568531    36.473423         90.413899       3869.752428   \n",
       "6      1.248835    84.071822    33.797201         92.268325       4976.685438   \n",
       "7      0.708348    90.423817    14.957783         85.779725       3682.626427   \n",
       "8      1.305662   117.593817    46.316231         83.935810       5825.728905   \n",
       "9      1.210703   111.013056    32.379890         57.581350       5554.198210   \n",
       "10     0.661324    84.794294    59.649787         80.766412       8024.193993   \n",
       "11     0.536398    73.747142    37.819419        117.611347      11876.812703   \n",
       "12     0.474088    55.948668    38.071693         82.908941       6749.423111   \n",
       "13     0.729408   133.345136    43.585202        132.138296      11893.883966   \n",
       "14     0.557124    82.771658    53.416507         74.134956       6740.815184   \n",
       "15     0.509757    35.967768    16.677552         81.017397       1954.816860   \n",
       "16     0.596902    41.186038    17.765648         80.907803       2490.289374   \n",
       "17     0.408635    23.901046    20.316794         81.780724       1739.963660   \n",
       "18     0.467712    26.951006    17.650002         84.763896       1684.877683   \n",
       "19     0.579035    41.141445    24.319102         79.922945       2080.974136   \n",
       "20     1.095916    90.679761     6.261514         75.496882       1476.613959   \n",
       "21     1.551047   221.559734     9.248786         94.213184       2827.154199   \n",
       "22     0.980978   249.688194    37.657578         82.434345       2479.399839   \n",
       "23     1.311708   114.888517     8.443482         82.729066       1344.853846   \n",
       "24     1.571478    89.081280     6.110969         83.939929       1392.481195   \n",
       "25     0.510792   139.679437    31.092267         63.127315       2974.054711   \n",
       "26     1.303667   160.614240    38.775273         50.272452       3802.710640   \n",
       "27     0.369438    57.844864    30.209487         59.337101       3311.488628   \n",
       "28     0.255046    49.448331    50.027648         64.552263       4504.429774   \n",
       "29     0.563444    73.064235    54.427842         68.997703       7680.301482   \n",
       "30     1.129052   166.835450    88.091575         65.008717       4253.906950   \n",
       "31     1.133796   110.092264   103.219165         39.032466       4062.563184   \n",
       "32     0.861822   198.828890    79.949316         56.467911       6812.250057   \n",
       "33     1.043747   156.749712    86.714705         75.993636       6612.718734   \n",
       "34     1.679079   149.811609   122.115118         59.495455       5439.091955   \n",
       "35     0.659574   156.403880    63.566417         98.493819      10659.411008   \n",
       "36     0.997673   142.570911    75.980427         93.432911      10503.738318   \n",
       "37     1.071768   204.326731    74.175263         73.059210      10067.529806   \n",
       "38     0.933283   172.480801    85.564518         81.826120      11718.158332   \n",
       "39     0.796369   142.157296    53.585571         72.776846       9367.884827   \n",
       "40     0.558417   101.051596    44.519011         81.791392       6482.777589   \n",
       "41     0.260251    98.121637    26.480764         78.104582       4329.170299   \n",
       "42     0.877342   152.360588    57.376606         76.018899       7263.187726   \n",
       "43     0.479085   112.129900    21.126770         74.993266       4881.669190   \n",
       "44     0.577197   163.538102    29.378026         93.653095       8557.051550   \n",
       "45     0.717392    59.449224     4.643401         81.853723       1062.310749   \n",
       "46     0.905685    29.149791     4.296075         84.180575        852.073185   \n",
       "47     0.435745    50.491604    10.083486         65.204052        882.509240   \n",
       "48     0.143746    35.584243     4.546367         75.391096        776.617247   \n",
       "49     0.784257    42.192246    11.491793         80.821355       1134.965501   \n",
       "\n",
       "         File  \n",
       "0    Subject1  \n",
       "1    Subject1  \n",
       "2    Subject1  \n",
       "3    Subject1  \n",
       "4    Subject1  \n",
       "5    Subject1  \n",
       "6    Subject1  \n",
       "7    Subject1  \n",
       "8    Subject1  \n",
       "9    Subject1  \n",
       "10   Subject1  \n",
       "11   Subject1  \n",
       "12   Subject1  \n",
       "13   Subject1  \n",
       "14   Subject1  \n",
       "15   Subject1  \n",
       "16   Subject1  \n",
       "17   Subject1  \n",
       "18   Subject1  \n",
       "19   Subject1  \n",
       "20   Subject1  \n",
       "21   Subject1  \n",
       "22   Subject1  \n",
       "23   Subject1  \n",
       "24   Subject1  \n",
       "25   Subject1  \n",
       "26   Subject1  \n",
       "27   Subject1  \n",
       "28   Subject1  \n",
       "29   Subject1  \n",
       "30   Subject1  \n",
       "31   Subject1  \n",
       "32   Subject1  \n",
       "33   Subject1  \n",
       "34   Subject1  \n",
       "35   Subject1  \n",
       "36   Subject1  \n",
       "37   Subject1  \n",
       "38   Subject1  \n",
       "39   Subject1  \n",
       "40   Subject1  \n",
       "41   Subject1  \n",
       "42   Subject1  \n",
       "43   Subject1  \n",
       "44   Subject1  \n",
       "45  Subject10  \n",
       "46  Subject10  \n",
       "47  Subject10  \n",
       "48  Subject10  \n",
       "49  Subject10  \n",
       "\n",
       "[50 rows x 26 columns]"
      ]
     },
     "execution_count": 102,
     "metadata": {},
     "output_type": "execute_result"
    }
   ],
   "source": [
    "df_feat.head(50)\n",
    "\n",
    "# demos repeating 'Index' of 45, separating tasks"
   ]
  },
  {
   "cell_type": "code",
   "execution_count": 100,
   "id": "5b183bc0",
   "metadata": {},
   "outputs": [
    {
     "data": {
      "text/html": [
       "<div>\n",
       "<style scoped>\n",
       "    .dataframe tbody tr th:only-of-type {\n",
       "        vertical-align: middle;\n",
       "    }\n",
       "\n",
       "    .dataframe tbody tr th {\n",
       "        vertical-align: top;\n",
       "    }\n",
       "\n",
       "    .dataframe thead th {\n",
       "        text-align: right;\n",
       "    }\n",
       "</style>\n",
       "<table border=\"1\" class=\"dataframe\">\n",
       "  <thead>\n",
       "    <tr style=\"text-align: right;\">\n",
       "      <th></th>\n",
       "      <th>Index</th>\n",
       "      <th>Acceleration Mean</th>\n",
       "      <th>Rotation Mean</th>\n",
       "      <th>Acceleration Variance</th>\n",
       "      <th>Rotation Variance</th>\n",
       "      <th>Acc Y Mean</th>\n",
       "      <th>Acc Z Mean</th>\n",
       "      <th>Rot Y Mean</th>\n",
       "      <th>Rot Z Mean</th>\n",
       "      <th>Max Acceleration</th>\n",
       "      <th>...</th>\n",
       "      <th>Yaw</th>\n",
       "      <th>Timestamp</th>\n",
       "      <th>Fall</th>\n",
       "      <th>Acc Y Stdev</th>\n",
       "      <th>Acc Z Stdev</th>\n",
       "      <th>Rot Y Stdev</th>\n",
       "      <th>Rot Z Stdev</th>\n",
       "      <th>Fourier Acc Coef</th>\n",
       "      <th>Fourier Rot Coef</th>\n",
       "      <th>File</th>\n",
       "    </tr>\n",
       "  </thead>\n",
       "  <tbody>\n",
       "    <tr>\n",
       "      <th>0</th>\n",
       "      <td>1</td>\n",
       "      <td>1.300608</td>\n",
       "      <td>41.745840</td>\n",
       "      <td>1.274991</td>\n",
       "      <td>148.636248</td>\n",
       "      <td>-0.125055</td>\n",
       "      <td>0.453730</td>\n",
       "      <td>3.412917</td>\n",
       "      <td>1.036585</td>\n",
       "      <td>9.392141</td>\n",
       "      <td>...</td>\n",
       "      <td>358.229492</td>\n",
       "      <td>1612546353614</td>\n",
       "      <td>0</td>\n",
       "      <td>0.483726</td>\n",
       "      <td>1.312748</td>\n",
       "      <td>109.027999</td>\n",
       "      <td>19.364234</td>\n",
       "      <td>92.343149</td>\n",
       "      <td>2963.954659</td>\n",
       "      <td>Subject1</td>\n",
       "    </tr>\n",
       "    <tr>\n",
       "      <th>1</th>\n",
       "      <td>2</td>\n",
       "      <td>1.239625</td>\n",
       "      <td>52.031510</td>\n",
       "      <td>1.069585</td>\n",
       "      <td>195.726419</td>\n",
       "      <td>-0.089449</td>\n",
       "      <td>0.413064</td>\n",
       "      <td>6.641859</td>\n",
       "      <td>1.184541</td>\n",
       "      <td>7.485130</td>\n",
       "      <td>...</td>\n",
       "      <td>359.792999</td>\n",
       "      <td>1612546357756</td>\n",
       "      <td>0</td>\n",
       "      <td>0.391341</td>\n",
       "      <td>1.206264</td>\n",
       "      <td>175.210145</td>\n",
       "      <td>6.265235</td>\n",
       "      <td>84.294529</td>\n",
       "      <td>3538.142670</td>\n",
       "      <td>Subject1</td>\n",
       "    </tr>\n",
       "    <tr>\n",
       "      <th>2</th>\n",
       "      <td>3</td>\n",
       "      <td>1.529465</td>\n",
       "      <td>89.170260</td>\n",
       "      <td>1.733220</td>\n",
       "      <td>262.935521</td>\n",
       "      <td>-0.087678</td>\n",
       "      <td>0.515523</td>\n",
       "      <td>7.205940</td>\n",
       "      <td>4.921322</td>\n",
       "      <td>11.018893</td>\n",
       "      <td>...</td>\n",
       "      <td>0.008551</td>\n",
       "      <td>1612546361670</td>\n",
       "      <td>0</td>\n",
       "      <td>1.210065</td>\n",
       "      <td>1.427617</td>\n",
       "      <td>154.932945</td>\n",
       "      <td>40.829397</td>\n",
       "      <td>94.826840</td>\n",
       "      <td>5528.556094</td>\n",
       "      <td>Subject1</td>\n",
       "    </tr>\n",
       "    <tr>\n",
       "      <th>3</th>\n",
       "      <td>4</td>\n",
       "      <td>1.060228</td>\n",
       "      <td>10.202447</td>\n",
       "      <td>0.237082</td>\n",
       "      <td>39.333528</td>\n",
       "      <td>-0.130035</td>\n",
       "      <td>0.457962</td>\n",
       "      <td>-6.646342</td>\n",
       "      <td>0.395517</td>\n",
       "      <td>2.969044</td>\n",
       "      <td>...</td>\n",
       "      <td>358.421753</td>\n",
       "      <td>1612546366033</td>\n",
       "      <td>0</td>\n",
       "      <td>0.064298</td>\n",
       "      <td>0.280493</td>\n",
       "      <td>35.358783</td>\n",
       "      <td>3.789023</td>\n",
       "      <td>78.456869</td>\n",
       "      <td>754.981105</td>\n",
       "      <td>Subject1</td>\n",
       "    </tr>\n",
       "    <tr>\n",
       "      <th>4</th>\n",
       "      <td>5</td>\n",
       "      <td>1.222219</td>\n",
       "      <td>30.061889</td>\n",
       "      <td>1.283746</td>\n",
       "      <td>120.337842</td>\n",
       "      <td>-0.140402</td>\n",
       "      <td>0.477546</td>\n",
       "      <td>-13.010453</td>\n",
       "      <td>0.682056</td>\n",
       "      <td>11.576874</td>\n",
       "      <td>...</td>\n",
       "      <td>357.713165</td>\n",
       "      <td>1612546370850</td>\n",
       "      <td>0</td>\n",
       "      <td>0.250743</td>\n",
       "      <td>1.194289</td>\n",
       "      <td>95.576180</td>\n",
       "      <td>6.248497</td>\n",
       "      <td>85.555305</td>\n",
       "      <td>2104.332225</td>\n",
       "      <td>Subject1</td>\n",
       "    </tr>\n",
       "    <tr>\n",
       "      <th>...</th>\n",
       "      <td>...</td>\n",
       "      <td>...</td>\n",
       "      <td>...</td>\n",
       "      <td>...</td>\n",
       "      <td>...</td>\n",
       "      <td>...</td>\n",
       "      <td>...</td>\n",
       "      <td>...</td>\n",
       "      <td>...</td>\n",
       "      <td>...</td>\n",
       "      <td>...</td>\n",
       "      <td>...</td>\n",
       "      <td>...</td>\n",
       "      <td>...</td>\n",
       "      <td>...</td>\n",
       "      <td>...</td>\n",
       "      <td>...</td>\n",
       "      <td>...</td>\n",
       "      <td>...</td>\n",
       "      <td>...</td>\n",
       "      <td>...</td>\n",
       "    </tr>\n",
       "    <tr>\n",
       "      <th>740</th>\n",
       "      <td>21</td>\n",
       "      <td>1.215547</td>\n",
       "      <td>31.871718</td>\n",
       "      <td>0.938521</td>\n",
       "      <td>153.576878</td>\n",
       "      <td>0.017885</td>\n",
       "      <td>0.063825</td>\n",
       "      <td>-18.075785</td>\n",
       "      <td>2.802265</td>\n",
       "      <td>6.645870</td>\n",
       "      <td>...</td>\n",
       "      <td>50.479019</td>\n",
       "      <td>1615567798161</td>\n",
       "      <td>0</td>\n",
       "      <td>0.124653</td>\n",
       "      <td>0.933611</td>\n",
       "      <td>152.960108</td>\n",
       "      <td>12.662656</td>\n",
       "      <td>85.088290</td>\n",
       "      <td>2231.020256</td>\n",
       "      <td>Subject9</td>\n",
       "    </tr>\n",
       "    <tr>\n",
       "      <th>741</th>\n",
       "      <td>22</td>\n",
       "      <td>1.207400</td>\n",
       "      <td>30.231138</td>\n",
       "      <td>1.184874</td>\n",
       "      <td>140.718327</td>\n",
       "      <td>0.004180</td>\n",
       "      <td>0.139695</td>\n",
       "      <td>-14.806214</td>\n",
       "      <td>1.728199</td>\n",
       "      <td>10.690627</td>\n",
       "      <td>...</td>\n",
       "      <td>46.068207</td>\n",
       "      <td>1615567802838</td>\n",
       "      <td>0</td>\n",
       "      <td>0.110044</td>\n",
       "      <td>1.072844</td>\n",
       "      <td>141.006065</td>\n",
       "      <td>10.813873</td>\n",
       "      <td>88.140196</td>\n",
       "      <td>2206.873067</td>\n",
       "      <td>Subject9</td>\n",
       "    </tr>\n",
       "    <tr>\n",
       "      <th>742</th>\n",
       "      <td>23</td>\n",
       "      <td>1.212806</td>\n",
       "      <td>28.114321</td>\n",
       "      <td>1.008966</td>\n",
       "      <td>139.849004</td>\n",
       "      <td>0.012047</td>\n",
       "      <td>0.096476</td>\n",
       "      <td>-17.479979</td>\n",
       "      <td>2.818529</td>\n",
       "      <td>7.970834</td>\n",
       "      <td>...</td>\n",
       "      <td>42.509834</td>\n",
       "      <td>1615567806485</td>\n",
       "      <td>0</td>\n",
       "      <td>0.334367</td>\n",
       "      <td>0.994125</td>\n",
       "      <td>122.706016</td>\n",
       "      <td>14.881910</td>\n",
       "      <td>81.258032</td>\n",
       "      <td>1883.659523</td>\n",
       "      <td>Subject9</td>\n",
       "    </tr>\n",
       "    <tr>\n",
       "      <th>743</th>\n",
       "      <td>24</td>\n",
       "      <td>1.049774</td>\n",
       "      <td>4.126064</td>\n",
       "      <td>0.214462</td>\n",
       "      <td>23.400885</td>\n",
       "      <td>-0.002974</td>\n",
       "      <td>0.152551</td>\n",
       "      <td>-3.337029</td>\n",
       "      <td>0.573725</td>\n",
       "      <td>2.763880</td>\n",
       "      <td>...</td>\n",
       "      <td>41.387589</td>\n",
       "      <td>1615567810086</td>\n",
       "      <td>0</td>\n",
       "      <td>0.009248</td>\n",
       "      <td>0.186083</td>\n",
       "      <td>23.447129</td>\n",
       "      <td>1.059858</td>\n",
       "      <td>69.285092</td>\n",
       "      <td>272.320192</td>\n",
       "      <td>Subject9</td>\n",
       "    </tr>\n",
       "    <tr>\n",
       "      <th>744</th>\n",
       "      <td>25</td>\n",
       "      <td>1.091146</td>\n",
       "      <td>12.083225</td>\n",
       "      <td>0.377159</td>\n",
       "      <td>62.434765</td>\n",
       "      <td>-0.015943</td>\n",
       "      <td>0.027943</td>\n",
       "      <td>3.663156</td>\n",
       "      <td>0.044346</td>\n",
       "      <td>3.493595</td>\n",
       "      <td>...</td>\n",
       "      <td>38.608604</td>\n",
       "      <td>1615567814136</td>\n",
       "      <td>0</td>\n",
       "      <td>0.070872</td>\n",
       "      <td>0.542872</td>\n",
       "      <td>62.751550</td>\n",
       "      <td>3.579358</td>\n",
       "      <td>72.015638</td>\n",
       "      <td>797.492857</td>\n",
       "      <td>Subject9</td>\n",
       "    </tr>\n",
       "  </tbody>\n",
       "</table>\n",
       "<p>430 rows × 26 columns</p>\n",
       "</div>"
      ],
      "text/plain": [
       "     Index  Acceleration Mean  Rotation Mean  Acceleration Variance  \\\n",
       "0        1           1.300608      41.745840               1.274991   \n",
       "1        2           1.239625      52.031510               1.069585   \n",
       "2        3           1.529465      89.170260               1.733220   \n",
       "3        4           1.060228      10.202447               0.237082   \n",
       "4        5           1.222219      30.061889               1.283746   \n",
       "..     ...                ...            ...                    ...   \n",
       "740     21           1.215547      31.871718               0.938521   \n",
       "741     22           1.207400      30.231138               1.184874   \n",
       "742     23           1.212806      28.114321               1.008966   \n",
       "743     24           1.049774       4.126064               0.214462   \n",
       "744     25           1.091146      12.083225               0.377159   \n",
       "\n",
       "     Rotation Variance  Acc Y Mean  Acc Z Mean  Rot Y Mean  Rot Z Mean  \\\n",
       "0           148.636248   -0.125055    0.453730    3.412917    1.036585   \n",
       "1           195.726419   -0.089449    0.413064    6.641859    1.184541   \n",
       "2           262.935521   -0.087678    0.515523    7.205940    4.921322   \n",
       "3            39.333528   -0.130035    0.457962   -6.646342    0.395517   \n",
       "4           120.337842   -0.140402    0.477546  -13.010453    0.682056   \n",
       "..                 ...         ...         ...         ...         ...   \n",
       "740         153.576878    0.017885    0.063825  -18.075785    2.802265   \n",
       "741         140.718327    0.004180    0.139695  -14.806214    1.728199   \n",
       "742         139.849004    0.012047    0.096476  -17.479979    2.818529   \n",
       "743          23.400885   -0.002974    0.152551   -3.337029    0.573725   \n",
       "744          62.434765   -0.015943    0.027943    3.663156    0.044346   \n",
       "\n",
       "     Max Acceleration  ...         Yaw      Timestamp  Fall  Acc Y Stdev  \\\n",
       "0            9.392141  ...  358.229492  1612546353614     0     0.483726   \n",
       "1            7.485130  ...  359.792999  1612546357756     0     0.391341   \n",
       "2           11.018893  ...    0.008551  1612546361670     0     1.210065   \n",
       "3            2.969044  ...  358.421753  1612546366033     0     0.064298   \n",
       "4           11.576874  ...  357.713165  1612546370850     0     0.250743   \n",
       "..                ...  ...         ...            ...   ...          ...   \n",
       "740          6.645870  ...   50.479019  1615567798161     0     0.124653   \n",
       "741         10.690627  ...   46.068207  1615567802838     0     0.110044   \n",
       "742          7.970834  ...   42.509834  1615567806485     0     0.334367   \n",
       "743          2.763880  ...   41.387589  1615567810086     0     0.009248   \n",
       "744          3.493595  ...   38.608604  1615567814136     0     0.070872   \n",
       "\n",
       "     Acc Z Stdev  Rot Y Stdev  Rot Z Stdev  Fourier Acc Coef  \\\n",
       "0       1.312748   109.027999    19.364234         92.343149   \n",
       "1       1.206264   175.210145     6.265235         84.294529   \n",
       "2       1.427617   154.932945    40.829397         94.826840   \n",
       "3       0.280493    35.358783     3.789023         78.456869   \n",
       "4       1.194289    95.576180     6.248497         85.555305   \n",
       "..           ...          ...          ...               ...   \n",
       "740     0.933611   152.960108    12.662656         85.088290   \n",
       "741     1.072844   141.006065    10.813873         88.140196   \n",
       "742     0.994125   122.706016    14.881910         81.258032   \n",
       "743     0.186083    23.447129     1.059858         69.285092   \n",
       "744     0.542872    62.751550     3.579358         72.015638   \n",
       "\n",
       "     Fourier Rot Coef      File  \n",
       "0         2963.954659  Subject1  \n",
       "1         3538.142670  Subject1  \n",
       "2         5528.556094  Subject1  \n",
       "3          754.981105  Subject1  \n",
       "4         2104.332225  Subject1  \n",
       "..                ...       ...  \n",
       "740       2231.020256  Subject9  \n",
       "741       2206.873067  Subject9  \n",
       "742       1883.659523  Subject9  \n",
       "743        272.320192  Subject9  \n",
       "744        797.492857  Subject9  \n",
       "\n",
       "[430 rows x 26 columns]"
      ]
     },
     "execution_count": 100,
     "metadata": {},
     "output_type": "execute_result"
    }
   ],
   "source": [
    "df_feat.loc[df_feat['Fall'] == 0]"
   ]
  },
  {
   "cell_type": "code",
   "execution_count": null,
   "id": "c5388921",
   "metadata": {},
   "outputs": [],
   "source": [
    "# explanation of columns"
   ]
  },
  {
   "cell_type": "markdown",
   "id": "bf4c5425",
   "metadata": {},
   "source": [
    "### Initial EDA for df_feat"
   ]
  },
  {
   "cell_type": "code",
   "execution_count": 49,
   "id": "e6372367",
   "metadata": {},
   "outputs": [
    {
     "data": {
      "text/plain": [
       "(765, 26)"
      ]
     },
     "execution_count": 49,
     "metadata": {},
     "output_type": "execute_result"
    }
   ],
   "source": [
    "df_feat.shape"
   ]
  },
  {
   "cell_type": "code",
   "execution_count": 50,
   "id": "818f241b",
   "metadata": {},
   "outputs": [
    {
     "name": "stdout",
     "output_type": "stream",
     "text": [
      "<class 'pandas.core.frame.DataFrame'>\n",
      "RangeIndex: 765 entries, 0 to 764\n",
      "Data columns (total 26 columns):\n",
      " #   Column                 Non-Null Count  Dtype  \n",
      "---  ------                 --------------  -----  \n",
      " 0   Index                  765 non-null    int64  \n",
      " 1   Acceleration Mean      765 non-null    float64\n",
      " 2   Rotation Mean          765 non-null    float64\n",
      " 3   Acceleration Variance  765 non-null    float64\n",
      " 4   Rotation Variance      765 non-null    float64\n",
      " 5   Acc Y Mean             765 non-null    float64\n",
      " 6   Acc Z Mean             765 non-null    float64\n",
      " 7   Rot Y Mean             765 non-null    float64\n",
      " 8   Rot Z Mean             765 non-null    float64\n",
      " 9   Max Acceleration       765 non-null    float64\n",
      " 10  Max Rotation           765 non-null    float64\n",
      " 11  First Acceleration     765 non-null    float64\n",
      " 12  Last Acceleration      765 non-null    float64\n",
      " 13  Fall Time              765 non-null    int64  \n",
      " 14  Pitch                  765 non-null    float64\n",
      " 15  Roll                   765 non-null    float64\n",
      " 16  Yaw                    765 non-null    float64\n",
      " 17  Timestamp              765 non-null    int64  \n",
      " 18  Fall                   765 non-null    int64  \n",
      " 19  Acc Y Stdev            765 non-null    float64\n",
      " 20  Acc Z Stdev            765 non-null    float64\n",
      " 21  Rot Y Stdev            765 non-null    float64\n",
      " 22  Rot Z Stdev            765 non-null    float64\n",
      " 23  Fourier Acc Coef       765 non-null    float64\n",
      " 24  Fourier Rot Coef       765 non-null    float64\n",
      " 25  File                   765 non-null    object \n",
      "dtypes: float64(21), int64(4), object(1)\n",
      "memory usage: 155.5+ KB\n"
     ]
    }
   ],
   "source": [
    "df_feat.info()"
   ]
  },
  {
   "cell_type": "code",
   "execution_count": 53,
   "id": "87855720",
   "metadata": {},
   "outputs": [
    {
     "data": {
      "text/plain": [
       "0        47\n",
       "1        45\n",
       "2        88\n",
       "3         2\n",
       "4        43\n",
       "       ... \n",
       "760    1030\n",
       "761    1080\n",
       "762     268\n",
       "763     313\n",
       "764     814\n",
       "Name: Fall Time, Length: 765, dtype: int64"
      ]
     },
     "execution_count": 53,
     "metadata": {},
     "output_type": "execute_result"
    }
   ],
   "source": [
    "df_feat['Fall Time']"
   ]
  },
  {
   "cell_type": "code",
   "execution_count": 51,
   "id": "efb53fca",
   "metadata": {},
   "outputs": [
    {
     "data": {
      "text/html": [
       "<div>\n",
       "<style scoped>\n",
       "    .dataframe tbody tr th:only-of-type {\n",
       "        vertical-align: middle;\n",
       "    }\n",
       "\n",
       "    .dataframe tbody tr th {\n",
       "        vertical-align: top;\n",
       "    }\n",
       "\n",
       "    .dataframe thead th {\n",
       "        text-align: right;\n",
       "    }\n",
       "</style>\n",
       "<table border=\"1\" class=\"dataframe\">\n",
       "  <thead>\n",
       "    <tr style=\"text-align: right;\">\n",
       "      <th></th>\n",
       "      <th>Index</th>\n",
       "      <th>Acceleration Mean</th>\n",
       "      <th>Rotation Mean</th>\n",
       "      <th>Acceleration Variance</th>\n",
       "      <th>Rotation Variance</th>\n",
       "      <th>Acc Y Mean</th>\n",
       "      <th>Acc Z Mean</th>\n",
       "      <th>Rot Y Mean</th>\n",
       "      <th>Rot Z Mean</th>\n",
       "      <th>Max Acceleration</th>\n",
       "      <th>...</th>\n",
       "      <th>Roll</th>\n",
       "      <th>Yaw</th>\n",
       "      <th>Timestamp</th>\n",
       "      <th>Fall</th>\n",
       "      <th>Acc Y Stdev</th>\n",
       "      <th>Acc Z Stdev</th>\n",
       "      <th>Rot Y Stdev</th>\n",
       "      <th>Rot Z Stdev</th>\n",
       "      <th>Fourier Acc Coef</th>\n",
       "      <th>Fourier Rot Coef</th>\n",
       "    </tr>\n",
       "  </thead>\n",
       "  <tbody>\n",
       "    <tr>\n",
       "      <th>count</th>\n",
       "      <td>765.00000</td>\n",
       "      <td>765.000000</td>\n",
       "      <td>765.000000</td>\n",
       "      <td>765.000000</td>\n",
       "      <td>765.000000</td>\n",
       "      <td>765.000000</td>\n",
       "      <td>765.000000</td>\n",
       "      <td>765.000000</td>\n",
       "      <td>765.000000</td>\n",
       "      <td>765.000000</td>\n",
       "      <td>...</td>\n",
       "      <td>765.000000</td>\n",
       "      <td>765.000000</td>\n",
       "      <td>7.650000e+02</td>\n",
       "      <td>765.000000</td>\n",
       "      <td>765.000000</td>\n",
       "      <td>765.000000</td>\n",
       "      <td>765.000000</td>\n",
       "      <td>765.000000</td>\n",
       "      <td>765.000000</td>\n",
       "      <td>765.000000</td>\n",
       "    </tr>\n",
       "    <tr>\n",
       "      <th>mean</th>\n",
       "      <td>23.00000</td>\n",
       "      <td>1.291181</td>\n",
       "      <td>91.264983</td>\n",
       "      <td>1.021121</td>\n",
       "      <td>114.649928</td>\n",
       "      <td>-0.065314</td>\n",
       "      <td>0.160678</td>\n",
       "      <td>1.521893</td>\n",
       "      <td>5.011623</td>\n",
       "      <td>6.687504</td>\n",
       "      <td>...</td>\n",
       "      <td>35.117611</td>\n",
       "      <td>211.507451</td>\n",
       "      <td>1.613418e+12</td>\n",
       "      <td>0.437908</td>\n",
       "      <td>0.514702</td>\n",
       "      <td>0.727502</td>\n",
       "      <td>107.458123</td>\n",
       "      <td>50.464953</td>\n",
       "      <td>83.186551</td>\n",
       "      <td>5740.832684</td>\n",
       "    </tr>\n",
       "    <tr>\n",
       "      <th>std</th>\n",
       "      <td>12.99567</td>\n",
       "      <td>0.196225</td>\n",
       "      <td>51.953837</td>\n",
       "      <td>0.536389</td>\n",
       "      <td>75.321626</td>\n",
       "      <td>0.495275</td>\n",
       "      <td>0.535250</td>\n",
       "      <td>33.470903</td>\n",
       "      <td>29.496195</td>\n",
       "      <td>3.536698</td>\n",
       "      <td>...</td>\n",
       "      <td>40.464925</td>\n",
       "      <td>132.904788</td>\n",
       "      <td>1.816585e+09</td>\n",
       "      <td>0.496454</td>\n",
       "      <td>0.370574</td>\n",
       "      <td>0.433159</td>\n",
       "      <td>70.714445</td>\n",
       "      <td>34.752515</td>\n",
       "      <td>18.708207</td>\n",
       "      <td>3260.002571</td>\n",
       "    </tr>\n",
       "    <tr>\n",
       "      <th>min</th>\n",
       "      <td>1.00000</td>\n",
       "      <td>0.852751</td>\n",
       "      <td>4.126064</td>\n",
       "      <td>0.174386</td>\n",
       "      <td>15.431657</td>\n",
       "      <td>-1.333600</td>\n",
       "      <td>-1.361850</td>\n",
       "      <td>-149.817077</td>\n",
       "      <td>-115.042328</td>\n",
       "      <td>1.844608</td>\n",
       "      <td>...</td>\n",
       "      <td>-66.699471</td>\n",
       "      <td>0.008551</td>\n",
       "      <td>1.608032e+12</td>\n",
       "      <td>0.000000</td>\n",
       "      <td>0.009248</td>\n",
       "      <td>0.057813</td>\n",
       "      <td>10.448235</td>\n",
       "      <td>1.059858</td>\n",
       "      <td>9.258738</td>\n",
       "      <td>272.320192</td>\n",
       "    </tr>\n",
       "    <tr>\n",
       "      <th>25%</th>\n",
       "      <td>12.00000</td>\n",
       "      <td>1.146914</td>\n",
       "      <td>47.920742</td>\n",
       "      <td>0.620723</td>\n",
       "      <td>62.434765</td>\n",
       "      <td>-0.363540</td>\n",
       "      <td>-0.106187</td>\n",
       "      <td>-12.703253</td>\n",
       "      <td>-4.886760</td>\n",
       "      <td>4.008378</td>\n",
       "      <td>...</td>\n",
       "      <td>-0.795930</td>\n",
       "      <td>80.633316</td>\n",
       "      <td>1.612546e+12</td>\n",
       "      <td>0.000000</td>\n",
       "      <td>0.233469</td>\n",
       "      <td>0.416951</td>\n",
       "      <td>57.042946</td>\n",
       "      <td>20.353484</td>\n",
       "      <td>72.776846</td>\n",
       "      <td>2963.925784</td>\n",
       "    </tr>\n",
       "    <tr>\n",
       "      <th>50%</th>\n",
       "      <td>23.00000</td>\n",
       "      <td>1.241952</td>\n",
       "      <td>90.161143</td>\n",
       "      <td>0.908397</td>\n",
       "      <td>97.786643</td>\n",
       "      <td>-0.051208</td>\n",
       "      <td>0.196339</td>\n",
       "      <td>1.879158</td>\n",
       "      <td>1.897280</td>\n",
       "      <td>5.724824</td>\n",
       "      <td>...</td>\n",
       "      <td>38.712997</td>\n",
       "      <td>245.695786</td>\n",
       "      <td>1.613472e+12</td>\n",
       "      <td>0.000000</td>\n",
       "      <td>0.424046</td>\n",
       "      <td>0.633626</td>\n",
       "      <td>90.829730</td>\n",
       "      <td>44.590093</td>\n",
       "      <td>81.318565</td>\n",
       "      <td>5690.806673</td>\n",
       "    </tr>\n",
       "    <tr>\n",
       "      <th>75%</th>\n",
       "      <td>34.00000</td>\n",
       "      <td>1.394088</td>\n",
       "      <td>125.834012</td>\n",
       "      <td>1.303673</td>\n",
       "      <td>139.346576</td>\n",
       "      <td>0.244643</td>\n",
       "      <td>0.575195</td>\n",
       "      <td>18.925449</td>\n",
       "      <td>15.962060</td>\n",
       "      <td>8.448593</td>\n",
       "      <td>...</td>\n",
       "      <td>74.385406</td>\n",
       "      <td>340.452087</td>\n",
       "      <td>1.614937e+12</td>\n",
       "      <td>1.000000</td>\n",
       "      <td>0.688784</td>\n",
       "      <td>0.927536</td>\n",
       "      <td>134.929506</td>\n",
       "      <td>74.999191</td>\n",
       "      <td>93.476663</td>\n",
       "      <td>7838.591800</td>\n",
       "    </tr>\n",
       "    <tr>\n",
       "      <th>max</th>\n",
       "      <td>45.00000</td>\n",
       "      <td>2.288287</td>\n",
       "      <td>305.700631</td>\n",
       "      <td>3.335482</td>\n",
       "      <td>525.954520</td>\n",
       "      <td>1.134824</td>\n",
       "      <td>1.211130</td>\n",
       "      <td>111.674966</td>\n",
       "      <td>141.338815</td>\n",
       "      <td>21.817957</td>\n",
       "      <td>...</td>\n",
       "      <td>88.928444</td>\n",
       "      <td>359.993896</td>\n",
       "      <td>1.615570e+12</td>\n",
       "      <td>1.000000</td>\n",
       "      <td>2.218621</td>\n",
       "      <td>2.507445</td>\n",
       "      <td>402.570204</td>\n",
       "      <td>165.500142</td>\n",
       "      <td>168.842018</td>\n",
       "      <td>20555.704507</td>\n",
       "    </tr>\n",
       "  </tbody>\n",
       "</table>\n",
       "<p>8 rows × 25 columns</p>\n",
       "</div>"
      ],
      "text/plain": [
       "           Index  Acceleration Mean  Rotation Mean  Acceleration Variance  \\\n",
       "count  765.00000         765.000000     765.000000             765.000000   \n",
       "mean    23.00000           1.291181      91.264983               1.021121   \n",
       "std     12.99567           0.196225      51.953837               0.536389   \n",
       "min      1.00000           0.852751       4.126064               0.174386   \n",
       "25%     12.00000           1.146914      47.920742               0.620723   \n",
       "50%     23.00000           1.241952      90.161143               0.908397   \n",
       "75%     34.00000           1.394088     125.834012               1.303673   \n",
       "max     45.00000           2.288287     305.700631               3.335482   \n",
       "\n",
       "       Rotation Variance  Acc Y Mean  Acc Z Mean  Rot Y Mean  Rot Z Mean  \\\n",
       "count         765.000000  765.000000  765.000000  765.000000  765.000000   \n",
       "mean          114.649928   -0.065314    0.160678    1.521893    5.011623   \n",
       "std            75.321626    0.495275    0.535250   33.470903   29.496195   \n",
       "min            15.431657   -1.333600   -1.361850 -149.817077 -115.042328   \n",
       "25%            62.434765   -0.363540   -0.106187  -12.703253   -4.886760   \n",
       "50%            97.786643   -0.051208    0.196339    1.879158    1.897280   \n",
       "75%           139.346576    0.244643    0.575195   18.925449   15.962060   \n",
       "max           525.954520    1.134824    1.211130  111.674966  141.338815   \n",
       "\n",
       "       Max Acceleration  ...        Roll         Yaw     Timestamp  \\\n",
       "count        765.000000  ...  765.000000  765.000000  7.650000e+02   \n",
       "mean           6.687504  ...   35.117611  211.507451  1.613418e+12   \n",
       "std            3.536698  ...   40.464925  132.904788  1.816585e+09   \n",
       "min            1.844608  ...  -66.699471    0.008551  1.608032e+12   \n",
       "25%            4.008378  ...   -0.795930   80.633316  1.612546e+12   \n",
       "50%            5.724824  ...   38.712997  245.695786  1.613472e+12   \n",
       "75%            8.448593  ...   74.385406  340.452087  1.614937e+12   \n",
       "max           21.817957  ...   88.928444  359.993896  1.615570e+12   \n",
       "\n",
       "             Fall  Acc Y Stdev  Acc Z Stdev  Rot Y Stdev  Rot Z Stdev  \\\n",
       "count  765.000000   765.000000   765.000000   765.000000   765.000000   \n",
       "mean     0.437908     0.514702     0.727502   107.458123    50.464953   \n",
       "std      0.496454     0.370574     0.433159    70.714445    34.752515   \n",
       "min      0.000000     0.009248     0.057813    10.448235     1.059858   \n",
       "25%      0.000000     0.233469     0.416951    57.042946    20.353484   \n",
       "50%      0.000000     0.424046     0.633626    90.829730    44.590093   \n",
       "75%      1.000000     0.688784     0.927536   134.929506    74.999191   \n",
       "max      1.000000     2.218621     2.507445   402.570204   165.500142   \n",
       "\n",
       "       Fourier Acc Coef  Fourier Rot Coef  \n",
       "count        765.000000        765.000000  \n",
       "mean          83.186551       5740.832684  \n",
       "std           18.708207       3260.002571  \n",
       "min            9.258738        272.320192  \n",
       "25%           72.776846       2963.925784  \n",
       "50%           81.318565       5690.806673  \n",
       "75%           93.476663       7838.591800  \n",
       "max          168.842018      20555.704507  \n",
       "\n",
       "[8 rows x 25 columns]"
      ]
     },
     "execution_count": 51,
     "metadata": {},
     "output_type": "execute_result"
    }
   ],
   "source": [
    "df_feat.describe()"
   ]
  },
  {
   "cell_type": "code",
   "execution_count": 52,
   "id": "30738bc0",
   "metadata": {},
   "outputs": [
    {
     "data": {
      "text/plain": [
       "Subject1     45\n",
       "Subject2     45\n",
       "Subject8     45\n",
       "Subject7     45\n",
       "Subject6     45\n",
       "Subject5     45\n",
       "Subject4     45\n",
       "Subject3     45\n",
       "Subject17    45\n",
       "Subject10    45\n",
       "Subject16    45\n",
       "Subject15    45\n",
       "Subject14    45\n",
       "Subject13    45\n",
       "Subject12    45\n",
       "Subject11    45\n",
       "Subject9     45\n",
       "Name: File, dtype: int64"
      ]
     },
     "execution_count": 52,
     "metadata": {},
     "output_type": "execute_result"
    }
   ],
   "source": [
    "df_feat['File'].value_counts()"
   ]
  },
  {
   "cell_type": "markdown",
   "id": "37b29d6c",
   "metadata": {},
   "source": [
    "## Data preparation for df_raw"
   ]
  },
  {
   "cell_type": "code",
   "execution_count": null,
   "id": "f3d1e826",
   "metadata": {},
   "outputs": [],
   "source": [
    "#explain why focusing on df_raw specifically"
   ]
  },
  {
   "cell_type": "markdown",
   "id": "d6bcde45",
   "metadata": {},
   "source": [
    "df_feat is the summary of each task per individual (45 tasks x 17 individuals).  It has summary info of the main numeric categories, including mean, variance, coefs, and st dev.  More granularity (but also more dimensions) in df_raw\n",
    "\n",
    "and df_all is ALL the raw data with no target"
   ]
  },
  {
   "cell_type": "code",
   "execution_count": 117,
   "id": "631514bf",
   "metadata": {},
   "outputs": [
    {
     "data": {
      "text/plain": [
       "(49713, 13)"
      ]
     },
     "execution_count": 117,
     "metadata": {},
     "output_type": "execute_result"
    }
   ],
   "source": [
    "# making a copy of df-raw to use for modeling\n",
    "df = df_raw.copy()\n",
    "df.shape"
   ]
  },
  {
   "cell_type": "code",
   "execution_count": null,
   "id": "38b4363e",
   "metadata": {},
   "outputs": [],
   "source": [
    "# dropping timestamp, won't use"
   ]
  },
  {
   "cell_type": "code",
   "execution_count": 118,
   "id": "2f561f43",
   "metadata": {},
   "outputs": [],
   "source": [
    "df.drop(['Timestamp'], axis=1, inplace=True)"
   ]
  },
  {
   "cell_type": "code",
   "execution_count": 119,
   "id": "d13cebf3",
   "metadata": {},
   "outputs": [
    {
     "data": {
      "text/plain": [
       "(49713, 12)"
      ]
     },
     "execution_count": 119,
     "metadata": {},
     "output_type": "execute_result"
    }
   ],
   "source": [
    "df.shape"
   ]
  },
  {
   "cell_type": "code",
   "execution_count": 120,
   "id": "0e1a116f",
   "metadata": {},
   "outputs": [
    {
     "name": "stderr",
     "output_type": "stream",
     "text": [
      "C:\\Users\\JonMc\\AppData\\Local\\Temp\\ipykernel_55924\\3523135425.py:4: FutureWarning: The default value of numeric_only in DataFrame.corr is deprecated. In a future version, it will default to False. Select only valid columns or specify the value of numeric_only to silence this warning.\n",
      "  df.corr()['Fall']\n"
     ]
    },
    {
     "data": {
      "text/plain": [
       "Feature Line    0.852675\n",
       "Acc(X)         -0.444877\n",
       "Acc(Y)          0.035396\n",
       "Acc(Z)         -0.096861\n",
       "Rot(X)         -0.042177\n",
       "Rot(Y)          0.027612\n",
       "Rot(Z)         -0.015038\n",
       "Pitch          -0.111226\n",
       "Roll           -0.794995\n",
       "Yaw            -0.151548\n",
       "Fall            1.000000\n",
       "Name: Fall, dtype: float64"
      ]
     },
     "execution_count": 120,
     "metadata": {},
     "output_type": "execute_result"
    }
   ],
   "source": [
    "# have to remove 'Feature Line' as well since that indicates the type of \n",
    "# activity being performed, and therefore whether or not it is a simulated fall\n",
    "\n",
    "# the type of activity would not be known outside of a controlled experimental\n",
    "# environment\n",
    "\n",
    "df.corr()['Fall']"
   ]
  },
  {
   "cell_type": "code",
   "execution_count": 121,
   "id": "4914a32f",
   "metadata": {},
   "outputs": [],
   "source": [
    "df.drop(['Feature Line'], axis=1, inplace=True)"
   ]
  },
  {
   "cell_type": "code",
   "execution_count": null,
   "id": "ca5f1386",
   "metadata": {},
   "outputs": [],
   "source": [
    "# keeping 'File' - will treat as categorical. That differentiates one\n",
    "# individual from another - would the monitoring system be able to 'learn'\n",
    "# an individual's behavior in the future?\n",
    "\n",
    "# and 'Fall' is the target"
   ]
  },
  {
   "cell_type": "code",
   "execution_count": 122,
   "id": "6c4468ee",
   "metadata": {},
   "outputs": [
    {
     "name": "stdout",
     "output_type": "stream",
     "text": [
      "<class 'pandas.core.frame.DataFrame'>\n",
      "RangeIndex: 49713 entries, 0 to 49712\n",
      "Data columns (total 11 columns):\n",
      " #   Column  Non-Null Count  Dtype  \n",
      "---  ------  --------------  -----  \n",
      " 0   Acc(X)  49713 non-null  float64\n",
      " 1   Acc(Y)  49713 non-null  float64\n",
      " 2   Acc(Z)  49713 non-null  float64\n",
      " 3   Rot(X)  49713 non-null  float64\n",
      " 4   Rot(Y)  49713 non-null  float64\n",
      " 5   Rot(Z)  49713 non-null  float64\n",
      " 6   Pitch   49713 non-null  float64\n",
      " 7   Roll    49713 non-null  float64\n",
      " 8   Yaw     49713 non-null  float64\n",
      " 9   Fall    49713 non-null  int64  \n",
      " 10  File    49713 non-null  object \n",
      "dtypes: float64(9), int64(1), object(1)\n",
      "memory usage: 4.2+ MB\n"
     ]
    }
   ],
   "source": [
    "df.info()"
   ]
  },
  {
   "cell_type": "code",
   "execution_count": null,
   "id": "6f9d38db",
   "metadata": {},
   "outputs": [],
   "source": []
  },
  {
   "cell_type": "markdown",
   "id": "8ec25151",
   "metadata": {},
   "source": [
    "# Modeling"
   ]
  },
  {
   "cell_type": "markdown",
   "id": "eb7703cb",
   "metadata": {},
   "source": [
    "Modeling will involve the use of a train-test split, a baseline dummy classifier, then pipelines and cross-validation for logistic regression, kNN, decision trees / random forest, grid searches, XG boosting.  My target variable is the defined 0 or 1 for whether a fall occurred in that segment of testing, which indicates a binary classification problem.  My local computer should be sufficient for this, as it was in phase 3, but I am open to using Google Colab  if I need additional computing power, or if the processing speed on my own computer is woefully slow.  My data will be stored on my local machine."
   ]
  },
  {
   "cell_type": "markdown",
   "id": "9ca4eca0",
   "metadata": {},
   "source": [
    "## Pre-processing for df_raw"
   ]
  },
  {
   "cell_type": "markdown",
   "id": "39e354c2",
   "metadata": {},
   "source": [
    "Train-test split, pipelines with scaling, exploratory clustering"
   ]
  },
  {
   "cell_type": "markdown",
   "id": "019a35b5",
   "metadata": {},
   "source": [
    "### Train-test split"
   ]
  },
  {
   "cell_type": "code",
   "execution_count": null,
   "id": "63833fce",
   "metadata": {},
   "outputs": [],
   "source": [
    "# explain target"
   ]
  },
  {
   "cell_type": "code",
   "execution_count": 123,
   "id": "0e26ca21",
   "metadata": {},
   "outputs": [],
   "source": [
    "X = df.drop(['Fall'], axis=1)\n",
    "y = df['Fall']\n",
    "X_train, X_test, y_train, y_test = train_test_split(X, y, random_state=24)"
   ]
  },
  {
   "cell_type": "code",
   "execution_count": 124,
   "id": "95e6c147",
   "metadata": {},
   "outputs": [
    {
     "data": {
      "text/plain": [
       "(37284, 10)"
      ]
     },
     "execution_count": 124,
     "metadata": {},
     "output_type": "execute_result"
    }
   ],
   "source": [
    "X_train.shape"
   ]
  },
  {
   "cell_type": "code",
   "execution_count": 125,
   "id": "3c93cfdb",
   "metadata": {},
   "outputs": [
    {
     "name": "stdout",
     "output_type": "stream",
     "text": [
      "<class 'pandas.core.frame.DataFrame'>\n",
      "Int64Index: 37284 entries, 8308 to 45474\n",
      "Data columns (total 10 columns):\n",
      " #   Column  Non-Null Count  Dtype  \n",
      "---  ------  --------------  -----  \n",
      " 0   Acc(X)  37284 non-null  float64\n",
      " 1   Acc(Y)  37284 non-null  float64\n",
      " 2   Acc(Z)  37284 non-null  float64\n",
      " 3   Rot(X)  37284 non-null  float64\n",
      " 4   Rot(Y)  37284 non-null  float64\n",
      " 5   Rot(Z)  37284 non-null  float64\n",
      " 6   Pitch   37284 non-null  float64\n",
      " 7   Roll    37284 non-null  float64\n",
      " 8   Yaw     37284 non-null  float64\n",
      " 9   File    37284 non-null  object \n",
      "dtypes: float64(9), object(1)\n",
      "memory usage: 3.1+ MB\n"
     ]
    }
   ],
   "source": [
    "X_train.info()"
   ]
  },
  {
   "cell_type": "code",
   "execution_count": 126,
   "id": "58be3647",
   "metadata": {},
   "outputs": [
    {
     "data": {
      "text/plain": [
       "(37284,)"
      ]
     },
     "execution_count": 126,
     "metadata": {},
     "output_type": "execute_result"
    }
   ],
   "source": [
    "y_train.shape"
   ]
  },
  {
   "cell_type": "markdown",
   "id": "38ea29a9",
   "metadata": {},
   "source": [
    "### Pipelines and ColumnTransformer"
   ]
  },
  {
   "cell_type": "markdown",
   "id": "c0199220",
   "metadata": {},
   "source": [
    "#### ColumnTransformer"
   ]
  },
  {
   "cell_type": "code",
   "execution_count": 127,
   "id": "319efa37",
   "metadata": {},
   "outputs": [],
   "source": [
    "subpipe_num = Pipeline(steps=[('ss', StandardScaler())])\n",
    "subpipe_cat = Pipeline(steps=[('ohe', OneHotEncoder(handle_unknown='ignore'))])"
   ]
  },
  {
   "cell_type": "code",
   "execution_count": 128,
   "id": "ee8a6042",
   "metadata": {},
   "outputs": [],
   "source": [
    "num_feats = list(df.select_dtypes(include=['float64']).columns)\n",
    "cat_feats = ['File']"
   ]
  },
  {
   "cell_type": "code",
   "execution_count": 129,
   "id": "cbf98f16",
   "metadata": {},
   "outputs": [],
   "source": [
    "CT = ColumnTransformer(transformers=[('subpipe_num', subpipe_num, num_feats),\n",
    "                                     ('subpipe_cat', subpipe_cat, cat_feats)],\n",
    "                                     remainder='passthrough')"
   ]
  },
  {
   "cell_type": "code",
   "execution_count": 181,
   "id": "f9e6e912",
   "metadata": {},
   "outputs": [
    {
     "data": {
      "text/plain": [
       "(37284, 26)"
      ]
     },
     "execution_count": 181,
     "metadata": {},
     "output_type": "execute_result"
    }
   ],
   "source": [
    "CT.fit_transform(X_train).shape"
   ]
  },
  {
   "cell_type": "code",
   "execution_count": 131,
   "id": "6126975c",
   "metadata": {},
   "outputs": [
    {
     "data": {
      "text/plain": [
       "(37284, 10)"
      ]
     },
     "execution_count": 131,
     "metadata": {},
     "output_type": "execute_result"
    }
   ],
   "source": [
    "X_train.shape\n",
    "\n",
    "# so added 16 OHE columns above"
   ]
  },
  {
   "cell_type": "markdown",
   "id": "7fad2194",
   "metadata": {},
   "source": [
    "### Scaling"
   ]
  },
  {
   "cell_type": "markdown",
   "id": "8eca30ac",
   "metadata": {},
   "source": [
    "#### Pipeline and FunctionTransformer for scaling"
   ]
  },
  {
   "cell_type": "code",
   "execution_count": 182,
   "id": "4372db46",
   "metadata": {},
   "outputs": [],
   "source": [
    "# including only float64 data from df\n",
    "\n",
    "def grab_float(df):\n",
    "    return df.select_dtypes(include=['float64'])"
   ]
  },
  {
   "cell_type": "code",
   "execution_count": 183,
   "id": "a23de11d",
   "metadata": {},
   "outputs": [],
   "source": [
    "GrabFloat = FunctionTransformer(grab_float)"
   ]
  },
  {
   "cell_type": "code",
   "execution_count": 184,
   "id": "c6b6a8b6",
   "metadata": {},
   "outputs": [],
   "source": [
    "pipe = Pipeline(steps=[('flt', GrabFloat),\n",
    "                       ('ss', StandardScaler())])"
   ]
  },
  {
   "cell_type": "code",
   "execution_count": 185,
   "id": "2347e1a4",
   "metadata": {},
   "outputs": [
    {
     "data": {
      "text/html": [
       "<style>#sk-container-id-10 {color: black;background-color: white;}#sk-container-id-10 pre{padding: 0;}#sk-container-id-10 div.sk-toggleable {background-color: white;}#sk-container-id-10 label.sk-toggleable__label {cursor: pointer;display: block;width: 100%;margin-bottom: 0;padding: 0.3em;box-sizing: border-box;text-align: center;}#sk-container-id-10 label.sk-toggleable__label-arrow:before {content: \"▸\";float: left;margin-right: 0.25em;color: #696969;}#sk-container-id-10 label.sk-toggleable__label-arrow:hover:before {color: black;}#sk-container-id-10 div.sk-estimator:hover label.sk-toggleable__label-arrow:before {color: black;}#sk-container-id-10 div.sk-toggleable__content {max-height: 0;max-width: 0;overflow: hidden;text-align: left;background-color: #f0f8ff;}#sk-container-id-10 div.sk-toggleable__content pre {margin: 0.2em;color: black;border-radius: 0.25em;background-color: #f0f8ff;}#sk-container-id-10 input.sk-toggleable__control:checked~div.sk-toggleable__content {max-height: 200px;max-width: 100%;overflow: auto;}#sk-container-id-10 input.sk-toggleable__control:checked~label.sk-toggleable__label-arrow:before {content: \"▾\";}#sk-container-id-10 div.sk-estimator input.sk-toggleable__control:checked~label.sk-toggleable__label {background-color: #d4ebff;}#sk-container-id-10 div.sk-label input.sk-toggleable__control:checked~label.sk-toggleable__label {background-color: #d4ebff;}#sk-container-id-10 input.sk-hidden--visually {border: 0;clip: rect(1px 1px 1px 1px);clip: rect(1px, 1px, 1px, 1px);height: 1px;margin: -1px;overflow: hidden;padding: 0;position: absolute;width: 1px;}#sk-container-id-10 div.sk-estimator {font-family: monospace;background-color: #f0f8ff;border: 1px dotted black;border-radius: 0.25em;box-sizing: border-box;margin-bottom: 0.5em;}#sk-container-id-10 div.sk-estimator:hover {background-color: #d4ebff;}#sk-container-id-10 div.sk-parallel-item::after {content: \"\";width: 100%;border-bottom: 1px solid gray;flex-grow: 1;}#sk-container-id-10 div.sk-label:hover label.sk-toggleable__label {background-color: #d4ebff;}#sk-container-id-10 div.sk-serial::before {content: \"\";position: absolute;border-left: 1px solid gray;box-sizing: border-box;top: 0;bottom: 0;left: 50%;z-index: 0;}#sk-container-id-10 div.sk-serial {display: flex;flex-direction: column;align-items: center;background-color: white;padding-right: 0.2em;padding-left: 0.2em;position: relative;}#sk-container-id-10 div.sk-item {position: relative;z-index: 1;}#sk-container-id-10 div.sk-parallel {display: flex;align-items: stretch;justify-content: center;background-color: white;position: relative;}#sk-container-id-10 div.sk-item::before, #sk-container-id-10 div.sk-parallel-item::before {content: \"\";position: absolute;border-left: 1px solid gray;box-sizing: border-box;top: 0;bottom: 0;left: 50%;z-index: -1;}#sk-container-id-10 div.sk-parallel-item {display: flex;flex-direction: column;z-index: 1;position: relative;background-color: white;}#sk-container-id-10 div.sk-parallel-item:first-child::after {align-self: flex-end;width: 50%;}#sk-container-id-10 div.sk-parallel-item:last-child::after {align-self: flex-start;width: 50%;}#sk-container-id-10 div.sk-parallel-item:only-child::after {width: 0;}#sk-container-id-10 div.sk-dashed-wrapped {border: 1px dashed gray;margin: 0 0.4em 0.5em 0.4em;box-sizing: border-box;padding-bottom: 0.4em;background-color: white;}#sk-container-id-10 div.sk-label label {font-family: monospace;font-weight: bold;display: inline-block;line-height: 1.2em;}#sk-container-id-10 div.sk-label-container {text-align: center;}#sk-container-id-10 div.sk-container {/* jupyter's `normalize.less` sets `[hidden] { display: none; }` but bootstrap.min.css set `[hidden] { display: none !important; }` so we also need the `!important` here to be able to override the default hidden behavior on the sphinx rendered scikit-learn.org. See: https://github.com/scikit-learn/scikit-learn/issues/21755 */display: inline-block !important;position: relative;}#sk-container-id-10 div.sk-text-repr-fallback {display: none;}</style><div id=\"sk-container-id-10\" class=\"sk-top-container\"><div class=\"sk-text-repr-fallback\"><pre>Pipeline(steps=[(&#x27;flt&#x27;,\n",
       "                 FunctionTransformer(func=&lt;function grab_float at 0x0000016A100084C0&gt;)),\n",
       "                (&#x27;ss&#x27;, StandardScaler())])</pre><b>In a Jupyter environment, please rerun this cell to show the HTML representation or trust the notebook. <br />On GitHub, the HTML representation is unable to render, please try loading this page with nbviewer.org.</b></div><div class=\"sk-container\" hidden><div class=\"sk-item sk-dashed-wrapped\"><div class=\"sk-label-container\"><div class=\"sk-label sk-toggleable\"><input class=\"sk-toggleable__control sk-hidden--visually\" id=\"sk-estimator-id-44\" type=\"checkbox\" ><label for=\"sk-estimator-id-44\" class=\"sk-toggleable__label sk-toggleable__label-arrow\">Pipeline</label><div class=\"sk-toggleable__content\"><pre>Pipeline(steps=[(&#x27;flt&#x27;,\n",
       "                 FunctionTransformer(func=&lt;function grab_float at 0x0000016A100084C0&gt;)),\n",
       "                (&#x27;ss&#x27;, StandardScaler())])</pre></div></div></div><div class=\"sk-serial\"><div class=\"sk-item\"><div class=\"sk-estimator sk-toggleable\"><input class=\"sk-toggleable__control sk-hidden--visually\" id=\"sk-estimator-id-45\" type=\"checkbox\" ><label for=\"sk-estimator-id-45\" class=\"sk-toggleable__label sk-toggleable__label-arrow\">FunctionTransformer</label><div class=\"sk-toggleable__content\"><pre>FunctionTransformer(func=&lt;function grab_float at 0x0000016A100084C0&gt;)</pre></div></div></div><div class=\"sk-item\"><div class=\"sk-estimator sk-toggleable\"><input class=\"sk-toggleable__control sk-hidden--visually\" id=\"sk-estimator-id-46\" type=\"checkbox\" ><label for=\"sk-estimator-id-46\" class=\"sk-toggleable__label sk-toggleable__label-arrow\">StandardScaler</label><div class=\"sk-toggleable__content\"><pre>StandardScaler()</pre></div></div></div></div></div></div></div>"
      ],
      "text/plain": [
       "Pipeline(steps=[('flt',\n",
       "                 FunctionTransformer(func=<function grab_float at 0x0000016A100084C0>)),\n",
       "                ('ss', StandardScaler())])"
      ]
     },
     "execution_count": 185,
     "metadata": {},
     "output_type": "execute_result"
    }
   ],
   "source": [
    "pipe.fit(X_train)"
   ]
  },
  {
   "cell_type": "code",
   "execution_count": 187,
   "id": "0175928e",
   "metadata": {},
   "outputs": [
    {
     "data": {
      "text/plain": [
       "(37284, 9)"
      ]
     },
     "execution_count": 187,
     "metadata": {},
     "output_type": "execute_result"
    }
   ],
   "source": [
    "pipe.transform(X_train).shape"
   ]
  },
  {
   "cell_type": "code",
   "execution_count": 189,
   "id": "a6e5a056",
   "metadata": {},
   "outputs": [
    {
     "data": {
      "text/plain": [
       "array([[-1.18859279,  0.35892826,  0.58842298, ...,  0.05181948,\n",
       "        -1.74659284,  1.13849818],\n",
       "       [ 0.48988555,  0.18983063, -0.18302417, ..., -0.04753906,\n",
       "         1.1367719 , -0.31377345],\n",
       "       [-0.47548339,  0.07997888, -0.14702663, ...,  0.01436752,\n",
       "         1.2169817 ,  1.07441789],\n",
       "       ...,\n",
       "       [-0.58883759,  0.16082483, -0.24002026, ..., -0.22345213,\n",
       "         0.74549629,  1.07566122],\n",
       "       [ 0.45272024, -0.04715292,  0.1414536 , ...,  0.20102511,\n",
       "         0.09031887, -0.84065141],\n",
       "       [-0.81740425,  0.6786092 , -0.7064883 , ..., -1.71882754,\n",
       "        -1.03036112,  0.84849222]])"
      ]
     },
     "execution_count": 189,
     "metadata": {},
     "output_type": "execute_result"
    }
   ],
   "source": [
    "X_scale = pipe.transform(X_train)\n",
    "X_scale"
   ]
  },
  {
   "cell_type": "code",
   "execution_count": 199,
   "id": "e148bdbb",
   "metadata": {},
   "outputs": [
    {
     "data": {
      "text/html": [
       "<div>\n",
       "<style scoped>\n",
       "    .dataframe tbody tr th:only-of-type {\n",
       "        vertical-align: middle;\n",
       "    }\n",
       "\n",
       "    .dataframe tbody tr th {\n",
       "        vertical-align: top;\n",
       "    }\n",
       "\n",
       "    .dataframe thead th {\n",
       "        text-align: right;\n",
       "    }\n",
       "</style>\n",
       "<table border=\"1\" class=\"dataframe\">\n",
       "  <thead>\n",
       "    <tr style=\"text-align: right;\">\n",
       "      <th></th>\n",
       "      <th>Acc(X)</th>\n",
       "      <th>Acc(Y)</th>\n",
       "      <th>Acc(Z)</th>\n",
       "      <th>Rot(X)</th>\n",
       "      <th>Rot(Y)</th>\n",
       "      <th>Rot(Z)</th>\n",
       "      <th>Pitch</th>\n",
       "      <th>Roll</th>\n",
       "      <th>Yaw</th>\n",
       "    </tr>\n",
       "  </thead>\n",
       "  <tbody>\n",
       "    <tr>\n",
       "      <th>0</th>\n",
       "      <td>-1.188593</td>\n",
       "      <td>0.358928</td>\n",
       "      <td>0.588423</td>\n",
       "      <td>-0.339516</td>\n",
       "      <td>0.105175</td>\n",
       "      <td>-0.244688</td>\n",
       "      <td>0.051819</td>\n",
       "      <td>-1.746593</td>\n",
       "      <td>1.138498</td>\n",
       "    </tr>\n",
       "    <tr>\n",
       "      <th>1</th>\n",
       "      <td>0.489886</td>\n",
       "      <td>0.189831</td>\n",
       "      <td>-0.183024</td>\n",
       "      <td>0.142507</td>\n",
       "      <td>-0.139070</td>\n",
       "      <td>-0.118336</td>\n",
       "      <td>-0.047539</td>\n",
       "      <td>1.136772</td>\n",
       "      <td>-0.313773</td>\n",
       "    </tr>\n",
       "    <tr>\n",
       "      <th>2</th>\n",
       "      <td>-0.475483</td>\n",
       "      <td>0.079979</td>\n",
       "      <td>-0.147027</td>\n",
       "      <td>-0.239365</td>\n",
       "      <td>-0.022436</td>\n",
       "      <td>-0.169434</td>\n",
       "      <td>0.014368</td>\n",
       "      <td>1.216982</td>\n",
       "      <td>1.074418</td>\n",
       "    </tr>\n",
       "    <tr>\n",
       "      <th>3</th>\n",
       "      <td>0.392791</td>\n",
       "      <td>-0.223656</td>\n",
       "      <td>-0.450506</td>\n",
       "      <td>-0.021770</td>\n",
       "      <td>0.010496</td>\n",
       "      <td>-0.059805</td>\n",
       "      <td>2.050999</td>\n",
       "      <td>0.762829</td>\n",
       "      <td>1.132524</td>\n",
       "    </tr>\n",
       "    <tr>\n",
       "      <th>4</th>\n",
       "      <td>-0.190704</td>\n",
       "      <td>0.716255</td>\n",
       "      <td>-1.056464</td>\n",
       "      <td>0.142507</td>\n",
       "      <td>-0.151877</td>\n",
       "      <td>-0.070953</td>\n",
       "      <td>-1.795844</td>\n",
       "      <td>-0.544521</td>\n",
       "      <td>0.926434</td>\n",
       "    </tr>\n",
       "    <tr>\n",
       "      <th>...</th>\n",
       "      <td>...</td>\n",
       "      <td>...</td>\n",
       "      <td>...</td>\n",
       "      <td>...</td>\n",
       "      <td>...</td>\n",
       "      <td>...</td>\n",
       "      <td>...</td>\n",
       "      <td>...</td>\n",
       "      <td>...</td>\n",
       "    </tr>\n",
       "    <tr>\n",
       "      <th>37279</th>\n",
       "      <td>0.449933</td>\n",
       "      <td>0.158356</td>\n",
       "      <td>0.018462</td>\n",
       "      <td>-0.008801</td>\n",
       "      <td>-0.017862</td>\n",
       "      <td>-0.045869</td>\n",
       "      <td>-0.030079</td>\n",
       "      <td>0.998724</td>\n",
       "      <td>1.142598</td>\n",
       "    </tr>\n",
       "    <tr>\n",
       "      <th>37280</th>\n",
       "      <td>-0.292444</td>\n",
       "      <td>1.071113</td>\n",
       "      <td>-0.385010</td>\n",
       "      <td>-0.400760</td>\n",
       "      <td>-0.789017</td>\n",
       "      <td>-0.643257</td>\n",
       "      <td>-1.298210</td>\n",
       "      <td>-0.412781</td>\n",
       "      <td>-0.954739</td>\n",
       "    </tr>\n",
       "    <tr>\n",
       "      <th>37281</th>\n",
       "      <td>-0.588838</td>\n",
       "      <td>0.160825</td>\n",
       "      <td>-0.240020</td>\n",
       "      <td>0.401891</td>\n",
       "      <td>-0.091044</td>\n",
       "      <td>0.121363</td>\n",
       "      <td>-0.223452</td>\n",
       "      <td>0.745496</td>\n",
       "      <td>1.075661</td>\n",
       "    </tr>\n",
       "    <tr>\n",
       "      <th>37282</th>\n",
       "      <td>0.452720</td>\n",
       "      <td>-0.047153</td>\n",
       "      <td>0.141454</td>\n",
       "      <td>-0.846757</td>\n",
       "      <td>-0.030669</td>\n",
       "      <td>-0.929408</td>\n",
       "      <td>0.201025</td>\n",
       "      <td>0.090319</td>\n",
       "      <td>-0.840651</td>\n",
       "    </tr>\n",
       "    <tr>\n",
       "      <th>37283</th>\n",
       "      <td>-0.817404</td>\n",
       "      <td>0.678609</td>\n",
       "      <td>-0.706488</td>\n",
       "      <td>-0.227837</td>\n",
       "      <td>-0.048965</td>\n",
       "      <td>-0.261411</td>\n",
       "      <td>-1.718828</td>\n",
       "      <td>-1.030361</td>\n",
       "      <td>0.848492</td>\n",
       "    </tr>\n",
       "  </tbody>\n",
       "</table>\n",
       "<p>37284 rows × 9 columns</p>\n",
       "</div>"
      ],
      "text/plain": [
       "         Acc(X)    Acc(Y)    Acc(Z)    Rot(X)    Rot(Y)    Rot(Z)     Pitch  \\\n",
       "0     -1.188593  0.358928  0.588423 -0.339516  0.105175 -0.244688  0.051819   \n",
       "1      0.489886  0.189831 -0.183024  0.142507 -0.139070 -0.118336 -0.047539   \n",
       "2     -0.475483  0.079979 -0.147027 -0.239365 -0.022436 -0.169434  0.014368   \n",
       "3      0.392791 -0.223656 -0.450506 -0.021770  0.010496 -0.059805  2.050999   \n",
       "4     -0.190704  0.716255 -1.056464  0.142507 -0.151877 -0.070953 -1.795844   \n",
       "...         ...       ...       ...       ...       ...       ...       ...   \n",
       "37279  0.449933  0.158356  0.018462 -0.008801 -0.017862 -0.045869 -0.030079   \n",
       "37280 -0.292444  1.071113 -0.385010 -0.400760 -0.789017 -0.643257 -1.298210   \n",
       "37281 -0.588838  0.160825 -0.240020  0.401891 -0.091044  0.121363 -0.223452   \n",
       "37282  0.452720 -0.047153  0.141454 -0.846757 -0.030669 -0.929408  0.201025   \n",
       "37283 -0.817404  0.678609 -0.706488 -0.227837 -0.048965 -0.261411 -1.718828   \n",
       "\n",
       "           Roll       Yaw  \n",
       "0     -1.746593  1.138498  \n",
       "1      1.136772 -0.313773  \n",
       "2      1.216982  1.074418  \n",
       "3      0.762829  1.132524  \n",
       "4     -0.544521  0.926434  \n",
       "...         ...       ...  \n",
       "37279  0.998724  1.142598  \n",
       "37280 -0.412781 -0.954739  \n",
       "37281  0.745496  1.075661  \n",
       "37282  0.090319 -0.840651  \n",
       "37283 -1.030361  0.848492  \n",
       "\n",
       "[37284 rows x 9 columns]"
      ]
     },
     "execution_count": 199,
     "metadata": {},
     "output_type": "execute_result"
    }
   ],
   "source": [
    "X_scale_df = pd.DataFrame(X_scale, columns = X_train.drop(['File'], axis=1).columns)\n",
    "X_scale_df"
   ]
  },
  {
   "cell_type": "code",
   "execution_count": 191,
   "id": "fa0f1fa6",
   "metadata": {},
   "outputs": [
    {
     "data": {
      "text/plain": [
       "(37284,)"
      ]
     },
     "execution_count": 191,
     "metadata": {},
     "output_type": "execute_result"
    }
   ],
   "source": [
    "y_train.shape"
   ]
  },
  {
   "cell_type": "code",
   "execution_count": 202,
   "id": "9d298e76",
   "metadata": {},
   "outputs": [
    {
     "data": {
      "image/png": "[encoded data removed]",
      "text/plain": [
       "<Figure size 640x480 with 1 Axes>"
      ]
     },
     "metadata": {},
     "output_type": "display_data"
    }
   ],
   "source": [
    "fig, ax = plt.subplots()\n",
    "ax.scatter(X_scale_df['Acc(X)'], y_train);"
   ]
  },
  {
   "cell_type": "code",
   "execution_count": null,
   "id": "93f880c7",
   "metadata": {},
   "outputs": [],
   "source": [
    "# These individual X vs y plots will all look like sigmoid functions if y is\n",
    "# only 0 or 1"
   ]
  },
  {
   "cell_type": "markdown",
   "id": "d65dcc99",
   "metadata": {},
   "source": [
    "#### PCA"
   ]
  },
  {
   "cell_type": "code",
   "execution_count": 237,
   "id": "208bf5a1",
   "metadata": {},
   "outputs": [],
   "source": [
    "# keeping to n_components=2 to visualize\n",
    "pca = PCA(n_components=2, random_state=24)"
   ]
  },
  {
   "cell_type": "code",
   "execution_count": 242,
   "id": "e183dd31",
   "metadata": {},
   "outputs": [],
   "source": [
    "X_pca = pca.fit_transform(X_scale_df)"
   ]
  },
  {
   "cell_type": "code",
   "execution_count": 243,
   "id": "09a8b93f",
   "metadata": {},
   "outputs": [
    {
     "data": {
      "text/plain": [
       "(37284, 2)"
      ]
     },
     "execution_count": 243,
     "metadata": {},
     "output_type": "execute_result"
    }
   ],
   "source": [
    "X_pca.shape"
   ]
  },
  {
   "cell_type": "markdown",
   "id": "84a8371a",
   "metadata": {},
   "source": [
    "#### KMeans Clustering"
   ]
  },
  {
   "cell_type": "code",
   "execution_count": 222,
   "id": "6f631400",
   "metadata": {},
   "outputs": [
    {
     "data": {
      "text/plain": [
       "array([2, 0, 0, ..., 0, 0, 1])"
      ]
     },
     "execution_count": 222,
     "metadata": {},
     "output_type": "execute_result"
    }
   ],
   "source": [
    "kmeans = KMeans(n_clusters=3, n_init=10, random_state=24)"
   ]
  },
  {
   "cell_type": "code",
   "execution_count": 224,
   "id": "c5d3166d",
   "metadata": {},
   "outputs": [
    {
     "name": "stdout",
     "output_type": "stream",
     "text": [
      "[2 0 0 ... 0 0 1]\n"
     ]
    }
   ],
   "source": [
    "label = kmeans.fit_predict(X_pca)\n",
    "print(label)"
   ]
  },
  {
   "cell_type": "code",
   "execution_count": 234,
   "id": "632baeca",
   "metadata": {},
   "outputs": [],
   "source": [
    "#filter rows of original data\n",
    "filtered_label0 = X_pca[label == 0]"
   ]
  },
  {
   "cell_type": "code",
   "execution_count": 233,
   "id": "9ca01fa4",
   "metadata": {},
   "outputs": [
    {
     "data": {
      "image/png": "[encoded data removed]",
      "text/plain": [
       "<Figure size 640x480 with 1 Axes>"
      ]
     },
     "metadata": {},
     "output_type": "display_data"
    }
   ],
   "source": [
    "#plotting the results\n",
    "plt.scatter(filtered_label0[:,0] , filtered_label0[:,1])\n",
    "plt.show()"
   ]
  },
  {
   "cell_type": "code",
   "execution_count": 232,
   "id": "5692b367",
   "metadata": {},
   "outputs": [
    {
     "data": {
      "image/png": "[encoded data removed]",
      "text/plain": [
       "<Figure size 640x480 with 1 Axes>"
      ]
     },
     "metadata": {},
     "output_type": "display_data"
    }
   ],
   "source": [
    "#Getting unique labels\n",
    " \n",
    "u_labels = np.unique(label)\n",
    " \n",
    "#plotting the results:\n",
    " \n",
    "for i in u_labels:\n",
    "    plt.scatter(X_pca[label == i , 0] , X_pca[label == i , 1] , label = i)\n",
    "plt.legend()\n",
    "plt.show()"
   ]
  },
  {
   "cell_type": "code",
   "execution_count": 236,
   "id": "5ecba2e2",
   "metadata": {},
   "outputs": [
    {
     "data": {
      "image/png": "[encoded data removed]",
      "text/plain": [
       "<Figure size 640x480 with 1 Axes>"
      ]
     },
     "metadata": {},
     "output_type": "display_data"
    }
   ],
   "source": [
    "# Getting the Centroids\n",
    "centroids = kmeans.cluster_centers_\n",
    "u_labels = np.unique(label)\n",
    " \n",
    "#plotting the results:\n",
    " \n",
    "for i in u_labels:\n",
    "    plt.scatter(X_pca[label == i , 0] , X_pca[label == i , 1] , label = i)\n",
    "plt.scatter(centroids[:,0] , centroids[:,1] , s = 80, color = 'k')\n",
    "plt.legend()\n",
    "plt.show()"
   ]
  },
  {
   "cell_type": "code",
   "execution_count": null,
   "id": "adce5937",
   "metadata": {},
   "outputs": [],
   "source": [
    "# no distinct clusters noted"
   ]
  },
  {
   "cell_type": "markdown",
   "id": "a33d097e",
   "metadata": {},
   "source": [
    "## DummyClassifier"
   ]
  },
  {
   "cell_type": "markdown",
   "id": "00d8448d",
   "metadata": {},
   "source": [
    "Creating a dummy model that will return the most common target"
   ]
  },
  {
   "cell_type": "code",
   "execution_count": 132,
   "id": "0499afe6",
   "metadata": {},
   "outputs": [
    {
     "data": {
      "text/plain": [
       "0    0.590912\n",
       "1    0.409088\n",
       "Name: Fall, dtype: float64"
      ]
     },
     "execution_count": 132,
     "metadata": {},
     "output_type": "execute_result"
    }
   ],
   "source": [
    "df['Fall'].value_counts(normalize=True)\n",
    "\n",
    "# Note '0' is 59% of the total values"
   ]
  },
  {
   "cell_type": "code",
   "execution_count": 133,
   "id": "0c2244da",
   "metadata": {},
   "outputs": [],
   "source": [
    "dummy_model = DummyClassifier(strategy='most_frequent')"
   ]
  },
  {
   "cell_type": "code",
   "execution_count": 134,
   "id": "f45a12ec",
   "metadata": {},
   "outputs": [
    {
     "data": {
      "text/html": [
       "<div>\n",
       "<style scoped>\n",
       "    .dataframe tbody tr th:only-of-type {\n",
       "        vertical-align: middle;\n",
       "    }\n",
       "\n",
       "    .dataframe tbody tr th {\n",
       "        vertical-align: top;\n",
       "    }\n",
       "\n",
       "    .dataframe thead th {\n",
       "        text-align: right;\n",
       "    }\n",
       "</style>\n",
       "<table border=\"1\" class=\"dataframe\">\n",
       "  <thead>\n",
       "    <tr style=\"text-align: right;\">\n",
       "      <th></th>\n",
       "      <th>Acc(X)</th>\n",
       "      <th>Acc(Y)</th>\n",
       "      <th>Acc(Z)</th>\n",
       "      <th>Rot(X)</th>\n",
       "      <th>Rot(Y)</th>\n",
       "      <th>Rot(Z)</th>\n",
       "      <th>Pitch</th>\n",
       "      <th>Roll</th>\n",
       "      <th>Yaw</th>\n",
       "    </tr>\n",
       "  </thead>\n",
       "  <tbody>\n",
       "    <tr>\n",
       "      <th>8308</th>\n",
       "      <td>-0.720703</td>\n",
       "      <td>0.235840</td>\n",
       "      <td>0.743652</td>\n",
       "      <td>-27.134148</td>\n",
       "      <td>16.097561</td>\n",
       "      <td>-12.134147</td>\n",
       "      <td>2.906763</td>\n",
       "      <td>-29.597702</td>\n",
       "      <td>357.378632</td>\n",
       "    </tr>\n",
       "    <tr>\n",
       "      <th>11906</th>\n",
       "      <td>1.043457</td>\n",
       "      <td>0.102051</td>\n",
       "      <td>-0.009766</td>\n",
       "      <td>13.658537</td>\n",
       "      <td>-16.463415</td>\n",
       "      <td>-3.841464</td>\n",
       "      <td>-5.234757</td>\n",
       "      <td>84.123871</td>\n",
       "      <td>159.863800</td>\n",
       "    </tr>\n",
       "    <tr>\n",
       "      <th>47091</th>\n",
       "      <td>0.028809</td>\n",
       "      <td>0.015137</td>\n",
       "      <td>0.025391</td>\n",
       "      <td>-18.658537</td>\n",
       "      <td>-0.914634</td>\n",
       "      <td>-7.195122</td>\n",
       "      <td>-0.162081</td>\n",
       "      <td>87.287392</td>\n",
       "      <td>348.663452</td>\n",
       "    </tr>\n",
       "    <tr>\n",
       "      <th>18432</th>\n",
       "      <td>0.941406</td>\n",
       "      <td>-0.225098</td>\n",
       "      <td>-0.270996</td>\n",
       "      <td>-0.243902</td>\n",
       "      <td>3.475610</td>\n",
       "      <td>0.000000</td>\n",
       "      <td>166.721191</td>\n",
       "      <td>69.375359</td>\n",
       "      <td>356.566071</td>\n",
       "    </tr>\n",
       "    <tr>\n",
       "      <th>1839</th>\n",
       "      <td>0.328125</td>\n",
       "      <td>0.518555</td>\n",
       "      <td>-0.862793</td>\n",
       "      <td>13.658537</td>\n",
       "      <td>-18.170732</td>\n",
       "      <td>-0.731707</td>\n",
       "      <td>-148.492294</td>\n",
       "      <td>17.812698</td>\n",
       "      <td>328.536987</td>\n",
       "    </tr>\n",
       "    <tr>\n",
       "      <th>...</th>\n",
       "      <td>...</td>\n",
       "      <td>...</td>\n",
       "      <td>...</td>\n",
       "      <td>...</td>\n",
       "      <td>...</td>\n",
       "      <td>...</td>\n",
       "      <td>...</td>\n",
       "      <td>...</td>\n",
       "      <td>...</td>\n",
       "    </tr>\n",
       "    <tr>\n",
       "      <th>21633</th>\n",
       "      <td>1.001465</td>\n",
       "      <td>0.077148</td>\n",
       "      <td>0.187012</td>\n",
       "      <td>0.853659</td>\n",
       "      <td>-0.304878</td>\n",
       "      <td>0.914634</td>\n",
       "      <td>-3.804095</td>\n",
       "      <td>78.679192</td>\n",
       "      <td>357.936279</td>\n",
       "    </tr>\n",
       "    <tr>\n",
       "      <th>19857</th>\n",
       "      <td>0.221191</td>\n",
       "      <td>0.799316</td>\n",
       "      <td>-0.207031</td>\n",
       "      <td>-32.317074</td>\n",
       "      <td>-103.109756</td>\n",
       "      <td>-38.292683</td>\n",
       "      <td>-107.715790</td>\n",
       "      <td>23.008615</td>\n",
       "      <td>72.689850</td>\n",
       "    </tr>\n",
       "    <tr>\n",
       "      <th>14528</th>\n",
       "      <td>-0.090332</td>\n",
       "      <td>0.079102</td>\n",
       "      <td>-0.065430</td>\n",
       "      <td>35.609756</td>\n",
       "      <td>-10.060976</td>\n",
       "      <td>11.890244</td>\n",
       "      <td>-19.649218</td>\n",
       "      <td>68.691734</td>\n",
       "      <td>348.832550</td>\n",
       "    </tr>\n",
       "    <tr>\n",
       "      <th>899</th>\n",
       "      <td>1.004395</td>\n",
       "      <td>-0.085449</td>\n",
       "      <td>0.307129</td>\n",
       "      <td>-70.060974</td>\n",
       "      <td>-2.012195</td>\n",
       "      <td>-57.073174</td>\n",
       "      <td>15.132795</td>\n",
       "      <td>42.851158</td>\n",
       "      <td>88.206261</td>\n",
       "    </tr>\n",
       "    <tr>\n",
       "      <th>45474</th>\n",
       "      <td>-0.330566</td>\n",
       "      <td>0.488770</td>\n",
       "      <td>-0.520996</td>\n",
       "      <td>-17.682928</td>\n",
       "      <td>-4.451220</td>\n",
       "      <td>-13.231708</td>\n",
       "      <td>-142.181503</td>\n",
       "      <td>-1.349109</td>\n",
       "      <td>317.936646</td>\n",
       "    </tr>\n",
       "  </tbody>\n",
       "</table>\n",
       "<p>37284 rows × 9 columns</p>\n",
       "</div>"
      ],
      "text/plain": [
       "         Acc(X)    Acc(Y)    Acc(Z)     Rot(X)      Rot(Y)     Rot(Z)  \\\n",
       "8308  -0.720703  0.235840  0.743652 -27.134148   16.097561 -12.134147   \n",
       "11906  1.043457  0.102051 -0.009766  13.658537  -16.463415  -3.841464   \n",
       "47091  0.028809  0.015137  0.025391 -18.658537   -0.914634  -7.195122   \n",
       "18432  0.941406 -0.225098 -0.270996  -0.243902    3.475610   0.000000   \n",
       "1839   0.328125  0.518555 -0.862793  13.658537  -18.170732  -0.731707   \n",
       "...         ...       ...       ...        ...         ...        ...   \n",
       "21633  1.001465  0.077148  0.187012   0.853659   -0.304878   0.914634   \n",
       "19857  0.221191  0.799316 -0.207031 -32.317074 -103.109756 -38.292683   \n",
       "14528 -0.090332  0.079102 -0.065430  35.609756  -10.060976  11.890244   \n",
       "899    1.004395 -0.085449  0.307129 -70.060974   -2.012195 -57.073174   \n",
       "45474 -0.330566  0.488770 -0.520996 -17.682928   -4.451220 -13.231708   \n",
       "\n",
       "            Pitch       Roll         Yaw  \n",
       "8308     2.906763 -29.597702  357.378632  \n",
       "11906   -5.234757  84.123871  159.863800  \n",
       "47091   -0.162081  87.287392  348.663452  \n",
       "18432  166.721191  69.375359  356.566071  \n",
       "1839  -148.492294  17.812698  328.536987  \n",
       "...           ...        ...         ...  \n",
       "21633   -3.804095  78.679192  357.936279  \n",
       "19857 -107.715790  23.008615   72.689850  \n",
       "14528  -19.649218  68.691734  348.832550  \n",
       "899     15.132795  42.851158   88.206261  \n",
       "45474 -142.181503  -1.349109  317.936646  \n",
       "\n",
       "[37284 rows x 9 columns]"
      ]
     },
     "execution_count": 134,
     "metadata": {},
     "output_type": "execute_result"
    }
   ],
   "source": [
    "# leaving out 'File'\n",
    "X_tr_num= X_train.select_dtypes(include='float64')\n",
    "X_tr_num"
   ]
  },
  {
   "cell_type": "code",
   "execution_count": 135,
   "id": "af3a43f4",
   "metadata": {},
   "outputs": [
    {
     "data": {
      "text/html": [
       "<style>#sk-container-id-7 {color: black;background-color: white;}#sk-container-id-7 pre{padding: 0;}#sk-container-id-7 div.sk-toggleable {background-color: white;}#sk-container-id-7 label.sk-toggleable__label {cursor: pointer;display: block;width: 100%;margin-bottom: 0;padding: 0.3em;box-sizing: border-box;text-align: center;}#sk-container-id-7 label.sk-toggleable__label-arrow:before {content: \"▸\";float: left;margin-right: 0.25em;color: #696969;}#sk-container-id-7 label.sk-toggleable__label-arrow:hover:before {color: black;}#sk-container-id-7 div.sk-estimator:hover label.sk-toggleable__label-arrow:before {color: black;}#sk-container-id-7 div.sk-toggleable__content {max-height: 0;max-width: 0;overflow: hidden;text-align: left;background-color: #f0f8ff;}#sk-container-id-7 div.sk-toggleable__content pre {margin: 0.2em;color: black;border-radius: 0.25em;background-color: #f0f8ff;}#sk-container-id-7 input.sk-toggleable__control:checked~div.sk-toggleable__content {max-height: 200px;max-width: 100%;overflow: auto;}#sk-container-id-7 input.sk-toggleable__control:checked~label.sk-toggleable__label-arrow:before {content: \"▾\";}#sk-container-id-7 div.sk-estimator input.sk-toggleable__control:checked~label.sk-toggleable__label {background-color: #d4ebff;}#sk-container-id-7 div.sk-label input.sk-toggleable__control:checked~label.sk-toggleable__label {background-color: #d4ebff;}#sk-container-id-7 input.sk-hidden--visually {border: 0;clip: rect(1px 1px 1px 1px);clip: rect(1px, 1px, 1px, 1px);height: 1px;margin: -1px;overflow: hidden;padding: 0;position: absolute;width: 1px;}#sk-container-id-7 div.sk-estimator {font-family: monospace;background-color: #f0f8ff;border: 1px dotted black;border-radius: 0.25em;box-sizing: border-box;margin-bottom: 0.5em;}#sk-container-id-7 div.sk-estimator:hover {background-color: #d4ebff;}#sk-container-id-7 div.sk-parallel-item::after {content: \"\";width: 100%;border-bottom: 1px solid gray;flex-grow: 1;}#sk-container-id-7 div.sk-label:hover label.sk-toggleable__label {background-color: #d4ebff;}#sk-container-id-7 div.sk-serial::before {content: \"\";position: absolute;border-left: 1px solid gray;box-sizing: border-box;top: 0;bottom: 0;left: 50%;z-index: 0;}#sk-container-id-7 div.sk-serial {display: flex;flex-direction: column;align-items: center;background-color: white;padding-right: 0.2em;padding-left: 0.2em;position: relative;}#sk-container-id-7 div.sk-item {position: relative;z-index: 1;}#sk-container-id-7 div.sk-parallel {display: flex;align-items: stretch;justify-content: center;background-color: white;position: relative;}#sk-container-id-7 div.sk-item::before, #sk-container-id-7 div.sk-parallel-item::before {content: \"\";position: absolute;border-left: 1px solid gray;box-sizing: border-box;top: 0;bottom: 0;left: 50%;z-index: -1;}#sk-container-id-7 div.sk-parallel-item {display: flex;flex-direction: column;z-index: 1;position: relative;background-color: white;}#sk-container-id-7 div.sk-parallel-item:first-child::after {align-self: flex-end;width: 50%;}#sk-container-id-7 div.sk-parallel-item:last-child::after {align-self: flex-start;width: 50%;}#sk-container-id-7 div.sk-parallel-item:only-child::after {width: 0;}#sk-container-id-7 div.sk-dashed-wrapped {border: 1px dashed gray;margin: 0 0.4em 0.5em 0.4em;box-sizing: border-box;padding-bottom: 0.4em;background-color: white;}#sk-container-id-7 div.sk-label label {font-family: monospace;font-weight: bold;display: inline-block;line-height: 1.2em;}#sk-container-id-7 div.sk-label-container {text-align: center;}#sk-container-id-7 div.sk-container {/* jupyter's `normalize.less` sets `[hidden] { display: none; }` but bootstrap.min.css set `[hidden] { display: none !important; }` so we also need the `!important` here to be able to override the default hidden behavior on the sphinx rendered scikit-learn.org. See: https://github.com/scikit-learn/scikit-learn/issues/21755 */display: inline-block !important;position: relative;}#sk-container-id-7 div.sk-text-repr-fallback {display: none;}</style><div id=\"sk-container-id-7\" class=\"sk-top-container\"><div class=\"sk-text-repr-fallback\"><pre>DummyClassifier(strategy=&#x27;most_frequent&#x27;)</pre><b>In a Jupyter environment, please rerun this cell to show the HTML representation or trust the notebook. <br />On GitHub, the HTML representation is unable to render, please try loading this page with nbviewer.org.</b></div><div class=\"sk-container\" hidden><div class=\"sk-item\"><div class=\"sk-estimator sk-toggleable\"><input class=\"sk-toggleable__control sk-hidden--visually\" id=\"sk-estimator-id-25\" type=\"checkbox\" checked><label for=\"sk-estimator-id-25\" class=\"sk-toggleable__label sk-toggleable__label-arrow\">DummyClassifier</label><div class=\"sk-toggleable__content\"><pre>DummyClassifier(strategy=&#x27;most_frequent&#x27;)</pre></div></div></div></div></div>"
      ],
      "text/plain": [
       "DummyClassifier(strategy='most_frequent')"
      ]
     },
     "execution_count": 135,
     "metadata": {},
     "output_type": "execute_result"
    }
   ],
   "source": [
    "dummy_model.fit(X_tr_num, y_train)"
   ]
  },
  {
   "cell_type": "code",
   "execution_count": 136,
   "id": "efeeae4e",
   "metadata": {},
   "outputs": [
    {
     "data": {
      "text/plain": [
       "array([0, 0, 0, ..., 0, 0, 0], dtype=int64)"
      ]
     },
     "execution_count": 136,
     "metadata": {},
     "output_type": "execute_result"
    }
   ],
   "source": [
    "dummy_model.predict(X_tr_num)\n",
    "\n",
    "# predicts all zeros (no falls)"
   ]
  },
  {
   "cell_type": "code",
   "execution_count": 137,
   "id": "5f35849b",
   "metadata": {},
   "outputs": [
    {
     "data": {
      "text/plain": [
       "0.5932035192039511"
      ]
     },
     "execution_count": 137,
     "metadata": {},
     "output_type": "execute_result"
    }
   ],
   "source": [
    "dummy_cv = cross_val_score(dummy_model, X_tr_num, y_train, cv=5)\n",
    "dummy_cv.mean()\n",
    "\n",
    "# 59.3% accurate"
   ]
  },
  {
   "cell_type": "code",
   "execution_count": 143,
   "id": "59119126",
   "metadata": {},
   "outputs": [],
   "source": [
    "dummy_score = dummy_cv.mean()"
   ]
  },
  {
   "cell_type": "markdown",
   "id": "638a3467",
   "metadata": {},
   "source": [
    "## Simple Logistic Regression"
   ]
  },
  {
   "cell_type": "code",
   "execution_count": 288,
   "id": "284bc3c2",
   "metadata": {},
   "outputs": [],
   "source": [
    "logreg1_model_pipe = Pipeline(steps=[('ct', CT),\n",
    "                            ('logreg1', LogisticRegression(random_state=24))])"
   ]
  },
  {
   "cell_type": "code",
   "execution_count": 289,
   "id": "9ca7e395",
   "metadata": {},
   "outputs": [
    {
     "data": {
      "text/html": [
       "<style>#sk-container-id-20 {color: black;background-color: white;}#sk-container-id-20 pre{padding: 0;}#sk-container-id-20 div.sk-toggleable {background-color: white;}#sk-container-id-20 label.sk-toggleable__label {cursor: pointer;display: block;width: 100%;margin-bottom: 0;padding: 0.3em;box-sizing: border-box;text-align: center;}#sk-container-id-20 label.sk-toggleable__label-arrow:before {content: \"▸\";float: left;margin-right: 0.25em;color: #696969;}#sk-container-id-20 label.sk-toggleable__label-arrow:hover:before {color: black;}#sk-container-id-20 div.sk-estimator:hover label.sk-toggleable__label-arrow:before {color: black;}#sk-container-id-20 div.sk-toggleable__content {max-height: 0;max-width: 0;overflow: hidden;text-align: left;background-color: #f0f8ff;}#sk-container-id-20 div.sk-toggleable__content pre {margin: 0.2em;color: black;border-radius: 0.25em;background-color: #f0f8ff;}#sk-container-id-20 input.sk-toggleable__control:checked~div.sk-toggleable__content {max-height: 200px;max-width: 100%;overflow: auto;}#sk-container-id-20 input.sk-toggleable__control:checked~label.sk-toggleable__label-arrow:before {content: \"▾\";}#sk-container-id-20 div.sk-estimator input.sk-toggleable__control:checked~label.sk-toggleable__label {background-color: #d4ebff;}#sk-container-id-20 div.sk-label input.sk-toggleable__control:checked~label.sk-toggleable__label {background-color: #d4ebff;}#sk-container-id-20 input.sk-hidden--visually {border: 0;clip: rect(1px 1px 1px 1px);clip: rect(1px, 1px, 1px, 1px);height: 1px;margin: -1px;overflow: hidden;padding: 0;position: absolute;width: 1px;}#sk-container-id-20 div.sk-estimator {font-family: monospace;background-color: #f0f8ff;border: 1px dotted black;border-radius: 0.25em;box-sizing: border-box;margin-bottom: 0.5em;}#sk-container-id-20 div.sk-estimator:hover {background-color: #d4ebff;}#sk-container-id-20 div.sk-parallel-item::after {content: \"\";width: 100%;border-bottom: 1px solid gray;flex-grow: 1;}#sk-container-id-20 div.sk-label:hover label.sk-toggleable__label {background-color: #d4ebff;}#sk-container-id-20 div.sk-serial::before {content: \"\";position: absolute;border-left: 1px solid gray;box-sizing: border-box;top: 0;bottom: 0;left: 50%;z-index: 0;}#sk-container-id-20 div.sk-serial {display: flex;flex-direction: column;align-items: center;background-color: white;padding-right: 0.2em;padding-left: 0.2em;position: relative;}#sk-container-id-20 div.sk-item {position: relative;z-index: 1;}#sk-container-id-20 div.sk-parallel {display: flex;align-items: stretch;justify-content: center;background-color: white;position: relative;}#sk-container-id-20 div.sk-item::before, #sk-container-id-20 div.sk-parallel-item::before {content: \"\";position: absolute;border-left: 1px solid gray;box-sizing: border-box;top: 0;bottom: 0;left: 50%;z-index: -1;}#sk-container-id-20 div.sk-parallel-item {display: flex;flex-direction: column;z-index: 1;position: relative;background-color: white;}#sk-container-id-20 div.sk-parallel-item:first-child::after {align-self: flex-end;width: 50%;}#sk-container-id-20 div.sk-parallel-item:last-child::after {align-self: flex-start;width: 50%;}#sk-container-id-20 div.sk-parallel-item:only-child::after {width: 0;}#sk-container-id-20 div.sk-dashed-wrapped {border: 1px dashed gray;margin: 0 0.4em 0.5em 0.4em;box-sizing: border-box;padding-bottom: 0.4em;background-color: white;}#sk-container-id-20 div.sk-label label {font-family: monospace;font-weight: bold;display: inline-block;line-height: 1.2em;}#sk-container-id-20 div.sk-label-container {text-align: center;}#sk-container-id-20 div.sk-container {/* jupyter's `normalize.less` sets `[hidden] { display: none; }` but bootstrap.min.css set `[hidden] { display: none !important; }` so we also need the `!important` here to be able to override the default hidden behavior on the sphinx rendered scikit-learn.org. See: https://github.com/scikit-learn/scikit-learn/issues/21755 */display: inline-block !important;position: relative;}#sk-container-id-20 div.sk-text-repr-fallback {display: none;}</style><div id=\"sk-container-id-20\" class=\"sk-top-container\"><div class=\"sk-text-repr-fallback\"><pre>Pipeline(steps=[(&#x27;ct&#x27;,\n",
       "                 ColumnTransformer(remainder=&#x27;passthrough&#x27;,\n",
       "                                   transformers=[(&#x27;subpipe_num&#x27;,\n",
       "                                                  Pipeline(steps=[(&#x27;ss&#x27;,\n",
       "                                                                   StandardScaler())]),\n",
       "                                                  [&#x27;Acc(X)&#x27;, &#x27;Acc(Y)&#x27;, &#x27;Acc(Z)&#x27;,\n",
       "                                                   &#x27;Rot(X)&#x27;, &#x27;Rot(Y)&#x27;, &#x27;Rot(Z)&#x27;,\n",
       "                                                   &#x27;Pitch&#x27;, &#x27;Roll&#x27;, &#x27;Yaw&#x27;]),\n",
       "                                                 (&#x27;subpipe_cat&#x27;,\n",
       "                                                  Pipeline(steps=[(&#x27;ohe&#x27;,\n",
       "                                                                   OneHotEncoder(handle_unknown=&#x27;ignore&#x27;))]),\n",
       "                                                  [&#x27;File&#x27;])])),\n",
       "                (&#x27;logreg1&#x27;, LogisticRegression(random_state=24))])</pre><b>In a Jupyter environment, please rerun this cell to show the HTML representation or trust the notebook. <br />On GitHub, the HTML representation is unable to render, please try loading this page with nbviewer.org.</b></div><div class=\"sk-container\" hidden><div class=\"sk-item sk-dashed-wrapped\"><div class=\"sk-label-container\"><div class=\"sk-label sk-toggleable\"><input class=\"sk-toggleable__control sk-hidden--visually\" id=\"sk-estimator-id-104\" type=\"checkbox\" ><label for=\"sk-estimator-id-104\" class=\"sk-toggleable__label sk-toggleable__label-arrow\">Pipeline</label><div class=\"sk-toggleable__content\"><pre>Pipeline(steps=[(&#x27;ct&#x27;,\n",
       "                 ColumnTransformer(remainder=&#x27;passthrough&#x27;,\n",
       "                                   transformers=[(&#x27;subpipe_num&#x27;,\n",
       "                                                  Pipeline(steps=[(&#x27;ss&#x27;,\n",
       "                                                                   StandardScaler())]),\n",
       "                                                  [&#x27;Acc(X)&#x27;, &#x27;Acc(Y)&#x27;, &#x27;Acc(Z)&#x27;,\n",
       "                                                   &#x27;Rot(X)&#x27;, &#x27;Rot(Y)&#x27;, &#x27;Rot(Z)&#x27;,\n",
       "                                                   &#x27;Pitch&#x27;, &#x27;Roll&#x27;, &#x27;Yaw&#x27;]),\n",
       "                                                 (&#x27;subpipe_cat&#x27;,\n",
       "                                                  Pipeline(steps=[(&#x27;ohe&#x27;,\n",
       "                                                                   OneHotEncoder(handle_unknown=&#x27;ignore&#x27;))]),\n",
       "                                                  [&#x27;File&#x27;])])),\n",
       "                (&#x27;logreg1&#x27;, LogisticRegression(random_state=24))])</pre></div></div></div><div class=\"sk-serial\"><div class=\"sk-item sk-dashed-wrapped\"><div class=\"sk-label-container\"><div class=\"sk-label sk-toggleable\"><input class=\"sk-toggleable__control sk-hidden--visually\" id=\"sk-estimator-id-105\" type=\"checkbox\" ><label for=\"sk-estimator-id-105\" class=\"sk-toggleable__label sk-toggleable__label-arrow\">ct: ColumnTransformer</label><div class=\"sk-toggleable__content\"><pre>ColumnTransformer(remainder=&#x27;passthrough&#x27;,\n",
       "                  transformers=[(&#x27;subpipe_num&#x27;,\n",
       "                                 Pipeline(steps=[(&#x27;ss&#x27;, StandardScaler())]),\n",
       "                                 [&#x27;Acc(X)&#x27;, &#x27;Acc(Y)&#x27;, &#x27;Acc(Z)&#x27;, &#x27;Rot(X)&#x27;,\n",
       "                                  &#x27;Rot(Y)&#x27;, &#x27;Rot(Z)&#x27;, &#x27;Pitch&#x27;, &#x27;Roll&#x27;, &#x27;Yaw&#x27;]),\n",
       "                                (&#x27;subpipe_cat&#x27;,\n",
       "                                 Pipeline(steps=[(&#x27;ohe&#x27;,\n",
       "                                                  OneHotEncoder(handle_unknown=&#x27;ignore&#x27;))]),\n",
       "                                 [&#x27;File&#x27;])])</pre></div></div></div><div class=\"sk-parallel\"><div class=\"sk-parallel-item\"><div class=\"sk-item\"><div class=\"sk-label-container\"><div class=\"sk-label sk-toggleable\"><input class=\"sk-toggleable__control sk-hidden--visually\" id=\"sk-estimator-id-106\" type=\"checkbox\" ><label for=\"sk-estimator-id-106\" class=\"sk-toggleable__label sk-toggleable__label-arrow\">subpipe_num</label><div class=\"sk-toggleable__content\"><pre>[&#x27;Acc(X)&#x27;, &#x27;Acc(Y)&#x27;, &#x27;Acc(Z)&#x27;, &#x27;Rot(X)&#x27;, &#x27;Rot(Y)&#x27;, &#x27;Rot(Z)&#x27;, &#x27;Pitch&#x27;, &#x27;Roll&#x27;, &#x27;Yaw&#x27;]</pre></div></div></div><div class=\"sk-serial\"><div class=\"sk-item\"><div class=\"sk-serial\"><div class=\"sk-item\"><div class=\"sk-estimator sk-toggleable\"><input class=\"sk-toggleable__control sk-hidden--visually\" id=\"sk-estimator-id-107\" type=\"checkbox\" ><label for=\"sk-estimator-id-107\" class=\"sk-toggleable__label sk-toggleable__label-arrow\">StandardScaler</label><div class=\"sk-toggleable__content\"><pre>StandardScaler()</pre></div></div></div></div></div></div></div></div><div class=\"sk-parallel-item\"><div class=\"sk-item\"><div class=\"sk-label-container\"><div class=\"sk-label sk-toggleable\"><input class=\"sk-toggleable__control sk-hidden--visually\" id=\"sk-estimator-id-108\" type=\"checkbox\" ><label for=\"sk-estimator-id-108\" class=\"sk-toggleable__label sk-toggleable__label-arrow\">subpipe_cat</label><div class=\"sk-toggleable__content\"><pre>[&#x27;File&#x27;]</pre></div></div></div><div class=\"sk-serial\"><div class=\"sk-item\"><div class=\"sk-serial\"><div class=\"sk-item\"><div class=\"sk-estimator sk-toggleable\"><input class=\"sk-toggleable__control sk-hidden--visually\" id=\"sk-estimator-id-109\" type=\"checkbox\" ><label for=\"sk-estimator-id-109\" class=\"sk-toggleable__label sk-toggleable__label-arrow\">OneHotEncoder</label><div class=\"sk-toggleable__content\"><pre>OneHotEncoder(handle_unknown=&#x27;ignore&#x27;)</pre></div></div></div></div></div></div></div></div><div class=\"sk-parallel-item\"><div class=\"sk-item\"><div class=\"sk-label-container\"><div class=\"sk-label sk-toggleable\"><input class=\"sk-toggleable__control sk-hidden--visually\" id=\"sk-estimator-id-110\" type=\"checkbox\" ><label for=\"sk-estimator-id-110\" class=\"sk-toggleable__label sk-toggleable__label-arrow\">remainder</label><div class=\"sk-toggleable__content\"><pre>[]</pre></div></div></div><div class=\"sk-serial\"><div class=\"sk-item\"><div class=\"sk-estimator sk-toggleable\"><input class=\"sk-toggleable__control sk-hidden--visually\" id=\"sk-estimator-id-111\" type=\"checkbox\" ><label for=\"sk-estimator-id-111\" class=\"sk-toggleable__label sk-toggleable__label-arrow\">passthrough</label><div class=\"sk-toggleable__content\"><pre>passthrough</pre></div></div></div></div></div></div></div></div><div class=\"sk-item\"><div class=\"sk-estimator sk-toggleable\"><input class=\"sk-toggleable__control sk-hidden--visually\" id=\"sk-estimator-id-112\" type=\"checkbox\" ><label for=\"sk-estimator-id-112\" class=\"sk-toggleable__label sk-toggleable__label-arrow\">LogisticRegression</label><div class=\"sk-toggleable__content\"><pre>LogisticRegression(random_state=24)</pre></div></div></div></div></div></div></div>"
      ],
      "text/plain": [
       "Pipeline(steps=[('ct',\n",
       "                 ColumnTransformer(remainder='passthrough',\n",
       "                                   transformers=[('subpipe_num',\n",
       "                                                  Pipeline(steps=[('ss',\n",
       "                                                                   StandardScaler())]),\n",
       "                                                  ['Acc(X)', 'Acc(Y)', 'Acc(Z)',\n",
       "                                                   'Rot(X)', 'Rot(Y)', 'Rot(Z)',\n",
       "                                                   'Pitch', 'Roll', 'Yaw']),\n",
       "                                                 ('subpipe_cat',\n",
       "                                                  Pipeline(steps=[('ohe',\n",
       "                                                                   OneHotEncoder(handle_unknown='ignore'))]),\n",
       "                                                  ['File'])])),\n",
       "                ('logreg1', LogisticRegression(random_state=24))])"
      ]
     },
     "execution_count": 289,
     "metadata": {},
     "output_type": "execute_result"
    }
   ],
   "source": [
    "logreg1_model_pipe.fit(X_train, y_train)"
   ]
  },
  {
   "cell_type": "code",
   "execution_count": 290,
   "id": "18bde4fc",
   "metadata": {},
   "outputs": [
    {
     "data": {
      "text/plain": [
       "0.9208775882416049"
      ]
     },
     "execution_count": 290,
     "metadata": {},
     "output_type": "execute_result"
    }
   ],
   "source": [
    "logreg1_model_pipe.score(X_train, y_train)"
   ]
  },
  {
   "cell_type": "code",
   "execution_count": 291,
   "id": "4e360372",
   "metadata": {},
   "outputs": [
    {
     "data": {
      "text/plain": [
       "0.9203143624304382"
      ]
     },
     "execution_count": 291,
     "metadata": {},
     "output_type": "execute_result"
    }
   ],
   "source": [
    "logreg1_model_pipe_cv = cross_val_score(logreg1_model_pipe, X_train, y_train, cv=5)\n",
    "logreg1_model_pipe_cv.mean()\n",
    "\n",
    "# already a HUGE jump in accuracy with a simple logistic regression"
   ]
  },
  {
   "cell_type": "code",
   "execution_count": 292,
   "id": "d2b9c796",
   "metadata": {},
   "outputs": [],
   "source": [
    "logreg1_score = logreg1_model_pipe_cv.mean()"
   ]
  },
  {
   "cell_type": "code",
   "execution_count": 293,
   "id": "1995e965",
   "metadata": {},
   "outputs": [
    {
     "data": {
      "text/plain": [
       "{'ct': ColumnTransformer(remainder='passthrough',\n",
       "                   transformers=[('subpipe_num',\n",
       "                                  Pipeline(steps=[('ss', StandardScaler())]),\n",
       "                                  ['Acc(X)', 'Acc(Y)', 'Acc(Z)', 'Rot(X)',\n",
       "                                   'Rot(Y)', 'Rot(Z)', 'Pitch', 'Roll', 'Yaw']),\n",
       "                                 ('subpipe_cat',\n",
       "                                  Pipeline(steps=[('ohe',\n",
       "                                                   OneHotEncoder(handle_unknown='ignore'))]),\n",
       "                                  ['File'])]),\n",
       " 'logreg1': LogisticRegression(random_state=24)}"
      ]
     },
     "execution_count": 293,
     "metadata": {},
     "output_type": "execute_result"
    }
   ],
   "source": [
    "logreg1_model_pipe.named_steps"
   ]
  },
  {
   "cell_type": "code",
   "execution_count": 294,
   "id": "ba182be0",
   "metadata": {},
   "outputs": [
    {
     "data": {
      "text/plain": [
       "array([1, 0, 0, ..., 0, 0, 1], dtype=int64)"
      ]
     },
     "execution_count": 294,
     "metadata": {},
     "output_type": "execute_result"
    }
   ],
   "source": [
    "y_log1_pred = logreg1_model_pipe.predict(X_train)\n",
    "y_log1_pred"
   ]
  },
  {
   "cell_type": "code",
   "execution_count": 295,
   "id": "ef9c2ce7",
   "metadata": {},
   "outputs": [
    {
     "data": {
      "image/png": "[encoded data removed]",
      "text/plain": [
       "<Figure size 640x480 with 2 Axes>"
      ]
     },
     "metadata": {},
     "output_type": "display_data"
    }
   ],
   "source": [
    "skplt.metrics.plot_confusion_matrix\n",
    "skplt.metrics.plot_confusion_matrix(y_train, y_log1_pred, normalize=True)\n",
    "plt.show()"
   ]
  },
  {
   "cell_type": "code",
   "execution_count": 177,
   "id": "65de48b2",
   "metadata": {},
   "outputs": [
    {
     "data": {
      "text/plain": [
       "0.8908815190874926"
      ]
     },
     "execution_count": 177,
     "metadata": {},
     "output_type": "execute_result"
    }
   ],
   "source": [
    "logreg1_recall = recall_score(y_train, y_log1_pred)\n",
    "logreg1_recall"
   ]
  },
  {
   "cell_type": "code",
   "execution_count": 246,
   "id": "7105f650",
   "metadata": {},
   "outputs": [
    {
     "data": {
      "image/png": "[encoded data removed]",
      "text/plain": [
       "<Figure size 640x480 with 1 Axes>"
      ]
     },
     "metadata": {},
     "output_type": "display_data"
    }
   ],
   "source": [
    "fpr, tpr, thresholds = metrics.roc_curve(y_train, y_log1_pred)\n",
    "roc_auc = metrics.auc(fpr, tpr)\n",
    "display = metrics.RocCurveDisplay(fpr=fpr, tpr=tpr, roc_auc=roc_auc,\n",
    "                                 estimator_name='Log Reg 1')\n",
    "display.plot()\n",
    "plt.show()"
   ]
  },
  {
   "cell_type": "markdown",
   "id": "c733223a",
   "metadata": {},
   "source": [
    "## Tuned Logistic Regression"
   ]
  },
  {
   "cell_type": "code",
   "execution_count": 296,
   "id": "a9026d93",
   "metadata": {},
   "outputs": [],
   "source": [
    "logreg2_model_pipe = Pipeline(steps=[('ct', CT),\n",
    "                            ('logreg2', LogisticRegression(max_iter=1000, C=0.01, random_state=24))])"
   ]
  },
  {
   "cell_type": "code",
   "execution_count": 297,
   "id": "8c11162d",
   "metadata": {},
   "outputs": [
    {
     "data": {
      "text/html": [
       "<style>#sk-container-id-21 {color: black;background-color: white;}#sk-container-id-21 pre{padding: 0;}#sk-container-id-21 div.sk-toggleable {background-color: white;}#sk-container-id-21 label.sk-toggleable__label {cursor: pointer;display: block;width: 100%;margin-bottom: 0;padding: 0.3em;box-sizing: border-box;text-align: center;}#sk-container-id-21 label.sk-toggleable__label-arrow:before {content: \"▸\";float: left;margin-right: 0.25em;color: #696969;}#sk-container-id-21 label.sk-toggleable__label-arrow:hover:before {color: black;}#sk-container-id-21 div.sk-estimator:hover label.sk-toggleable__label-arrow:before {color: black;}#sk-container-id-21 div.sk-toggleable__content {max-height: 0;max-width: 0;overflow: hidden;text-align: left;background-color: #f0f8ff;}#sk-container-id-21 div.sk-toggleable__content pre {margin: 0.2em;color: black;border-radius: 0.25em;background-color: #f0f8ff;}#sk-container-id-21 input.sk-toggleable__control:checked~div.sk-toggleable__content {max-height: 200px;max-width: 100%;overflow: auto;}#sk-container-id-21 input.sk-toggleable__control:checked~label.sk-toggleable__label-arrow:before {content: \"▾\";}#sk-container-id-21 div.sk-estimator input.sk-toggleable__control:checked~label.sk-toggleable__label {background-color: #d4ebff;}#sk-container-id-21 div.sk-label input.sk-toggleable__control:checked~label.sk-toggleable__label {background-color: #d4ebff;}#sk-container-id-21 input.sk-hidden--visually {border: 0;clip: rect(1px 1px 1px 1px);clip: rect(1px, 1px, 1px, 1px);height: 1px;margin: -1px;overflow: hidden;padding: 0;position: absolute;width: 1px;}#sk-container-id-21 div.sk-estimator {font-family: monospace;background-color: #f0f8ff;border: 1px dotted black;border-radius: 0.25em;box-sizing: border-box;margin-bottom: 0.5em;}#sk-container-id-21 div.sk-estimator:hover {background-color: #d4ebff;}#sk-container-id-21 div.sk-parallel-item::after {content: \"\";width: 100%;border-bottom: 1px solid gray;flex-grow: 1;}#sk-container-id-21 div.sk-label:hover label.sk-toggleable__label {background-color: #d4ebff;}#sk-container-id-21 div.sk-serial::before {content: \"\";position: absolute;border-left: 1px solid gray;box-sizing: border-box;top: 0;bottom: 0;left: 50%;z-index: 0;}#sk-container-id-21 div.sk-serial {display: flex;flex-direction: column;align-items: center;background-color: white;padding-right: 0.2em;padding-left: 0.2em;position: relative;}#sk-container-id-21 div.sk-item {position: relative;z-index: 1;}#sk-container-id-21 div.sk-parallel {display: flex;align-items: stretch;justify-content: center;background-color: white;position: relative;}#sk-container-id-21 div.sk-item::before, #sk-container-id-21 div.sk-parallel-item::before {content: \"\";position: absolute;border-left: 1px solid gray;box-sizing: border-box;top: 0;bottom: 0;left: 50%;z-index: -1;}#sk-container-id-21 div.sk-parallel-item {display: flex;flex-direction: column;z-index: 1;position: relative;background-color: white;}#sk-container-id-21 div.sk-parallel-item:first-child::after {align-self: flex-end;width: 50%;}#sk-container-id-21 div.sk-parallel-item:last-child::after {align-self: flex-start;width: 50%;}#sk-container-id-21 div.sk-parallel-item:only-child::after {width: 0;}#sk-container-id-21 div.sk-dashed-wrapped {border: 1px dashed gray;margin: 0 0.4em 0.5em 0.4em;box-sizing: border-box;padding-bottom: 0.4em;background-color: white;}#sk-container-id-21 div.sk-label label {font-family: monospace;font-weight: bold;display: inline-block;line-height: 1.2em;}#sk-container-id-21 div.sk-label-container {text-align: center;}#sk-container-id-21 div.sk-container {/* jupyter's `normalize.less` sets `[hidden] { display: none; }` but bootstrap.min.css set `[hidden] { display: none !important; }` so we also need the `!important` here to be able to override the default hidden behavior on the sphinx rendered scikit-learn.org. See: https://github.com/scikit-learn/scikit-learn/issues/21755 */display: inline-block !important;position: relative;}#sk-container-id-21 div.sk-text-repr-fallback {display: none;}</style><div id=\"sk-container-id-21\" class=\"sk-top-container\"><div class=\"sk-text-repr-fallback\"><pre>Pipeline(steps=[(&#x27;ct&#x27;,\n",
       "                 ColumnTransformer(remainder=&#x27;passthrough&#x27;,\n",
       "                                   transformers=[(&#x27;subpipe_num&#x27;,\n",
       "                                                  Pipeline(steps=[(&#x27;ss&#x27;,\n",
       "                                                                   StandardScaler())]),\n",
       "                                                  [&#x27;Acc(X)&#x27;, &#x27;Acc(Y)&#x27;, &#x27;Acc(Z)&#x27;,\n",
       "                                                   &#x27;Rot(X)&#x27;, &#x27;Rot(Y)&#x27;, &#x27;Rot(Z)&#x27;,\n",
       "                                                   &#x27;Pitch&#x27;, &#x27;Roll&#x27;, &#x27;Yaw&#x27;]),\n",
       "                                                 (&#x27;subpipe_cat&#x27;,\n",
       "                                                  Pipeline(steps=[(&#x27;ohe&#x27;,\n",
       "                                                                   OneHotEncoder(handle_unknown=&#x27;ignore&#x27;))]),\n",
       "                                                  [&#x27;File&#x27;])])),\n",
       "                (&#x27;logreg2&#x27;,\n",
       "                 LogisticRegression(C=0.01, max_iter=1000, random_state=24))])</pre><b>In a Jupyter environment, please rerun this cell to show the HTML representation or trust the notebook. <br />On GitHub, the HTML representation is unable to render, please try loading this page with nbviewer.org.</b></div><div class=\"sk-container\" hidden><div class=\"sk-item sk-dashed-wrapped\"><div class=\"sk-label-container\"><div class=\"sk-label sk-toggleable\"><input class=\"sk-toggleable__control sk-hidden--visually\" id=\"sk-estimator-id-113\" type=\"checkbox\" ><label for=\"sk-estimator-id-113\" class=\"sk-toggleable__label sk-toggleable__label-arrow\">Pipeline</label><div class=\"sk-toggleable__content\"><pre>Pipeline(steps=[(&#x27;ct&#x27;,\n",
       "                 ColumnTransformer(remainder=&#x27;passthrough&#x27;,\n",
       "                                   transformers=[(&#x27;subpipe_num&#x27;,\n",
       "                                                  Pipeline(steps=[(&#x27;ss&#x27;,\n",
       "                                                                   StandardScaler())]),\n",
       "                                                  [&#x27;Acc(X)&#x27;, &#x27;Acc(Y)&#x27;, &#x27;Acc(Z)&#x27;,\n",
       "                                                   &#x27;Rot(X)&#x27;, &#x27;Rot(Y)&#x27;, &#x27;Rot(Z)&#x27;,\n",
       "                                                   &#x27;Pitch&#x27;, &#x27;Roll&#x27;, &#x27;Yaw&#x27;]),\n",
       "                                                 (&#x27;subpipe_cat&#x27;,\n",
       "                                                  Pipeline(steps=[(&#x27;ohe&#x27;,\n",
       "                                                                   OneHotEncoder(handle_unknown=&#x27;ignore&#x27;))]),\n",
       "                                                  [&#x27;File&#x27;])])),\n",
       "                (&#x27;logreg2&#x27;,\n",
       "                 LogisticRegression(C=0.01, max_iter=1000, random_state=24))])</pre></div></div></div><div class=\"sk-serial\"><div class=\"sk-item sk-dashed-wrapped\"><div class=\"sk-label-container\"><div class=\"sk-label sk-toggleable\"><input class=\"sk-toggleable__control sk-hidden--visually\" id=\"sk-estimator-id-114\" type=\"checkbox\" ><label for=\"sk-estimator-id-114\" class=\"sk-toggleable__label sk-toggleable__label-arrow\">ct: ColumnTransformer</label><div class=\"sk-toggleable__content\"><pre>ColumnTransformer(remainder=&#x27;passthrough&#x27;,\n",
       "                  transformers=[(&#x27;subpipe_num&#x27;,\n",
       "                                 Pipeline(steps=[(&#x27;ss&#x27;, StandardScaler())]),\n",
       "                                 [&#x27;Acc(X)&#x27;, &#x27;Acc(Y)&#x27;, &#x27;Acc(Z)&#x27;, &#x27;Rot(X)&#x27;,\n",
       "                                  &#x27;Rot(Y)&#x27;, &#x27;Rot(Z)&#x27;, &#x27;Pitch&#x27;, &#x27;Roll&#x27;, &#x27;Yaw&#x27;]),\n",
       "                                (&#x27;subpipe_cat&#x27;,\n",
       "                                 Pipeline(steps=[(&#x27;ohe&#x27;,\n",
       "                                                  OneHotEncoder(handle_unknown=&#x27;ignore&#x27;))]),\n",
       "                                 [&#x27;File&#x27;])])</pre></div></div></div><div class=\"sk-parallel\"><div class=\"sk-parallel-item\"><div class=\"sk-item\"><div class=\"sk-label-container\"><div class=\"sk-label sk-toggleable\"><input class=\"sk-toggleable__control sk-hidden--visually\" id=\"sk-estimator-id-115\" type=\"checkbox\" ><label for=\"sk-estimator-id-115\" class=\"sk-toggleable__label sk-toggleable__label-arrow\">subpipe_num</label><div class=\"sk-toggleable__content\"><pre>[&#x27;Acc(X)&#x27;, &#x27;Acc(Y)&#x27;, &#x27;Acc(Z)&#x27;, &#x27;Rot(X)&#x27;, &#x27;Rot(Y)&#x27;, &#x27;Rot(Z)&#x27;, &#x27;Pitch&#x27;, &#x27;Roll&#x27;, &#x27;Yaw&#x27;]</pre></div></div></div><div class=\"sk-serial\"><div class=\"sk-item\"><div class=\"sk-serial\"><div class=\"sk-item\"><div class=\"sk-estimator sk-toggleable\"><input class=\"sk-toggleable__control sk-hidden--visually\" id=\"sk-estimator-id-116\" type=\"checkbox\" ><label for=\"sk-estimator-id-116\" class=\"sk-toggleable__label sk-toggleable__label-arrow\">StandardScaler</label><div class=\"sk-toggleable__content\"><pre>StandardScaler()</pre></div></div></div></div></div></div></div></div><div class=\"sk-parallel-item\"><div class=\"sk-item\"><div class=\"sk-label-container\"><div class=\"sk-label sk-toggleable\"><input class=\"sk-toggleable__control sk-hidden--visually\" id=\"sk-estimator-id-117\" type=\"checkbox\" ><label for=\"sk-estimator-id-117\" class=\"sk-toggleable__label sk-toggleable__label-arrow\">subpipe_cat</label><div class=\"sk-toggleable__content\"><pre>[&#x27;File&#x27;]</pre></div></div></div><div class=\"sk-serial\"><div class=\"sk-item\"><div class=\"sk-serial\"><div class=\"sk-item\"><div class=\"sk-estimator sk-toggleable\"><input class=\"sk-toggleable__control sk-hidden--visually\" id=\"sk-estimator-id-118\" type=\"checkbox\" ><label for=\"sk-estimator-id-118\" class=\"sk-toggleable__label sk-toggleable__label-arrow\">OneHotEncoder</label><div class=\"sk-toggleable__content\"><pre>OneHotEncoder(handle_unknown=&#x27;ignore&#x27;)</pre></div></div></div></div></div></div></div></div><div class=\"sk-parallel-item\"><div class=\"sk-item\"><div class=\"sk-label-container\"><div class=\"sk-label sk-toggleable\"><input class=\"sk-toggleable__control sk-hidden--visually\" id=\"sk-estimator-id-119\" type=\"checkbox\" ><label for=\"sk-estimator-id-119\" class=\"sk-toggleable__label sk-toggleable__label-arrow\">remainder</label><div class=\"sk-toggleable__content\"><pre>[]</pre></div></div></div><div class=\"sk-serial\"><div class=\"sk-item\"><div class=\"sk-estimator sk-toggleable\"><input class=\"sk-toggleable__control sk-hidden--visually\" id=\"sk-estimator-id-120\" type=\"checkbox\" ><label for=\"sk-estimator-id-120\" class=\"sk-toggleable__label sk-toggleable__label-arrow\">passthrough</label><div class=\"sk-toggleable__content\"><pre>passthrough</pre></div></div></div></div></div></div></div></div><div class=\"sk-item\"><div class=\"sk-estimator sk-toggleable\"><input class=\"sk-toggleable__control sk-hidden--visually\" id=\"sk-estimator-id-121\" type=\"checkbox\" ><label for=\"sk-estimator-id-121\" class=\"sk-toggleable__label sk-toggleable__label-arrow\">LogisticRegression</label><div class=\"sk-toggleable__content\"><pre>LogisticRegression(C=0.01, max_iter=1000, random_state=24)</pre></div></div></div></div></div></div></div>"
      ],
      "text/plain": [
       "Pipeline(steps=[('ct',\n",
       "                 ColumnTransformer(remainder='passthrough',\n",
       "                                   transformers=[('subpipe_num',\n",
       "                                                  Pipeline(steps=[('ss',\n",
       "                                                                   StandardScaler())]),\n",
       "                                                  ['Acc(X)', 'Acc(Y)', 'Acc(Z)',\n",
       "                                                   'Rot(X)', 'Rot(Y)', 'Rot(Z)',\n",
       "                                                   'Pitch', 'Roll', 'Yaw']),\n",
       "                                                 ('subpipe_cat',\n",
       "                                                  Pipeline(steps=[('ohe',\n",
       "                                                                   OneHotEncoder(handle_unknown='ignore'))]),\n",
       "                                                  ['File'])])),\n",
       "                ('logreg2',\n",
       "                 LogisticRegression(C=0.01, max_iter=1000, random_state=24))])"
      ]
     },
     "execution_count": 297,
     "metadata": {},
     "output_type": "execute_result"
    }
   ],
   "source": [
    "logreg2_model_pipe.fit(X_train, y_train)"
   ]
  },
  {
   "cell_type": "code",
   "execution_count": 298,
   "id": "0085f721",
   "metadata": {},
   "outputs": [
    {
     "data": {
      "text/plain": [
       "0.922567321102886"
      ]
     },
     "execution_count": 298,
     "metadata": {},
     "output_type": "execute_result"
    }
   ],
   "source": [
    "logreg2_model_pipe.score(X_train, y_train)"
   ]
  },
  {
   "cell_type": "code",
   "execution_count": 299,
   "id": "fd122f20",
   "metadata": {},
   "outputs": [
    {
     "data": {
      "text/plain": [
       "0.9222991359329973"
      ]
     },
     "execution_count": 299,
     "metadata": {},
     "output_type": "execute_result"
    }
   ],
   "source": [
    "logreg2_model_pipe_cv = cross_val_score(logreg_model_pipe_2, X_train, y_train, cv=5)\n",
    "logreg2_model_pipe_cv.mean()\n",
    "\n",
    "# a little better still"
   ]
  },
  {
   "cell_type": "code",
   "execution_count": 300,
   "id": "c66ed5c5",
   "metadata": {},
   "outputs": [],
   "source": [
    "logreg2_score = logreg2_model_pipe_cv.mean()"
   ]
  },
  {
   "cell_type": "code",
   "execution_count": 301,
   "id": "4aaca1db",
   "metadata": {},
   "outputs": [
    {
     "data": {
      "text/plain": [
       "{'ct': ColumnTransformer(remainder='passthrough',\n",
       "                   transformers=[('subpipe_num',\n",
       "                                  Pipeline(steps=[('ss', StandardScaler())]),\n",
       "                                  ['Acc(X)', 'Acc(Y)', 'Acc(Z)', 'Rot(X)',\n",
       "                                   'Rot(Y)', 'Rot(Z)', 'Pitch', 'Roll', 'Yaw']),\n",
       "                                 ('subpipe_cat',\n",
       "                                  Pipeline(steps=[('ohe',\n",
       "                                                   OneHotEncoder(handle_unknown='ignore'))]),\n",
       "                                  ['File'])]),\n",
       " 'logreg2': LogisticRegression(C=0.01, max_iter=1000, random_state=24)}"
      ]
     },
     "execution_count": 301,
     "metadata": {},
     "output_type": "execute_result"
    }
   ],
   "source": [
    "logreg2_model_pipe.named_steps"
   ]
  },
  {
   "cell_type": "code",
   "execution_count": 302,
   "id": "ed08542a",
   "metadata": {},
   "outputs": [
    {
     "data": {
      "text/plain": [
       "array([1, 0, 0, ..., 0, 0, 1], dtype=int64)"
      ]
     },
     "execution_count": 302,
     "metadata": {},
     "output_type": "execute_result"
    }
   ],
   "source": [
    "y_log2_pred = logreg2_model_pipe.predict(X_train)\n",
    "y_log2_pred"
   ]
  },
  {
   "cell_type": "code",
   "execution_count": 303,
   "id": "e34c9778",
   "metadata": {
    "scrolled": true
   },
   "outputs": [
    {
     "data": {
      "image/png": "[encoded data removed]",
      "text/plain": [
       "<Figure size 640x480 with 2 Axes>"
      ]
     },
     "metadata": {},
     "output_type": "display_data"
    }
   ],
   "source": [
    "skplt.metrics.plot_confusion_matrix\n",
    "skplt.metrics.plot_confusion_matrix(y_train, y_log2_pred, normalize=True)\n",
    "plt.show()"
   ]
  },
  {
   "cell_type": "code",
   "execution_count": 262,
   "id": "f74a4cc6",
   "metadata": {},
   "outputs": [
    {
     "data": {
      "text/plain": [
       "0.8900903276851059"
      ]
     },
     "execution_count": 262,
     "metadata": {},
     "output_type": "execute_result"
    }
   ],
   "source": [
    "logreg2_recall = recall_score(y_train, y_log2_pred)\n",
    "logreg2_recall\n",
    "\n",
    "# decreased slightly"
   ]
  },
  {
   "cell_type": "code",
   "execution_count": 263,
   "id": "34e7edab",
   "metadata": {},
   "outputs": [
    {
     "data": {
      "image/png": "[encoded data removed]",
      "text/plain": [
       "<Figure size 640x480 with 1 Axes>"
      ]
     },
     "metadata": {},
     "output_type": "display_data"
    }
   ],
   "source": [
    "fpr, tpr, thresholds = metrics.roc_curve(y_train, y_log2_pred)\n",
    "roc_auc = metrics.auc(fpr, tpr)\n",
    "display = metrics.RocCurveDisplay(fpr=fpr, tpr=tpr, roc_auc=roc_auc,\n",
    "                                 estimator_name='Log Reg 2')\n",
    "display.plot()\n",
    "plt.show()\n",
    "\n",
    "# pretty much the same"
   ]
  },
  {
   "cell_type": "code",
   "execution_count": null,
   "id": "f081187d",
   "metadata": {},
   "outputs": [],
   "source": []
  },
  {
   "cell_type": "markdown",
   "id": "6f2e95f9",
   "metadata": {},
   "source": [
    "## k nearest neighbors"
   ]
  },
  {
   "cell_type": "markdown",
   "id": "64d84789",
   "metadata": {},
   "source": [
    "Default hyperparameters"
   ]
  },
  {
   "cell_type": "code",
   "execution_count": 274,
   "id": "17da8081",
   "metadata": {},
   "outputs": [],
   "source": [
    "knn1_pipe = Pipeline(steps=[('ct', CT),\n",
    "                            ('knn', KNeighborsClassifier())])"
   ]
  },
  {
   "cell_type": "code",
   "execution_count": 275,
   "id": "779e7f83",
   "metadata": {},
   "outputs": [
    {
     "data": {
      "text/html": [
       "<style>#sk-container-id-18 {color: black;background-color: white;}#sk-container-id-18 pre{padding: 0;}#sk-container-id-18 div.sk-toggleable {background-color: white;}#sk-container-id-18 label.sk-toggleable__label {cursor: pointer;display: block;width: 100%;margin-bottom: 0;padding: 0.3em;box-sizing: border-box;text-align: center;}#sk-container-id-18 label.sk-toggleable__label-arrow:before {content: \"▸\";float: left;margin-right: 0.25em;color: #696969;}#sk-container-id-18 label.sk-toggleable__label-arrow:hover:before {color: black;}#sk-container-id-18 div.sk-estimator:hover label.sk-toggleable__label-arrow:before {color: black;}#sk-container-id-18 div.sk-toggleable__content {max-height: 0;max-width: 0;overflow: hidden;text-align: left;background-color: #f0f8ff;}#sk-container-id-18 div.sk-toggleable__content pre {margin: 0.2em;color: black;border-radius: 0.25em;background-color: #f0f8ff;}#sk-container-id-18 input.sk-toggleable__control:checked~div.sk-toggleable__content {max-height: 200px;max-width: 100%;overflow: auto;}#sk-container-id-18 input.sk-toggleable__control:checked~label.sk-toggleable__label-arrow:before {content: \"▾\";}#sk-container-id-18 div.sk-estimator input.sk-toggleable__control:checked~label.sk-toggleable__label {background-color: #d4ebff;}#sk-container-id-18 div.sk-label input.sk-toggleable__control:checked~label.sk-toggleable__label {background-color: #d4ebff;}#sk-container-id-18 input.sk-hidden--visually {border: 0;clip: rect(1px 1px 1px 1px);clip: rect(1px, 1px, 1px, 1px);height: 1px;margin: -1px;overflow: hidden;padding: 0;position: absolute;width: 1px;}#sk-container-id-18 div.sk-estimator {font-family: monospace;background-color: #f0f8ff;border: 1px dotted black;border-radius: 0.25em;box-sizing: border-box;margin-bottom: 0.5em;}#sk-container-id-18 div.sk-estimator:hover {background-color: #d4ebff;}#sk-container-id-18 div.sk-parallel-item::after {content: \"\";width: 100%;border-bottom: 1px solid gray;flex-grow: 1;}#sk-container-id-18 div.sk-label:hover label.sk-toggleable__label {background-color: #d4ebff;}#sk-container-id-18 div.sk-serial::before {content: \"\";position: absolute;border-left: 1px solid gray;box-sizing: border-box;top: 0;bottom: 0;left: 50%;z-index: 0;}#sk-container-id-18 div.sk-serial {display: flex;flex-direction: column;align-items: center;background-color: white;padding-right: 0.2em;padding-left: 0.2em;position: relative;}#sk-container-id-18 div.sk-item {position: relative;z-index: 1;}#sk-container-id-18 div.sk-parallel {display: flex;align-items: stretch;justify-content: center;background-color: white;position: relative;}#sk-container-id-18 div.sk-item::before, #sk-container-id-18 div.sk-parallel-item::before {content: \"\";position: absolute;border-left: 1px solid gray;box-sizing: border-box;top: 0;bottom: 0;left: 50%;z-index: -1;}#sk-container-id-18 div.sk-parallel-item {display: flex;flex-direction: column;z-index: 1;position: relative;background-color: white;}#sk-container-id-18 div.sk-parallel-item:first-child::after {align-self: flex-end;width: 50%;}#sk-container-id-18 div.sk-parallel-item:last-child::after {align-self: flex-start;width: 50%;}#sk-container-id-18 div.sk-parallel-item:only-child::after {width: 0;}#sk-container-id-18 div.sk-dashed-wrapped {border: 1px dashed gray;margin: 0 0.4em 0.5em 0.4em;box-sizing: border-box;padding-bottom: 0.4em;background-color: white;}#sk-container-id-18 div.sk-label label {font-family: monospace;font-weight: bold;display: inline-block;line-height: 1.2em;}#sk-container-id-18 div.sk-label-container {text-align: center;}#sk-container-id-18 div.sk-container {/* jupyter's `normalize.less` sets `[hidden] { display: none; }` but bootstrap.min.css set `[hidden] { display: none !important; }` so we also need the `!important` here to be able to override the default hidden behavior on the sphinx rendered scikit-learn.org. See: https://github.com/scikit-learn/scikit-learn/issues/21755 */display: inline-block !important;position: relative;}#sk-container-id-18 div.sk-text-repr-fallback {display: none;}</style><div id=\"sk-container-id-18\" class=\"sk-top-container\"><div class=\"sk-text-repr-fallback\"><pre>Pipeline(steps=[(&#x27;ct&#x27;,\n",
       "                 ColumnTransformer(remainder=&#x27;passthrough&#x27;,\n",
       "                                   transformers=[(&#x27;subpipe_num&#x27;,\n",
       "                                                  Pipeline(steps=[(&#x27;ss&#x27;,\n",
       "                                                                   StandardScaler())]),\n",
       "                                                  [&#x27;Acc(X)&#x27;, &#x27;Acc(Y)&#x27;, &#x27;Acc(Z)&#x27;,\n",
       "                                                   &#x27;Rot(X)&#x27;, &#x27;Rot(Y)&#x27;, &#x27;Rot(Z)&#x27;,\n",
       "                                                   &#x27;Pitch&#x27;, &#x27;Roll&#x27;, &#x27;Yaw&#x27;]),\n",
       "                                                 (&#x27;subpipe_cat&#x27;,\n",
       "                                                  Pipeline(steps=[(&#x27;ohe&#x27;,\n",
       "                                                                   OneHotEncoder(handle_unknown=&#x27;ignore&#x27;))]),\n",
       "                                                  [&#x27;File&#x27;])])),\n",
       "                (&#x27;knn&#x27;, KNeighborsClassifier())])</pre><b>In a Jupyter environment, please rerun this cell to show the HTML representation or trust the notebook. <br />On GitHub, the HTML representation is unable to render, please try loading this page with nbviewer.org.</b></div><div class=\"sk-container\" hidden><div class=\"sk-item sk-dashed-wrapped\"><div class=\"sk-label-container\"><div class=\"sk-label sk-toggleable\"><input class=\"sk-toggleable__control sk-hidden--visually\" id=\"sk-estimator-id-86\" type=\"checkbox\" ><label for=\"sk-estimator-id-86\" class=\"sk-toggleable__label sk-toggleable__label-arrow\">Pipeline</label><div class=\"sk-toggleable__content\"><pre>Pipeline(steps=[(&#x27;ct&#x27;,\n",
       "                 ColumnTransformer(remainder=&#x27;passthrough&#x27;,\n",
       "                                   transformers=[(&#x27;subpipe_num&#x27;,\n",
       "                                                  Pipeline(steps=[(&#x27;ss&#x27;,\n",
       "                                                                   StandardScaler())]),\n",
       "                                                  [&#x27;Acc(X)&#x27;, &#x27;Acc(Y)&#x27;, &#x27;Acc(Z)&#x27;,\n",
       "                                                   &#x27;Rot(X)&#x27;, &#x27;Rot(Y)&#x27;, &#x27;Rot(Z)&#x27;,\n",
       "                                                   &#x27;Pitch&#x27;, &#x27;Roll&#x27;, &#x27;Yaw&#x27;]),\n",
       "                                                 (&#x27;subpipe_cat&#x27;,\n",
       "                                                  Pipeline(steps=[(&#x27;ohe&#x27;,\n",
       "                                                                   OneHotEncoder(handle_unknown=&#x27;ignore&#x27;))]),\n",
       "                                                  [&#x27;File&#x27;])])),\n",
       "                (&#x27;knn&#x27;, KNeighborsClassifier())])</pre></div></div></div><div class=\"sk-serial\"><div class=\"sk-item sk-dashed-wrapped\"><div class=\"sk-label-container\"><div class=\"sk-label sk-toggleable\"><input class=\"sk-toggleable__control sk-hidden--visually\" id=\"sk-estimator-id-87\" type=\"checkbox\" ><label for=\"sk-estimator-id-87\" class=\"sk-toggleable__label sk-toggleable__label-arrow\">ct: ColumnTransformer</label><div class=\"sk-toggleable__content\"><pre>ColumnTransformer(remainder=&#x27;passthrough&#x27;,\n",
       "                  transformers=[(&#x27;subpipe_num&#x27;,\n",
       "                                 Pipeline(steps=[(&#x27;ss&#x27;, StandardScaler())]),\n",
       "                                 [&#x27;Acc(X)&#x27;, &#x27;Acc(Y)&#x27;, &#x27;Acc(Z)&#x27;, &#x27;Rot(X)&#x27;,\n",
       "                                  &#x27;Rot(Y)&#x27;, &#x27;Rot(Z)&#x27;, &#x27;Pitch&#x27;, &#x27;Roll&#x27;, &#x27;Yaw&#x27;]),\n",
       "                                (&#x27;subpipe_cat&#x27;,\n",
       "                                 Pipeline(steps=[(&#x27;ohe&#x27;,\n",
       "                                                  OneHotEncoder(handle_unknown=&#x27;ignore&#x27;))]),\n",
       "                                 [&#x27;File&#x27;])])</pre></div></div></div><div class=\"sk-parallel\"><div class=\"sk-parallel-item\"><div class=\"sk-item\"><div class=\"sk-label-container\"><div class=\"sk-label sk-toggleable\"><input class=\"sk-toggleable__control sk-hidden--visually\" id=\"sk-estimator-id-88\" type=\"checkbox\" ><label for=\"sk-estimator-id-88\" class=\"sk-toggleable__label sk-toggleable__label-arrow\">subpipe_num</label><div class=\"sk-toggleable__content\"><pre>[&#x27;Acc(X)&#x27;, &#x27;Acc(Y)&#x27;, &#x27;Acc(Z)&#x27;, &#x27;Rot(X)&#x27;, &#x27;Rot(Y)&#x27;, &#x27;Rot(Z)&#x27;, &#x27;Pitch&#x27;, &#x27;Roll&#x27;, &#x27;Yaw&#x27;]</pre></div></div></div><div class=\"sk-serial\"><div class=\"sk-item\"><div class=\"sk-serial\"><div class=\"sk-item\"><div class=\"sk-estimator sk-toggleable\"><input class=\"sk-toggleable__control sk-hidden--visually\" id=\"sk-estimator-id-89\" type=\"checkbox\" ><label for=\"sk-estimator-id-89\" class=\"sk-toggleable__label sk-toggleable__label-arrow\">StandardScaler</label><div class=\"sk-toggleable__content\"><pre>StandardScaler()</pre></div></div></div></div></div></div></div></div><div class=\"sk-parallel-item\"><div class=\"sk-item\"><div class=\"sk-label-container\"><div class=\"sk-label sk-toggleable\"><input class=\"sk-toggleable__control sk-hidden--visually\" id=\"sk-estimator-id-90\" type=\"checkbox\" ><label for=\"sk-estimator-id-90\" class=\"sk-toggleable__label sk-toggleable__label-arrow\">subpipe_cat</label><div class=\"sk-toggleable__content\"><pre>[&#x27;File&#x27;]</pre></div></div></div><div class=\"sk-serial\"><div class=\"sk-item\"><div class=\"sk-serial\"><div class=\"sk-item\"><div class=\"sk-estimator sk-toggleable\"><input class=\"sk-toggleable__control sk-hidden--visually\" id=\"sk-estimator-id-91\" type=\"checkbox\" ><label for=\"sk-estimator-id-91\" class=\"sk-toggleable__label sk-toggleable__label-arrow\">OneHotEncoder</label><div class=\"sk-toggleable__content\"><pre>OneHotEncoder(handle_unknown=&#x27;ignore&#x27;)</pre></div></div></div></div></div></div></div></div><div class=\"sk-parallel-item\"><div class=\"sk-item\"><div class=\"sk-label-container\"><div class=\"sk-label sk-toggleable\"><input class=\"sk-toggleable__control sk-hidden--visually\" id=\"sk-estimator-id-92\" type=\"checkbox\" ><label for=\"sk-estimator-id-92\" class=\"sk-toggleable__label sk-toggleable__label-arrow\">remainder</label><div class=\"sk-toggleable__content\"><pre>[]</pre></div></div></div><div class=\"sk-serial\"><div class=\"sk-item\"><div class=\"sk-estimator sk-toggleable\"><input class=\"sk-toggleable__control sk-hidden--visually\" id=\"sk-estimator-id-93\" type=\"checkbox\" ><label for=\"sk-estimator-id-93\" class=\"sk-toggleable__label sk-toggleable__label-arrow\">passthrough</label><div class=\"sk-toggleable__content\"><pre>passthrough</pre></div></div></div></div></div></div></div></div><div class=\"sk-item\"><div class=\"sk-estimator sk-toggleable\"><input class=\"sk-toggleable__control sk-hidden--visually\" id=\"sk-estimator-id-94\" type=\"checkbox\" ><label for=\"sk-estimator-id-94\" class=\"sk-toggleable__label sk-toggleable__label-arrow\">KNeighborsClassifier</label><div class=\"sk-toggleable__content\"><pre>KNeighborsClassifier()</pre></div></div></div></div></div></div></div>"
      ],
      "text/plain": [
       "Pipeline(steps=[('ct',\n",
       "                 ColumnTransformer(remainder='passthrough',\n",
       "                                   transformers=[('subpipe_num',\n",
       "                                                  Pipeline(steps=[('ss',\n",
       "                                                                   StandardScaler())]),\n",
       "                                                  ['Acc(X)', 'Acc(Y)', 'Acc(Z)',\n",
       "                                                   'Rot(X)', 'Rot(Y)', 'Rot(Z)',\n",
       "                                                   'Pitch', 'Roll', 'Yaw']),\n",
       "                                                 ('subpipe_cat',\n",
       "                                                  Pipeline(steps=[('ohe',\n",
       "                                                                   OneHotEncoder(handle_unknown='ignore'))]),\n",
       "                                                  ['File'])])),\n",
       "                ('knn', KNeighborsClassifier())])"
      ]
     },
     "execution_count": 275,
     "metadata": {},
     "output_type": "execute_result"
    }
   ],
   "source": [
    "knn1_pipe.fit(X_train, y_train)"
   ]
  },
  {
   "cell_type": "code",
   "execution_count": 276,
   "id": "c604bc67",
   "metadata": {},
   "outputs": [
    {
     "data": {
      "text/plain": [
       "0.9944748417551765"
      ]
     },
     "execution_count": 276,
     "metadata": {},
     "output_type": "execute_result"
    }
   ],
   "source": [
    "knn1_pipe.score(X_train, y_train)"
   ]
  },
  {
   "cell_type": "code",
   "execution_count": 277,
   "id": "f066638a",
   "metadata": {},
   "outputs": [
    {
     "data": {
      "text/plain": [
       "0.9906125520221517"
      ]
     },
     "execution_count": 277,
     "metadata": {},
     "output_type": "execute_result"
    }
   ],
   "source": [
    "knn1_pipe_cv = cross_val_score(knn_pipe, X_train, y_train, cv=5)\n",
    "knn1_pipe_cv.mean()\n",
    "\n",
    "# good jump up to 99%+"
   ]
  },
  {
   "cell_type": "code",
   "execution_count": 304,
   "id": "ee50c3e1",
   "metadata": {},
   "outputs": [],
   "source": [
    "# saving off score as a variable\n",
    "knn1_score = knn1_pipe_cv.mean()"
   ]
  },
  {
   "cell_type": "code",
   "execution_count": 278,
   "id": "6c0045ee",
   "metadata": {},
   "outputs": [],
   "source": [
    "y_pred_knn1 = knn1_pipe.predict(X_train)"
   ]
  },
  {
   "cell_type": "code",
   "execution_count": 279,
   "id": "c34be5ce",
   "metadata": {},
   "outputs": [
    {
     "name": "stdout",
     "output_type": "stream",
     "text": [
      "              precision    recall  f1-score   support\n",
      "\n",
      "           0       0.99      1.00      1.00     22117\n",
      "           1       1.00      0.99      0.99     15167\n",
      "\n",
      "    accuracy                           0.99     37284\n",
      "   macro avg       0.99      0.99      0.99     37284\n",
      "weighted avg       0.99      0.99      0.99     37284\n",
      "\n"
     ]
    }
   ],
   "source": [
    "print(classification_report(y_train, y_pred_knn1))\n",
    "\n",
    "# overfit?"
   ]
  },
  {
   "cell_type": "code",
   "execution_count": 287,
   "id": "e336b5b5",
   "metadata": {},
   "outputs": [
    {
     "data": {
      "image/png": "[encoded data removed]",
      "text/plain": [
       "<Figure size 640x480 with 2 Axes>"
      ]
     },
     "metadata": {},
     "output_type": "display_data"
    }
   ],
   "source": [
    "skplt.metrics.plot_confusion_matrix(y_train, y_pred_knn1, normalize=True)\n",
    "plt.show()"
   ]
  },
  {
   "cell_type": "code",
   "execution_count": 305,
   "id": "4b8e19e8",
   "metadata": {},
   "outputs": [
    {
     "data": {
      "image/png": "[encoded data removed]",
      "text/plain": [
       "<Figure size 640x480 with 2 Axes>"
      ]
     },
     "metadata": {},
     "output_type": "display_data"
    }
   ],
   "source": [
    "skplt.metrics.plot_confusion_matrix(y_train, y_pred_knn1, normalize=False)\n",
    "plt.show()"
   ]
  },
  {
   "cell_type": "code",
   "execution_count": 280,
   "id": "63e536c1",
   "metadata": {},
   "outputs": [
    {
     "data": {
      "text/plain": [
       "0.99063756840509"
      ]
     },
     "execution_count": 280,
     "metadata": {},
     "output_type": "execute_result"
    }
   ],
   "source": [
    "knn1_recall = recall_score(y_train, y_pred_knn1)\n",
    "knn1_recall\n",
    "\n",
    "# very high recall too, but still with 142 false negatives (missed falls) above"
   ]
  },
  {
   "cell_type": "markdown",
   "id": "2582d3e1",
   "metadata": {},
   "source": [
    "### Tuned kNN"
   ]
  },
  {
   "cell_type": "markdown",
   "id": "10b8f4ef",
   "metadata": {},
   "source": [
    "defining n_neighbors"
   ]
  },
  {
   "cell_type": "code",
   "execution_count": 283,
   "id": "288faeee",
   "metadata": {},
   "outputs": [],
   "source": [
    "knn2_pipe = Pipeline(steps=[('ct', CT),\n",
    "                            ('knn2', KNeighborsClassifier(n_neighbors=3))])"
   ]
  },
  {
   "cell_type": "code",
   "execution_count": 284,
   "id": "05fcb6e8",
   "metadata": {},
   "outputs": [
    {
     "data": {
      "text/html": [
       "<style>#sk-container-id-19 {color: black;background-color: white;}#sk-container-id-19 pre{padding: 0;}#sk-container-id-19 div.sk-toggleable {background-color: white;}#sk-container-id-19 label.sk-toggleable__label {cursor: pointer;display: block;width: 100%;margin-bottom: 0;padding: 0.3em;box-sizing: border-box;text-align: center;}#sk-container-id-19 label.sk-toggleable__label-arrow:before {content: \"▸\";float: left;margin-right: 0.25em;color: #696969;}#sk-container-id-19 label.sk-toggleable__label-arrow:hover:before {color: black;}#sk-container-id-19 div.sk-estimator:hover label.sk-toggleable__label-arrow:before {color: black;}#sk-container-id-19 div.sk-toggleable__content {max-height: 0;max-width: 0;overflow: hidden;text-align: left;background-color: #f0f8ff;}#sk-container-id-19 div.sk-toggleable__content pre {margin: 0.2em;color: black;border-radius: 0.25em;background-color: #f0f8ff;}#sk-container-id-19 input.sk-toggleable__control:checked~div.sk-toggleable__content {max-height: 200px;max-width: 100%;overflow: auto;}#sk-container-id-19 input.sk-toggleable__control:checked~label.sk-toggleable__label-arrow:before {content: \"▾\";}#sk-container-id-19 div.sk-estimator input.sk-toggleable__control:checked~label.sk-toggleable__label {background-color: #d4ebff;}#sk-container-id-19 div.sk-label input.sk-toggleable__control:checked~label.sk-toggleable__label {background-color: #d4ebff;}#sk-container-id-19 input.sk-hidden--visually {border: 0;clip: rect(1px 1px 1px 1px);clip: rect(1px, 1px, 1px, 1px);height: 1px;margin: -1px;overflow: hidden;padding: 0;position: absolute;width: 1px;}#sk-container-id-19 div.sk-estimator {font-family: monospace;background-color: #f0f8ff;border: 1px dotted black;border-radius: 0.25em;box-sizing: border-box;margin-bottom: 0.5em;}#sk-container-id-19 div.sk-estimator:hover {background-color: #d4ebff;}#sk-container-id-19 div.sk-parallel-item::after {content: \"\";width: 100%;border-bottom: 1px solid gray;flex-grow: 1;}#sk-container-id-19 div.sk-label:hover label.sk-toggleable__label {background-color: #d4ebff;}#sk-container-id-19 div.sk-serial::before {content: \"\";position: absolute;border-left: 1px solid gray;box-sizing: border-box;top: 0;bottom: 0;left: 50%;z-index: 0;}#sk-container-id-19 div.sk-serial {display: flex;flex-direction: column;align-items: center;background-color: white;padding-right: 0.2em;padding-left: 0.2em;position: relative;}#sk-container-id-19 div.sk-item {position: relative;z-index: 1;}#sk-container-id-19 div.sk-parallel {display: flex;align-items: stretch;justify-content: center;background-color: white;position: relative;}#sk-container-id-19 div.sk-item::before, #sk-container-id-19 div.sk-parallel-item::before {content: \"\";position: absolute;border-left: 1px solid gray;box-sizing: border-box;top: 0;bottom: 0;left: 50%;z-index: -1;}#sk-container-id-19 div.sk-parallel-item {display: flex;flex-direction: column;z-index: 1;position: relative;background-color: white;}#sk-container-id-19 div.sk-parallel-item:first-child::after {align-self: flex-end;width: 50%;}#sk-container-id-19 div.sk-parallel-item:last-child::after {align-self: flex-start;width: 50%;}#sk-container-id-19 div.sk-parallel-item:only-child::after {width: 0;}#sk-container-id-19 div.sk-dashed-wrapped {border: 1px dashed gray;margin: 0 0.4em 0.5em 0.4em;box-sizing: border-box;padding-bottom: 0.4em;background-color: white;}#sk-container-id-19 div.sk-label label {font-family: monospace;font-weight: bold;display: inline-block;line-height: 1.2em;}#sk-container-id-19 div.sk-label-container {text-align: center;}#sk-container-id-19 div.sk-container {/* jupyter's `normalize.less` sets `[hidden] { display: none; }` but bootstrap.min.css set `[hidden] { display: none !important; }` so we also need the `!important` here to be able to override the default hidden behavior on the sphinx rendered scikit-learn.org. See: https://github.com/scikit-learn/scikit-learn/issues/21755 */display: inline-block !important;position: relative;}#sk-container-id-19 div.sk-text-repr-fallback {display: none;}</style><div id=\"sk-container-id-19\" class=\"sk-top-container\"><div class=\"sk-text-repr-fallback\"><pre>Pipeline(steps=[(&#x27;ct&#x27;,\n",
       "                 ColumnTransformer(remainder=&#x27;passthrough&#x27;,\n",
       "                                   transformers=[(&#x27;subpipe_num&#x27;,\n",
       "                                                  Pipeline(steps=[(&#x27;ss&#x27;,\n",
       "                                                                   StandardScaler())]),\n",
       "                                                  [&#x27;Acc(X)&#x27;, &#x27;Acc(Y)&#x27;, &#x27;Acc(Z)&#x27;,\n",
       "                                                   &#x27;Rot(X)&#x27;, &#x27;Rot(Y)&#x27;, &#x27;Rot(Z)&#x27;,\n",
       "                                                   &#x27;Pitch&#x27;, &#x27;Roll&#x27;, &#x27;Yaw&#x27;]),\n",
       "                                                 (&#x27;subpipe_cat&#x27;,\n",
       "                                                  Pipeline(steps=[(&#x27;ohe&#x27;,\n",
       "                                                                   OneHotEncoder(handle_unknown=&#x27;ignore&#x27;))]),\n",
       "                                                  [&#x27;File&#x27;])])),\n",
       "                (&#x27;knn2&#x27;, KNeighborsClassifier(n_neighbors=3))])</pre><b>In a Jupyter environment, please rerun this cell to show the HTML representation or trust the notebook. <br />On GitHub, the HTML representation is unable to render, please try loading this page with nbviewer.org.</b></div><div class=\"sk-container\" hidden><div class=\"sk-item sk-dashed-wrapped\"><div class=\"sk-label-container\"><div class=\"sk-label sk-toggleable\"><input class=\"sk-toggleable__control sk-hidden--visually\" id=\"sk-estimator-id-95\" type=\"checkbox\" ><label for=\"sk-estimator-id-95\" class=\"sk-toggleable__label sk-toggleable__label-arrow\">Pipeline</label><div class=\"sk-toggleable__content\"><pre>Pipeline(steps=[(&#x27;ct&#x27;,\n",
       "                 ColumnTransformer(remainder=&#x27;passthrough&#x27;,\n",
       "                                   transformers=[(&#x27;subpipe_num&#x27;,\n",
       "                                                  Pipeline(steps=[(&#x27;ss&#x27;,\n",
       "                                                                   StandardScaler())]),\n",
       "                                                  [&#x27;Acc(X)&#x27;, &#x27;Acc(Y)&#x27;, &#x27;Acc(Z)&#x27;,\n",
       "                                                   &#x27;Rot(X)&#x27;, &#x27;Rot(Y)&#x27;, &#x27;Rot(Z)&#x27;,\n",
       "                                                   &#x27;Pitch&#x27;, &#x27;Roll&#x27;, &#x27;Yaw&#x27;]),\n",
       "                                                 (&#x27;subpipe_cat&#x27;,\n",
       "                                                  Pipeline(steps=[(&#x27;ohe&#x27;,\n",
       "                                                                   OneHotEncoder(handle_unknown=&#x27;ignore&#x27;))]),\n",
       "                                                  [&#x27;File&#x27;])])),\n",
       "                (&#x27;knn2&#x27;, KNeighborsClassifier(n_neighbors=3))])</pre></div></div></div><div class=\"sk-serial\"><div class=\"sk-item sk-dashed-wrapped\"><div class=\"sk-label-container\"><div class=\"sk-label sk-toggleable\"><input class=\"sk-toggleable__control sk-hidden--visually\" id=\"sk-estimator-id-96\" type=\"checkbox\" ><label for=\"sk-estimator-id-96\" class=\"sk-toggleable__label sk-toggleable__label-arrow\">ct: ColumnTransformer</label><div class=\"sk-toggleable__content\"><pre>ColumnTransformer(remainder=&#x27;passthrough&#x27;,\n",
       "                  transformers=[(&#x27;subpipe_num&#x27;,\n",
       "                                 Pipeline(steps=[(&#x27;ss&#x27;, StandardScaler())]),\n",
       "                                 [&#x27;Acc(X)&#x27;, &#x27;Acc(Y)&#x27;, &#x27;Acc(Z)&#x27;, &#x27;Rot(X)&#x27;,\n",
       "                                  &#x27;Rot(Y)&#x27;, &#x27;Rot(Z)&#x27;, &#x27;Pitch&#x27;, &#x27;Roll&#x27;, &#x27;Yaw&#x27;]),\n",
       "                                (&#x27;subpipe_cat&#x27;,\n",
       "                                 Pipeline(steps=[(&#x27;ohe&#x27;,\n",
       "                                                  OneHotEncoder(handle_unknown=&#x27;ignore&#x27;))]),\n",
       "                                 [&#x27;File&#x27;])])</pre></div></div></div><div class=\"sk-parallel\"><div class=\"sk-parallel-item\"><div class=\"sk-item\"><div class=\"sk-label-container\"><div class=\"sk-label sk-toggleable\"><input class=\"sk-toggleable__control sk-hidden--visually\" id=\"sk-estimator-id-97\" type=\"checkbox\" ><label for=\"sk-estimator-id-97\" class=\"sk-toggleable__label sk-toggleable__label-arrow\">subpipe_num</label><div class=\"sk-toggleable__content\"><pre>[&#x27;Acc(X)&#x27;, &#x27;Acc(Y)&#x27;, &#x27;Acc(Z)&#x27;, &#x27;Rot(X)&#x27;, &#x27;Rot(Y)&#x27;, &#x27;Rot(Z)&#x27;, &#x27;Pitch&#x27;, &#x27;Roll&#x27;, &#x27;Yaw&#x27;]</pre></div></div></div><div class=\"sk-serial\"><div class=\"sk-item\"><div class=\"sk-serial\"><div class=\"sk-item\"><div class=\"sk-estimator sk-toggleable\"><input class=\"sk-toggleable__control sk-hidden--visually\" id=\"sk-estimator-id-98\" type=\"checkbox\" ><label for=\"sk-estimator-id-98\" class=\"sk-toggleable__label sk-toggleable__label-arrow\">StandardScaler</label><div class=\"sk-toggleable__content\"><pre>StandardScaler()</pre></div></div></div></div></div></div></div></div><div class=\"sk-parallel-item\"><div class=\"sk-item\"><div class=\"sk-label-container\"><div class=\"sk-label sk-toggleable\"><input class=\"sk-toggleable__control sk-hidden--visually\" id=\"sk-estimator-id-99\" type=\"checkbox\" ><label for=\"sk-estimator-id-99\" class=\"sk-toggleable__label sk-toggleable__label-arrow\">subpipe_cat</label><div class=\"sk-toggleable__content\"><pre>[&#x27;File&#x27;]</pre></div></div></div><div class=\"sk-serial\"><div class=\"sk-item\"><div class=\"sk-serial\"><div class=\"sk-item\"><div class=\"sk-estimator sk-toggleable\"><input class=\"sk-toggleable__control sk-hidden--visually\" id=\"sk-estimator-id-100\" type=\"checkbox\" ><label for=\"sk-estimator-id-100\" class=\"sk-toggleable__label sk-toggleable__label-arrow\">OneHotEncoder</label><div class=\"sk-toggleable__content\"><pre>OneHotEncoder(handle_unknown=&#x27;ignore&#x27;)</pre></div></div></div></div></div></div></div></div><div class=\"sk-parallel-item\"><div class=\"sk-item\"><div class=\"sk-label-container\"><div class=\"sk-label sk-toggleable\"><input class=\"sk-toggleable__control sk-hidden--visually\" id=\"sk-estimator-id-101\" type=\"checkbox\" ><label for=\"sk-estimator-id-101\" class=\"sk-toggleable__label sk-toggleable__label-arrow\">remainder</label><div class=\"sk-toggleable__content\"><pre>[]</pre></div></div></div><div class=\"sk-serial\"><div class=\"sk-item\"><div class=\"sk-estimator sk-toggleable\"><input class=\"sk-toggleable__control sk-hidden--visually\" id=\"sk-estimator-id-102\" type=\"checkbox\" ><label for=\"sk-estimator-id-102\" class=\"sk-toggleable__label sk-toggleable__label-arrow\">passthrough</label><div class=\"sk-toggleable__content\"><pre>passthrough</pre></div></div></div></div></div></div></div></div><div class=\"sk-item\"><div class=\"sk-estimator sk-toggleable\"><input class=\"sk-toggleable__control sk-hidden--visually\" id=\"sk-estimator-id-103\" type=\"checkbox\" ><label for=\"sk-estimator-id-103\" class=\"sk-toggleable__label sk-toggleable__label-arrow\">KNeighborsClassifier</label><div class=\"sk-toggleable__content\"><pre>KNeighborsClassifier(n_neighbors=3)</pre></div></div></div></div></div></div></div>"
      ],
      "text/plain": [
       "Pipeline(steps=[('ct',\n",
       "                 ColumnTransformer(remainder='passthrough',\n",
       "                                   transformers=[('subpipe_num',\n",
       "                                                  Pipeline(steps=[('ss',\n",
       "                                                                   StandardScaler())]),\n",
       "                                                  ['Acc(X)', 'Acc(Y)', 'Acc(Z)',\n",
       "                                                   'Rot(X)', 'Rot(Y)', 'Rot(Z)',\n",
       "                                                   'Pitch', 'Roll', 'Yaw']),\n",
       "                                                 ('subpipe_cat',\n",
       "                                                  Pipeline(steps=[('ohe',\n",
       "                                                                   OneHotEncoder(handle_unknown='ignore'))]),\n",
       "                                                  ['File'])])),\n",
       "                ('knn2', KNeighborsClassifier(n_neighbors=3))])"
      ]
     },
     "execution_count": 284,
     "metadata": {},
     "output_type": "execute_result"
    }
   ],
   "source": [
    "knn2_pipe.fit(X_train, y_train)"
   ]
  },
  {
   "cell_type": "code",
   "execution_count": 285,
   "id": "5be04bd9",
   "metadata": {},
   "outputs": [
    {
     "data": {
      "text/plain": [
       "0.9965937131209097"
      ]
     },
     "execution_count": 285,
     "metadata": {},
     "output_type": "execute_result"
    }
   ],
   "source": [
    "knn2_pipe.score(X_train, y_train)"
   ]
  },
  {
   "cell_type": "code",
   "execution_count": 286,
   "id": "28209e9e",
   "metadata": {},
   "outputs": [
    {
     "data": {
      "text/plain": [
       "0.991497673211966"
      ]
     },
     "execution_count": 286,
     "metadata": {},
     "output_type": "execute_result"
    }
   ],
   "source": [
    "knn2_pipe_cv = cross_val_score(knn2_pipe, X_train, y_train, cv=5)\n",
    "knn2_pipe_cv.mean()"
   ]
  },
  {
   "cell_type": "code",
   "execution_count": 306,
   "id": "898badd0",
   "metadata": {},
   "outputs": [],
   "source": [
    "knn2_score = knn2_pipe_cv.mean()"
   ]
  },
  {
   "cell_type": "code",
   "execution_count": 307,
   "id": "70ff2b54",
   "metadata": {},
   "outputs": [],
   "source": [
    "y_pred_knn2 = knn2_pipe.predict(X_train)"
   ]
  },
  {
   "cell_type": "code",
   "execution_count": 308,
   "id": "55a4e4b2",
   "metadata": {},
   "outputs": [
    {
     "name": "stdout",
     "output_type": "stream",
     "text": [
      "              precision    recall  f1-score   support\n",
      "\n",
      "           0       1.00      1.00      1.00     22117\n",
      "           1       1.00      0.99      1.00     15167\n",
      "\n",
      "    accuracy                           1.00     37284\n",
      "   macro avg       1.00      1.00      1.00     37284\n",
      "weighted avg       1.00      1.00      1.00     37284\n",
      "\n"
     ]
    }
   ],
   "source": [
    "print(classification_report(y_train, y_pred_knn2))"
   ]
  },
  {
   "cell_type": "code",
   "execution_count": 309,
   "id": "73dfa62a",
   "metadata": {},
   "outputs": [
    {
     "data": {
      "image/png": "[encoded data removed]",
      "text/plain": [
       "<Figure size 640x480 with 2 Axes>"
      ]
     },
     "metadata": {},
     "output_type": "display_data"
    }
   ],
   "source": [
    "skplt.metrics.plot_confusion_matrix(y_train, y_pred_knn2, normalize=True)\n",
    "plt.show()"
   ]
  },
  {
   "cell_type": "code",
   "execution_count": 311,
   "id": "d5a55a9c",
   "metadata": {},
   "outputs": [
    {
     "data": {
      "image/png": "[encoded data removed]",
      "text/plain": [
       "<Figure size 640x480 with 2 Axes>"
      ]
     },
     "metadata": {},
     "output_type": "display_data"
    }
   ],
   "source": [
    "skplt.metrics.plot_confusion_matrix(y_train, y_pred_knn2, normalize=False)\n",
    "plt.show()"
   ]
  },
  {
   "cell_type": "code",
   "execution_count": 312,
   "id": "c2e9487c",
   "metadata": {},
   "outputs": [
    {
     "data": {
      "text/plain": [
       "0.9943957275664271"
      ]
     },
     "execution_count": 312,
     "metadata": {},
     "output_type": "execute_result"
    }
   ],
   "source": [
    "# false negatives down from 142 to 85, and false positives decreased as well\n",
    "\n",
    "knn2_recall = recall_score(y_train, y_pred_knn2)\n",
    "knn2_recall"
   ]
  },
  {
   "cell_type": "markdown",
   "id": "183c9d99",
   "metadata": {},
   "source": [
    "This model seems to perform very well. Do I keep going? "
   ]
  },
  {
   "cell_type": "code",
   "execution_count": null,
   "id": "a50f7251",
   "metadata": {},
   "outputs": [],
   "source": [
    "# Copy df_all, drop timestamp and file, do train-test split, \n",
    "# and then UNsupervised learning?"
   ]
  },
  {
   "cell_type": "code",
   "execution_count": null,
   "id": "fef52666",
   "metadata": {},
   "outputs": [],
   "source": []
  },
  {
   "cell_type": "code",
   "execution_count": null,
   "id": "860d780f",
   "metadata": {},
   "outputs": [],
   "source": []
  },
  {
   "cell_type": "code",
   "execution_count": null,
   "id": "8c21f748",
   "metadata": {},
   "outputs": [],
   "source": [
    "# DT"
   ]
  },
  {
   "cell_type": "code",
   "execution_count": null,
   "id": "42c7160c",
   "metadata": {},
   "outputs": [],
   "source": [
    "# RF"
   ]
  },
  {
   "cell_type": "code",
   "execution_count": null,
   "id": "40530adc",
   "metadata": {},
   "outputs": [],
   "source": [
    "# GS"
   ]
  },
  {
   "cell_type": "code",
   "execution_count": null,
   "id": "b05e3388",
   "metadata": {},
   "outputs": [],
   "source": []
  },
  {
   "cell_type": "code",
   "execution_count": null,
   "id": "458140a7",
   "metadata": {},
   "outputs": [],
   "source": []
  },
  {
   "cell_type": "code",
   "execution_count": null,
   "id": "d404e1fa",
   "metadata": {},
   "outputs": [],
   "source": []
  },
  {
   "cell_type": "code",
   "execution_count": null,
   "id": "2fc33e14",
   "metadata": {},
   "outputs": [],
   "source": []
  },
  {
   "cell_type": "code",
   "execution_count": null,
   "id": "69a96141",
   "metadata": {},
   "outputs": [],
   "source": []
  },
  {
   "cell_type": "code",
   "execution_count": null,
   "id": "3afeda8e",
   "metadata": {},
   "outputs": [],
   "source": []
  },
  {
   "cell_type": "code",
   "execution_count": null,
   "id": "1c7a1e42",
   "metadata": {},
   "outputs": [],
   "source": []
  },
  {
   "cell_type": "code",
   "execution_count": null,
   "id": "ab333cf8",
   "metadata": {},
   "outputs": [],
   "source": []
  },
  {
   "cell_type": "code",
   "execution_count": null,
   "id": "54b4bd1d",
   "metadata": {},
   "outputs": [],
   "source": []
  },
  {
   "cell_type": "markdown",
   "id": "e17332ec",
   "metadata": {},
   "source": [
    "# Evaluation"
   ]
  },
  {
   "cell_type": "markdown",
   "id": "ba36f175",
   "metadata": {},
   "source": [
    "My chosen metrics for evaluation are accuracy and recall (aiming to reduce false negatives, therefore catching almost all or all of the falls that occurred in the data).  The MVP involves finding the best model with the highest accuracy and recall possible in a reasonable timeframe with the computational resources I have available.  The smaller project I hope to accomplish this first week is to get through Random Forest models and into Grid Searching to optimize those models.  XG boosting will likely have to wait until next week.  For a level up, I am considering deploying the best model with examples and explanations via Streamlit"
   ]
  },
  {
   "cell_type": "markdown",
   "id": "8fdd98ba",
   "metadata": {},
   "source": [
    "# Summary"
   ]
  },
  {
   "cell_type": "code",
   "execution_count": null,
   "id": "e5521840",
   "metadata": {},
   "outputs": [],
   "source": []
  },
  {
   "cell_type": "code",
   "execution_count": null,
   "id": "8c805f72",
   "metadata": {},
   "outputs": [],
   "source": []
  },
  {
   "cell_type": "code",
   "execution_count": null,
   "id": "29953906",
   "metadata": {},
   "outputs": [],
   "source": []
  }
 ],
 "metadata": {
  "kernelspec": {
   "display_name": "streamlit_09",
   "language": "python",
   "name": "streamlit_09"
  },
  "language_info": {
   "codemirror_mode": {
    "name": "ipython",
    "version": 3
   },
   "file_extension": ".py",
   "mimetype": "text/x-python",
   "name": "python",
   "nbconvert_exporter": "python",
   "pygments_lexer": "ipython3",
   "version": "3.10.8"
  }
 },
 "nbformat": 4,
 "nbformat_minor": 5
}
